{
 "cells": [
  {
   "cell_type": "markdown",
   "id": "9a51e024",
   "metadata": {},
   "source": [
    "# Import"
   ]
  },
  {
   "cell_type": "code",
   "execution_count": 1,
   "id": "83457309",
   "metadata": {},
   "outputs": [],
   "source": [
    "import json\n",
    "import pandas as pd\n",
    "import numpy as np\n",
    "# import spacy\n",
    "import matplotlib.pyplot as plt\n",
    "import ast\n",
    "\n",
    "pd.set_option('display.max_colwidth', None)"
   ]
  },
  {
   "cell_type": "code",
   "execution_count": 2,
   "id": "79e5435c",
   "metadata": {},
   "outputs": [],
   "source": [
    "from datasets import concatenate_datasets, load_dataset\n",
    "from datasets import Dataset, DatasetDict"
   ]
  },
  {
   "cell_type": "code",
   "execution_count": 3,
   "id": "d7017bfb",
   "metadata": {},
   "outputs": [],
   "source": [
    "import openai\n",
    "import os\n",
    "import pandas as pd\n",
    "import time\n",
    "\n",
    "openai.api_key = \"EMPTY\" # Not support yet\n",
    "openai.api_base = \"http://localhost:8000/v1\"\n",
    "\n",
    "model = \"vicuna-7b-v1.3\"\n",
    "prompt = \"Once upon a time\""
   ]
  },
  {
   "cell_type": "code",
   "execution_count": 24,
   "id": "2968e073",
   "metadata": {},
   "outputs": [
    {
     "ename": "KeyboardInterrupt",
     "evalue": "",
     "output_type": "error",
     "traceback": [
      "\u001b[0;31m---------------------------------------------------------------------------\u001b[0m",
      "\u001b[0;31mKeyboardInterrupt\u001b[0m                         Traceback (most recent call last)",
      "Input \u001b[0;32mIn [24]\u001b[0m, in \u001b[0;36m<cell line: 2>\u001b[0;34m()\u001b[0m\n\u001b[1;32m      1\u001b[0m \u001b[38;5;66;03m# create a completion\u001b[39;00m\n\u001b[0;32m----> 2\u001b[0m completion \u001b[38;5;241m=\u001b[39m \u001b[43mopenai\u001b[49m\u001b[38;5;241;43m.\u001b[39;49m\u001b[43mCompletion\u001b[49m\u001b[38;5;241;43m.\u001b[39;49m\u001b[43mcreate\u001b[49m\u001b[43m(\u001b[49m\u001b[43mmodel\u001b[49m\u001b[38;5;241;43m=\u001b[39;49m\u001b[43mmodel\u001b[49m\u001b[43m,\u001b[49m\u001b[43m \u001b[49m\u001b[43mprompt\u001b[49m\u001b[38;5;241;43m=\u001b[39;49m\u001b[43mprompt\u001b[49m\u001b[43m,\u001b[49m\u001b[43m \u001b[49m\u001b[43mmax_tokens\u001b[49m\u001b[38;5;241;43m=\u001b[39;49m\u001b[38;5;241;43m64\u001b[39;49m\u001b[43m)\u001b[49m\n\u001b[1;32m      3\u001b[0m \u001b[38;5;66;03m# print the completion\u001b[39;00m\n\u001b[1;32m      4\u001b[0m \u001b[38;5;28mprint\u001b[39m(prompt \u001b[38;5;241m+\u001b[39m completion\u001b[38;5;241m.\u001b[39mchoices[\u001b[38;5;241m0\u001b[39m]\u001b[38;5;241m.\u001b[39mtext)\n",
      "File \u001b[0;32m~/anaconda3/envs/deep_learning_env_2/lib/python3.9/site-packages/openai/api_resources/completion.py:25\u001b[0m, in \u001b[0;36mCompletion.create\u001b[0;34m(cls, *args, **kwargs)\u001b[0m\n\u001b[1;32m     23\u001b[0m \u001b[38;5;28;01mwhile\u001b[39;00m \u001b[38;5;28;01mTrue\u001b[39;00m:\n\u001b[1;32m     24\u001b[0m     \u001b[38;5;28;01mtry\u001b[39;00m:\n\u001b[0;32m---> 25\u001b[0m         \u001b[38;5;28;01mreturn\u001b[39;00m \u001b[38;5;28;43msuper\u001b[39;49m\u001b[43m(\u001b[49m\u001b[43m)\u001b[49m\u001b[38;5;241;43m.\u001b[39;49m\u001b[43mcreate\u001b[49m\u001b[43m(\u001b[49m\u001b[38;5;241;43m*\u001b[39;49m\u001b[43margs\u001b[49m\u001b[43m,\u001b[49m\u001b[43m \u001b[49m\u001b[38;5;241;43m*\u001b[39;49m\u001b[38;5;241;43m*\u001b[39;49m\u001b[43mkwargs\u001b[49m\u001b[43m)\u001b[49m\n\u001b[1;32m     26\u001b[0m     \u001b[38;5;28;01mexcept\u001b[39;00m TryAgain \u001b[38;5;28;01mas\u001b[39;00m e:\n\u001b[1;32m     27\u001b[0m         \u001b[38;5;28;01mif\u001b[39;00m timeout \u001b[38;5;129;01mis\u001b[39;00m \u001b[38;5;129;01mnot\u001b[39;00m \u001b[38;5;28;01mNone\u001b[39;00m \u001b[38;5;129;01mand\u001b[39;00m time\u001b[38;5;241m.\u001b[39mtime() \u001b[38;5;241m>\u001b[39m start \u001b[38;5;241m+\u001b[39m timeout:\n",
      "File \u001b[0;32m~/anaconda3/envs/deep_learning_env_2/lib/python3.9/site-packages/openai/api_resources/abstract/engine_api_resource.py:153\u001b[0m, in \u001b[0;36mEngineAPIResource.create\u001b[0;34m(cls, api_key, api_base, api_type, request_id, api_version, organization, **params)\u001b[0m\n\u001b[1;32m    127\u001b[0m \u001b[38;5;129m@classmethod\u001b[39m\n\u001b[1;32m    128\u001b[0m \u001b[38;5;28;01mdef\u001b[39;00m \u001b[38;5;21mcreate\u001b[39m(\n\u001b[1;32m    129\u001b[0m     \u001b[38;5;28mcls\u001b[39m,\n\u001b[0;32m   (...)\u001b[0m\n\u001b[1;32m    136\u001b[0m     \u001b[38;5;241m*\u001b[39m\u001b[38;5;241m*\u001b[39mparams,\n\u001b[1;32m    137\u001b[0m ):\n\u001b[1;32m    138\u001b[0m     (\n\u001b[1;32m    139\u001b[0m         deployment_id,\n\u001b[1;32m    140\u001b[0m         engine,\n\u001b[0;32m   (...)\u001b[0m\n\u001b[1;32m    150\u001b[0m         api_key, api_base, api_type, api_version, organization, \u001b[38;5;241m*\u001b[39m\u001b[38;5;241m*\u001b[39mparams\n\u001b[1;32m    151\u001b[0m     )\n\u001b[0;32m--> 153\u001b[0m     response, _, api_key \u001b[38;5;241m=\u001b[39m \u001b[43mrequestor\u001b[49m\u001b[38;5;241;43m.\u001b[39;49m\u001b[43mrequest\u001b[49m\u001b[43m(\u001b[49m\n\u001b[1;32m    154\u001b[0m \u001b[43m        \u001b[49m\u001b[38;5;124;43m\"\u001b[39;49m\u001b[38;5;124;43mpost\u001b[39;49m\u001b[38;5;124;43m\"\u001b[39;49m\u001b[43m,\u001b[49m\n\u001b[1;32m    155\u001b[0m \u001b[43m        \u001b[49m\u001b[43murl\u001b[49m\u001b[43m,\u001b[49m\n\u001b[1;32m    156\u001b[0m \u001b[43m        \u001b[49m\u001b[43mparams\u001b[49m\u001b[38;5;241;43m=\u001b[39;49m\u001b[43mparams\u001b[49m\u001b[43m,\u001b[49m\n\u001b[1;32m    157\u001b[0m \u001b[43m        \u001b[49m\u001b[43mheaders\u001b[49m\u001b[38;5;241;43m=\u001b[39;49m\u001b[43mheaders\u001b[49m\u001b[43m,\u001b[49m\n\u001b[1;32m    158\u001b[0m \u001b[43m        \u001b[49m\u001b[43mstream\u001b[49m\u001b[38;5;241;43m=\u001b[39;49m\u001b[43mstream\u001b[49m\u001b[43m,\u001b[49m\n\u001b[1;32m    159\u001b[0m \u001b[43m        \u001b[49m\u001b[43mrequest_id\u001b[49m\u001b[38;5;241;43m=\u001b[39;49m\u001b[43mrequest_id\u001b[49m\u001b[43m,\u001b[49m\n\u001b[1;32m    160\u001b[0m \u001b[43m        \u001b[49m\u001b[43mrequest_timeout\u001b[49m\u001b[38;5;241;43m=\u001b[39;49m\u001b[43mrequest_timeout\u001b[49m\u001b[43m,\u001b[49m\n\u001b[1;32m    161\u001b[0m \u001b[43m    \u001b[49m\u001b[43m)\u001b[49m\n\u001b[1;32m    163\u001b[0m     \u001b[38;5;28;01mif\u001b[39;00m stream:\n\u001b[1;32m    164\u001b[0m         \u001b[38;5;66;03m# must be an iterator\u001b[39;00m\n\u001b[1;32m    165\u001b[0m         \u001b[38;5;28;01massert\u001b[39;00m \u001b[38;5;129;01mnot\u001b[39;00m \u001b[38;5;28misinstance\u001b[39m(response, OpenAIResponse)\n",
      "File \u001b[0;32m~/anaconda3/envs/deep_learning_env_2/lib/python3.9/site-packages/openai/api_requestor.py:288\u001b[0m, in \u001b[0;36mAPIRequestor.request\u001b[0;34m(self, method, url, params, headers, files, stream, request_id, request_timeout)\u001b[0m\n\u001b[1;32m    277\u001b[0m \u001b[38;5;28;01mdef\u001b[39;00m \u001b[38;5;21mrequest\u001b[39m(\n\u001b[1;32m    278\u001b[0m     \u001b[38;5;28mself\u001b[39m,\n\u001b[1;32m    279\u001b[0m     method,\n\u001b[0;32m   (...)\u001b[0m\n\u001b[1;32m    286\u001b[0m     request_timeout: Optional[Union[\u001b[38;5;28mfloat\u001b[39m, Tuple[\u001b[38;5;28mfloat\u001b[39m, \u001b[38;5;28mfloat\u001b[39m]]] \u001b[38;5;241m=\u001b[39m \u001b[38;5;28;01mNone\u001b[39;00m,\n\u001b[1;32m    287\u001b[0m ) \u001b[38;5;241m-\u001b[39m\u001b[38;5;241m>\u001b[39m Tuple[Union[OpenAIResponse, Iterator[OpenAIResponse]], \u001b[38;5;28mbool\u001b[39m, \u001b[38;5;28mstr\u001b[39m]:\n\u001b[0;32m--> 288\u001b[0m     result \u001b[38;5;241m=\u001b[39m \u001b[38;5;28;43mself\u001b[39;49m\u001b[38;5;241;43m.\u001b[39;49m\u001b[43mrequest_raw\u001b[49m\u001b[43m(\u001b[49m\n\u001b[1;32m    289\u001b[0m \u001b[43m        \u001b[49m\u001b[43mmethod\u001b[49m\u001b[38;5;241;43m.\u001b[39;49m\u001b[43mlower\u001b[49m\u001b[43m(\u001b[49m\u001b[43m)\u001b[49m\u001b[43m,\u001b[49m\n\u001b[1;32m    290\u001b[0m \u001b[43m        \u001b[49m\u001b[43murl\u001b[49m\u001b[43m,\u001b[49m\n\u001b[1;32m    291\u001b[0m \u001b[43m        \u001b[49m\u001b[43mparams\u001b[49m\u001b[38;5;241;43m=\u001b[39;49m\u001b[43mparams\u001b[49m\u001b[43m,\u001b[49m\n\u001b[1;32m    292\u001b[0m \u001b[43m        \u001b[49m\u001b[43msupplied_headers\u001b[49m\u001b[38;5;241;43m=\u001b[39;49m\u001b[43mheaders\u001b[49m\u001b[43m,\u001b[49m\n\u001b[1;32m    293\u001b[0m \u001b[43m        \u001b[49m\u001b[43mfiles\u001b[49m\u001b[38;5;241;43m=\u001b[39;49m\u001b[43mfiles\u001b[49m\u001b[43m,\u001b[49m\n\u001b[1;32m    294\u001b[0m \u001b[43m        \u001b[49m\u001b[43mstream\u001b[49m\u001b[38;5;241;43m=\u001b[39;49m\u001b[43mstream\u001b[49m\u001b[43m,\u001b[49m\n\u001b[1;32m    295\u001b[0m \u001b[43m        \u001b[49m\u001b[43mrequest_id\u001b[49m\u001b[38;5;241;43m=\u001b[39;49m\u001b[43mrequest_id\u001b[49m\u001b[43m,\u001b[49m\n\u001b[1;32m    296\u001b[0m \u001b[43m        \u001b[49m\u001b[43mrequest_timeout\u001b[49m\u001b[38;5;241;43m=\u001b[39;49m\u001b[43mrequest_timeout\u001b[49m\u001b[43m,\u001b[49m\n\u001b[1;32m    297\u001b[0m \u001b[43m    \u001b[49m\u001b[43m)\u001b[49m\n\u001b[1;32m    298\u001b[0m     resp, got_stream \u001b[38;5;241m=\u001b[39m \u001b[38;5;28mself\u001b[39m\u001b[38;5;241m.\u001b[39m_interpret_response(result, stream)\n\u001b[1;32m    299\u001b[0m     \u001b[38;5;28;01mreturn\u001b[39;00m resp, got_stream, \u001b[38;5;28mself\u001b[39m\u001b[38;5;241m.\u001b[39mapi_key\n",
      "File \u001b[0;32m~/anaconda3/envs/deep_learning_env_2/lib/python3.9/site-packages/openai/api_requestor.py:596\u001b[0m, in \u001b[0;36mAPIRequestor.request_raw\u001b[0;34m(self, method, url, params, supplied_headers, files, stream, request_id, request_timeout)\u001b[0m\n\u001b[1;32m    594\u001b[0m     _thread_context\u001b[38;5;241m.\u001b[39msession_create_time \u001b[38;5;241m=\u001b[39m time\u001b[38;5;241m.\u001b[39mtime()\n\u001b[1;32m    595\u001b[0m \u001b[38;5;28;01mtry\u001b[39;00m:\n\u001b[0;32m--> 596\u001b[0m     result \u001b[38;5;241m=\u001b[39m \u001b[43m_thread_context\u001b[49m\u001b[38;5;241;43m.\u001b[39;49m\u001b[43msession\u001b[49m\u001b[38;5;241;43m.\u001b[39;49m\u001b[43mrequest\u001b[49m\u001b[43m(\u001b[49m\n\u001b[1;32m    597\u001b[0m \u001b[43m        \u001b[49m\u001b[43mmethod\u001b[49m\u001b[43m,\u001b[49m\n\u001b[1;32m    598\u001b[0m \u001b[43m        \u001b[49m\u001b[43mabs_url\u001b[49m\u001b[43m,\u001b[49m\n\u001b[1;32m    599\u001b[0m \u001b[43m        \u001b[49m\u001b[43mheaders\u001b[49m\u001b[38;5;241;43m=\u001b[39;49m\u001b[43mheaders\u001b[49m\u001b[43m,\u001b[49m\n\u001b[1;32m    600\u001b[0m \u001b[43m        \u001b[49m\u001b[43mdata\u001b[49m\u001b[38;5;241;43m=\u001b[39;49m\u001b[43mdata\u001b[49m\u001b[43m,\u001b[49m\n\u001b[1;32m    601\u001b[0m \u001b[43m        \u001b[49m\u001b[43mfiles\u001b[49m\u001b[38;5;241;43m=\u001b[39;49m\u001b[43mfiles\u001b[49m\u001b[43m,\u001b[49m\n\u001b[1;32m    602\u001b[0m \u001b[43m        \u001b[49m\u001b[43mstream\u001b[49m\u001b[38;5;241;43m=\u001b[39;49m\u001b[43mstream\u001b[49m\u001b[43m,\u001b[49m\n\u001b[1;32m    603\u001b[0m \u001b[43m        \u001b[49m\u001b[43mtimeout\u001b[49m\u001b[38;5;241;43m=\u001b[39;49m\u001b[43mrequest_timeout\u001b[49m\u001b[43m \u001b[49m\u001b[38;5;28;43;01mif\u001b[39;49;00m\u001b[43m \u001b[49m\u001b[43mrequest_timeout\u001b[49m\u001b[43m \u001b[49m\u001b[38;5;28;43;01melse\u001b[39;49;00m\u001b[43m \u001b[49m\u001b[43mTIMEOUT_SECS\u001b[49m\u001b[43m,\u001b[49m\n\u001b[1;32m    604\u001b[0m \u001b[43m        \u001b[49m\u001b[43mproxies\u001b[49m\u001b[38;5;241;43m=\u001b[39;49m\u001b[43m_thread_context\u001b[49m\u001b[38;5;241;43m.\u001b[39;49m\u001b[43msession\u001b[49m\u001b[38;5;241;43m.\u001b[39;49m\u001b[43mproxies\u001b[49m\u001b[43m,\u001b[49m\n\u001b[1;32m    605\u001b[0m \u001b[43m    \u001b[49m\u001b[43m)\u001b[49m\n\u001b[1;32m    606\u001b[0m \u001b[38;5;28;01mexcept\u001b[39;00m requests\u001b[38;5;241m.\u001b[39mexceptions\u001b[38;5;241m.\u001b[39mTimeout \u001b[38;5;28;01mas\u001b[39;00m e:\n\u001b[1;32m    607\u001b[0m     \u001b[38;5;28;01mraise\u001b[39;00m error\u001b[38;5;241m.\u001b[39mTimeout(\u001b[38;5;124m\"\u001b[39m\u001b[38;5;124mRequest timed out: \u001b[39m\u001b[38;5;132;01m{}\u001b[39;00m\u001b[38;5;124m\"\u001b[39m\u001b[38;5;241m.\u001b[39mformat(e)) \u001b[38;5;28;01mfrom\u001b[39;00m \u001b[38;5;21;01me\u001b[39;00m\n",
      "File \u001b[0;32m~/anaconda3/envs/deep_learning_env_2/lib/python3.9/site-packages/requests/sessions.py:589\u001b[0m, in \u001b[0;36mSession.request\u001b[0;34m(self, method, url, params, data, headers, cookies, files, auth, timeout, allow_redirects, proxies, hooks, stream, verify, cert, json)\u001b[0m\n\u001b[1;32m    584\u001b[0m send_kwargs \u001b[38;5;241m=\u001b[39m {\n\u001b[1;32m    585\u001b[0m     \u001b[38;5;124m\"\u001b[39m\u001b[38;5;124mtimeout\u001b[39m\u001b[38;5;124m\"\u001b[39m: timeout,\n\u001b[1;32m    586\u001b[0m     \u001b[38;5;124m\"\u001b[39m\u001b[38;5;124mallow_redirects\u001b[39m\u001b[38;5;124m\"\u001b[39m: allow_redirects,\n\u001b[1;32m    587\u001b[0m }\n\u001b[1;32m    588\u001b[0m send_kwargs\u001b[38;5;241m.\u001b[39mupdate(settings)\n\u001b[0;32m--> 589\u001b[0m resp \u001b[38;5;241m=\u001b[39m \u001b[38;5;28;43mself\u001b[39;49m\u001b[38;5;241;43m.\u001b[39;49m\u001b[43msend\u001b[49m\u001b[43m(\u001b[49m\u001b[43mprep\u001b[49m\u001b[43m,\u001b[49m\u001b[43m \u001b[49m\u001b[38;5;241;43m*\u001b[39;49m\u001b[38;5;241;43m*\u001b[39;49m\u001b[43msend_kwargs\u001b[49m\u001b[43m)\u001b[49m\n\u001b[1;32m    591\u001b[0m \u001b[38;5;28;01mreturn\u001b[39;00m resp\n",
      "File \u001b[0;32m~/anaconda3/envs/deep_learning_env_2/lib/python3.9/site-packages/requests/sessions.py:703\u001b[0m, in \u001b[0;36mSession.send\u001b[0;34m(self, request, **kwargs)\u001b[0m\n\u001b[1;32m    700\u001b[0m start \u001b[38;5;241m=\u001b[39m preferred_clock()\n\u001b[1;32m    702\u001b[0m \u001b[38;5;66;03m# Send the request\u001b[39;00m\n\u001b[0;32m--> 703\u001b[0m r \u001b[38;5;241m=\u001b[39m \u001b[43madapter\u001b[49m\u001b[38;5;241;43m.\u001b[39;49m\u001b[43msend\u001b[49m\u001b[43m(\u001b[49m\u001b[43mrequest\u001b[49m\u001b[43m,\u001b[49m\u001b[43m \u001b[49m\u001b[38;5;241;43m*\u001b[39;49m\u001b[38;5;241;43m*\u001b[39;49m\u001b[43mkwargs\u001b[49m\u001b[43m)\u001b[49m\n\u001b[1;32m    705\u001b[0m \u001b[38;5;66;03m# Total elapsed time of the request (approximately)\u001b[39;00m\n\u001b[1;32m    706\u001b[0m elapsed \u001b[38;5;241m=\u001b[39m preferred_clock() \u001b[38;5;241m-\u001b[39m start\n",
      "File \u001b[0;32m~/anaconda3/envs/deep_learning_env_2/lib/python3.9/site-packages/requests/adapters.py:486\u001b[0m, in \u001b[0;36mHTTPAdapter.send\u001b[0;34m(self, request, stream, timeout, verify, cert, proxies)\u001b[0m\n\u001b[1;32m    483\u001b[0m     timeout \u001b[38;5;241m=\u001b[39m TimeoutSauce(connect\u001b[38;5;241m=\u001b[39mtimeout, read\u001b[38;5;241m=\u001b[39mtimeout)\n\u001b[1;32m    485\u001b[0m \u001b[38;5;28;01mtry\u001b[39;00m:\n\u001b[0;32m--> 486\u001b[0m     resp \u001b[38;5;241m=\u001b[39m \u001b[43mconn\u001b[49m\u001b[38;5;241;43m.\u001b[39;49m\u001b[43murlopen\u001b[49m\u001b[43m(\u001b[49m\n\u001b[1;32m    487\u001b[0m \u001b[43m        \u001b[49m\u001b[43mmethod\u001b[49m\u001b[38;5;241;43m=\u001b[39;49m\u001b[43mrequest\u001b[49m\u001b[38;5;241;43m.\u001b[39;49m\u001b[43mmethod\u001b[49m\u001b[43m,\u001b[49m\n\u001b[1;32m    488\u001b[0m \u001b[43m        \u001b[49m\u001b[43murl\u001b[49m\u001b[38;5;241;43m=\u001b[39;49m\u001b[43murl\u001b[49m\u001b[43m,\u001b[49m\n\u001b[1;32m    489\u001b[0m \u001b[43m        \u001b[49m\u001b[43mbody\u001b[49m\u001b[38;5;241;43m=\u001b[39;49m\u001b[43mrequest\u001b[49m\u001b[38;5;241;43m.\u001b[39;49m\u001b[43mbody\u001b[49m\u001b[43m,\u001b[49m\n\u001b[1;32m    490\u001b[0m \u001b[43m        \u001b[49m\u001b[43mheaders\u001b[49m\u001b[38;5;241;43m=\u001b[39;49m\u001b[43mrequest\u001b[49m\u001b[38;5;241;43m.\u001b[39;49m\u001b[43mheaders\u001b[49m\u001b[43m,\u001b[49m\n\u001b[1;32m    491\u001b[0m \u001b[43m        \u001b[49m\u001b[43mredirect\u001b[49m\u001b[38;5;241;43m=\u001b[39;49m\u001b[38;5;28;43;01mFalse\u001b[39;49;00m\u001b[43m,\u001b[49m\n\u001b[1;32m    492\u001b[0m \u001b[43m        \u001b[49m\u001b[43massert_same_host\u001b[49m\u001b[38;5;241;43m=\u001b[39;49m\u001b[38;5;28;43;01mFalse\u001b[39;49;00m\u001b[43m,\u001b[49m\n\u001b[1;32m    493\u001b[0m \u001b[43m        \u001b[49m\u001b[43mpreload_content\u001b[49m\u001b[38;5;241;43m=\u001b[39;49m\u001b[38;5;28;43;01mFalse\u001b[39;49;00m\u001b[43m,\u001b[49m\n\u001b[1;32m    494\u001b[0m \u001b[43m        \u001b[49m\u001b[43mdecode_content\u001b[49m\u001b[38;5;241;43m=\u001b[39;49m\u001b[38;5;28;43;01mFalse\u001b[39;49;00m\u001b[43m,\u001b[49m\n\u001b[1;32m    495\u001b[0m \u001b[43m        \u001b[49m\u001b[43mretries\u001b[49m\u001b[38;5;241;43m=\u001b[39;49m\u001b[38;5;28;43mself\u001b[39;49m\u001b[38;5;241;43m.\u001b[39;49m\u001b[43mmax_retries\u001b[49m\u001b[43m,\u001b[49m\n\u001b[1;32m    496\u001b[0m \u001b[43m        \u001b[49m\u001b[43mtimeout\u001b[49m\u001b[38;5;241;43m=\u001b[39;49m\u001b[43mtimeout\u001b[49m\u001b[43m,\u001b[49m\n\u001b[1;32m    497\u001b[0m \u001b[43m        \u001b[49m\u001b[43mchunked\u001b[49m\u001b[38;5;241;43m=\u001b[39;49m\u001b[43mchunked\u001b[49m\u001b[43m,\u001b[49m\n\u001b[1;32m    498\u001b[0m \u001b[43m    \u001b[49m\u001b[43m)\u001b[49m\n\u001b[1;32m    500\u001b[0m \u001b[38;5;28;01mexcept\u001b[39;00m (ProtocolError, \u001b[38;5;167;01mOSError\u001b[39;00m) \u001b[38;5;28;01mas\u001b[39;00m err:\n\u001b[1;32m    501\u001b[0m     \u001b[38;5;28;01mraise\u001b[39;00m \u001b[38;5;167;01mConnectionError\u001b[39;00m(err, request\u001b[38;5;241m=\u001b[39mrequest)\n",
      "File \u001b[0;32m~/anaconda3/envs/deep_learning_env_2/lib/python3.9/site-packages/urllib3/connectionpool.py:715\u001b[0m, in \u001b[0;36mHTTPConnectionPool.urlopen\u001b[0;34m(self, method, url, body, headers, retries, redirect, assert_same_host, timeout, pool_timeout, release_conn, chunked, body_pos, **response_kw)\u001b[0m\n\u001b[1;32m    712\u001b[0m     \u001b[38;5;28mself\u001b[39m\u001b[38;5;241m.\u001b[39m_prepare_proxy(conn)\n\u001b[1;32m    714\u001b[0m \u001b[38;5;66;03m# Make the request on the httplib connection object.\u001b[39;00m\n\u001b[0;32m--> 715\u001b[0m httplib_response \u001b[38;5;241m=\u001b[39m \u001b[38;5;28;43mself\u001b[39;49m\u001b[38;5;241;43m.\u001b[39;49m\u001b[43m_make_request\u001b[49m\u001b[43m(\u001b[49m\n\u001b[1;32m    716\u001b[0m \u001b[43m    \u001b[49m\u001b[43mconn\u001b[49m\u001b[43m,\u001b[49m\n\u001b[1;32m    717\u001b[0m \u001b[43m    \u001b[49m\u001b[43mmethod\u001b[49m\u001b[43m,\u001b[49m\n\u001b[1;32m    718\u001b[0m \u001b[43m    \u001b[49m\u001b[43murl\u001b[49m\u001b[43m,\u001b[49m\n\u001b[1;32m    719\u001b[0m \u001b[43m    \u001b[49m\u001b[43mtimeout\u001b[49m\u001b[38;5;241;43m=\u001b[39;49m\u001b[43mtimeout_obj\u001b[49m\u001b[43m,\u001b[49m\n\u001b[1;32m    720\u001b[0m \u001b[43m    \u001b[49m\u001b[43mbody\u001b[49m\u001b[38;5;241;43m=\u001b[39;49m\u001b[43mbody\u001b[49m\u001b[43m,\u001b[49m\n\u001b[1;32m    721\u001b[0m \u001b[43m    \u001b[49m\u001b[43mheaders\u001b[49m\u001b[38;5;241;43m=\u001b[39;49m\u001b[43mheaders\u001b[49m\u001b[43m,\u001b[49m\n\u001b[1;32m    722\u001b[0m \u001b[43m    \u001b[49m\u001b[43mchunked\u001b[49m\u001b[38;5;241;43m=\u001b[39;49m\u001b[43mchunked\u001b[49m\u001b[43m,\u001b[49m\n\u001b[1;32m    723\u001b[0m \u001b[43m\u001b[49m\u001b[43m)\u001b[49m\n\u001b[1;32m    725\u001b[0m \u001b[38;5;66;03m# If we're going to release the connection in ``finally:``, then\u001b[39;00m\n\u001b[1;32m    726\u001b[0m \u001b[38;5;66;03m# the response doesn't need to know about the connection. Otherwise\u001b[39;00m\n\u001b[1;32m    727\u001b[0m \u001b[38;5;66;03m# it will also try to release it and we'll have a double-release\u001b[39;00m\n\u001b[1;32m    728\u001b[0m \u001b[38;5;66;03m# mess.\u001b[39;00m\n\u001b[1;32m    729\u001b[0m response_conn \u001b[38;5;241m=\u001b[39m conn \u001b[38;5;28;01mif\u001b[39;00m \u001b[38;5;129;01mnot\u001b[39;00m release_conn \u001b[38;5;28;01melse\u001b[39;00m \u001b[38;5;28;01mNone\u001b[39;00m\n",
      "File \u001b[0;32m~/anaconda3/envs/deep_learning_env_2/lib/python3.9/site-packages/urllib3/connectionpool.py:416\u001b[0m, in \u001b[0;36mHTTPConnectionPool._make_request\u001b[0;34m(self, conn, method, url, timeout, chunked, **httplib_request_kw)\u001b[0m\n\u001b[1;32m    414\u001b[0m         conn\u001b[38;5;241m.\u001b[39mrequest_chunked(method, url, \u001b[38;5;241m*\u001b[39m\u001b[38;5;241m*\u001b[39mhttplib_request_kw)\n\u001b[1;32m    415\u001b[0m     \u001b[38;5;28;01melse\u001b[39;00m:\n\u001b[0;32m--> 416\u001b[0m         \u001b[43mconn\u001b[49m\u001b[38;5;241;43m.\u001b[39;49m\u001b[43mrequest\u001b[49m\u001b[43m(\u001b[49m\u001b[43mmethod\u001b[49m\u001b[43m,\u001b[49m\u001b[43m \u001b[49m\u001b[43murl\u001b[49m\u001b[43m,\u001b[49m\u001b[43m \u001b[49m\u001b[38;5;241;43m*\u001b[39;49m\u001b[38;5;241;43m*\u001b[39;49m\u001b[43mhttplib_request_kw\u001b[49m\u001b[43m)\u001b[49m\n\u001b[1;32m    418\u001b[0m \u001b[38;5;66;03m# We are swallowing BrokenPipeError (errno.EPIPE) since the server is\u001b[39;00m\n\u001b[1;32m    419\u001b[0m \u001b[38;5;66;03m# legitimately able to close the connection after sending a valid response.\u001b[39;00m\n\u001b[1;32m    420\u001b[0m \u001b[38;5;66;03m# With this behaviour, the received response is still readable.\u001b[39;00m\n\u001b[1;32m    421\u001b[0m \u001b[38;5;28;01mexcept\u001b[39;00m \u001b[38;5;167;01mBrokenPipeError\u001b[39;00m:\n\u001b[1;32m    422\u001b[0m     \u001b[38;5;66;03m# Python 3\u001b[39;00m\n",
      "File \u001b[0;32m~/anaconda3/envs/deep_learning_env_2/lib/python3.9/site-packages/urllib3/connection.py:244\u001b[0m, in \u001b[0;36mHTTPConnection.request\u001b[0;34m(self, method, url, body, headers)\u001b[0m\n\u001b[1;32m    242\u001b[0m \u001b[38;5;28;01mif\u001b[39;00m \u001b[38;5;124m\"\u001b[39m\u001b[38;5;124muser-agent\u001b[39m\u001b[38;5;124m\"\u001b[39m \u001b[38;5;129;01mnot\u001b[39;00m \u001b[38;5;129;01min\u001b[39;00m (six\u001b[38;5;241m.\u001b[39mensure_str(k\u001b[38;5;241m.\u001b[39mlower()) \u001b[38;5;28;01mfor\u001b[39;00m k \u001b[38;5;129;01min\u001b[39;00m headers):\n\u001b[1;32m    243\u001b[0m     headers[\u001b[38;5;124m\"\u001b[39m\u001b[38;5;124mUser-Agent\u001b[39m\u001b[38;5;124m\"\u001b[39m] \u001b[38;5;241m=\u001b[39m _get_default_user_agent()\n\u001b[0;32m--> 244\u001b[0m \u001b[38;5;28;43msuper\u001b[39;49m\u001b[43m(\u001b[49m\u001b[43mHTTPConnection\u001b[49m\u001b[43m,\u001b[49m\u001b[43m \u001b[49m\u001b[38;5;28;43mself\u001b[39;49m\u001b[43m)\u001b[49m\u001b[38;5;241;43m.\u001b[39;49m\u001b[43mrequest\u001b[49m\u001b[43m(\u001b[49m\u001b[43mmethod\u001b[49m\u001b[43m,\u001b[49m\u001b[43m \u001b[49m\u001b[43murl\u001b[49m\u001b[43m,\u001b[49m\u001b[43m \u001b[49m\u001b[43mbody\u001b[49m\u001b[38;5;241;43m=\u001b[39;49m\u001b[43mbody\u001b[49m\u001b[43m,\u001b[49m\u001b[43m \u001b[49m\u001b[43mheaders\u001b[49m\u001b[38;5;241;43m=\u001b[39;49m\u001b[43mheaders\u001b[49m\u001b[43m)\u001b[49m\n",
      "File \u001b[0;32m~/anaconda3/envs/deep_learning_env_2/lib/python3.9/http/client.py:1285\u001b[0m, in \u001b[0;36mHTTPConnection.request\u001b[0;34m(self, method, url, body, headers, encode_chunked)\u001b[0m\n\u001b[1;32m   1282\u001b[0m \u001b[38;5;28;01mdef\u001b[39;00m \u001b[38;5;21mrequest\u001b[39m(\u001b[38;5;28mself\u001b[39m, method, url, body\u001b[38;5;241m=\u001b[39m\u001b[38;5;28;01mNone\u001b[39;00m, headers\u001b[38;5;241m=\u001b[39m{}, \u001b[38;5;241m*\u001b[39m,\n\u001b[1;32m   1283\u001b[0m             encode_chunked\u001b[38;5;241m=\u001b[39m\u001b[38;5;28;01mFalse\u001b[39;00m):\n\u001b[1;32m   1284\u001b[0m \u001b[38;5;250m    \u001b[39m\u001b[38;5;124;03m\"\"\"Send a complete request to the server.\"\"\"\u001b[39;00m\n\u001b[0;32m-> 1285\u001b[0m     \u001b[38;5;28;43mself\u001b[39;49m\u001b[38;5;241;43m.\u001b[39;49m\u001b[43m_send_request\u001b[49m\u001b[43m(\u001b[49m\u001b[43mmethod\u001b[49m\u001b[43m,\u001b[49m\u001b[43m \u001b[49m\u001b[43murl\u001b[49m\u001b[43m,\u001b[49m\u001b[43m \u001b[49m\u001b[43mbody\u001b[49m\u001b[43m,\u001b[49m\u001b[43m \u001b[49m\u001b[43mheaders\u001b[49m\u001b[43m,\u001b[49m\u001b[43m \u001b[49m\u001b[43mencode_chunked\u001b[49m\u001b[43m)\u001b[49m\n",
      "File \u001b[0;32m~/anaconda3/envs/deep_learning_env_2/lib/python3.9/http/client.py:1331\u001b[0m, in \u001b[0;36mHTTPConnection._send_request\u001b[0;34m(self, method, url, body, headers, encode_chunked)\u001b[0m\n\u001b[1;32m   1327\u001b[0m \u001b[38;5;28;01mif\u001b[39;00m \u001b[38;5;28misinstance\u001b[39m(body, \u001b[38;5;28mstr\u001b[39m):\n\u001b[1;32m   1328\u001b[0m     \u001b[38;5;66;03m# RFC 2616 Section 3.7.1 says that text default has a\u001b[39;00m\n\u001b[1;32m   1329\u001b[0m     \u001b[38;5;66;03m# default charset of iso-8859-1.\u001b[39;00m\n\u001b[1;32m   1330\u001b[0m     body \u001b[38;5;241m=\u001b[39m _encode(body, \u001b[38;5;124m'\u001b[39m\u001b[38;5;124mbody\u001b[39m\u001b[38;5;124m'\u001b[39m)\n\u001b[0;32m-> 1331\u001b[0m \u001b[38;5;28;43mself\u001b[39;49m\u001b[38;5;241;43m.\u001b[39;49m\u001b[43mendheaders\u001b[49m\u001b[43m(\u001b[49m\u001b[43mbody\u001b[49m\u001b[43m,\u001b[49m\u001b[43m \u001b[49m\u001b[43mencode_chunked\u001b[49m\u001b[38;5;241;43m=\u001b[39;49m\u001b[43mencode_chunked\u001b[49m\u001b[43m)\u001b[49m\n",
      "File \u001b[0;32m~/anaconda3/envs/deep_learning_env_2/lib/python3.9/http/client.py:1280\u001b[0m, in \u001b[0;36mHTTPConnection.endheaders\u001b[0;34m(self, message_body, encode_chunked)\u001b[0m\n\u001b[1;32m   1278\u001b[0m \u001b[38;5;28;01melse\u001b[39;00m:\n\u001b[1;32m   1279\u001b[0m     \u001b[38;5;28;01mraise\u001b[39;00m CannotSendHeader()\n\u001b[0;32m-> 1280\u001b[0m \u001b[38;5;28;43mself\u001b[39;49m\u001b[38;5;241;43m.\u001b[39;49m\u001b[43m_send_output\u001b[49m\u001b[43m(\u001b[49m\u001b[43mmessage_body\u001b[49m\u001b[43m,\u001b[49m\u001b[43m \u001b[49m\u001b[43mencode_chunked\u001b[49m\u001b[38;5;241;43m=\u001b[39;49m\u001b[43mencode_chunked\u001b[49m\u001b[43m)\u001b[49m\n",
      "File \u001b[0;32m~/anaconda3/envs/deep_learning_env_2/lib/python3.9/http/client.py:1040\u001b[0m, in \u001b[0;36mHTTPConnection._send_output\u001b[0;34m(self, message_body, encode_chunked)\u001b[0m\n\u001b[1;32m   1038\u001b[0m msg \u001b[38;5;241m=\u001b[39m \u001b[38;5;124mb\u001b[39m\u001b[38;5;124m\"\u001b[39m\u001b[38;5;130;01m\\r\u001b[39;00m\u001b[38;5;130;01m\\n\u001b[39;00m\u001b[38;5;124m\"\u001b[39m\u001b[38;5;241m.\u001b[39mjoin(\u001b[38;5;28mself\u001b[39m\u001b[38;5;241m.\u001b[39m_buffer)\n\u001b[1;32m   1039\u001b[0m \u001b[38;5;28;01mdel\u001b[39;00m \u001b[38;5;28mself\u001b[39m\u001b[38;5;241m.\u001b[39m_buffer[:]\n\u001b[0;32m-> 1040\u001b[0m \u001b[38;5;28;43mself\u001b[39;49m\u001b[38;5;241;43m.\u001b[39;49m\u001b[43msend\u001b[49m\u001b[43m(\u001b[49m\u001b[43mmsg\u001b[49m\u001b[43m)\u001b[49m\n\u001b[1;32m   1042\u001b[0m \u001b[38;5;28;01mif\u001b[39;00m message_body \u001b[38;5;129;01mis\u001b[39;00m \u001b[38;5;129;01mnot\u001b[39;00m \u001b[38;5;28;01mNone\u001b[39;00m:\n\u001b[1;32m   1043\u001b[0m \n\u001b[1;32m   1044\u001b[0m     \u001b[38;5;66;03m# create a consistent interface to message_body\u001b[39;00m\n\u001b[1;32m   1045\u001b[0m     \u001b[38;5;28;01mif\u001b[39;00m \u001b[38;5;28mhasattr\u001b[39m(message_body, \u001b[38;5;124m'\u001b[39m\u001b[38;5;124mread\u001b[39m\u001b[38;5;124m'\u001b[39m):\n\u001b[1;32m   1046\u001b[0m         \u001b[38;5;66;03m# Let file-like take precedence over byte-like.  This\u001b[39;00m\n\u001b[1;32m   1047\u001b[0m         \u001b[38;5;66;03m# is needed to allow the current position of mmap'ed\u001b[39;00m\n\u001b[1;32m   1048\u001b[0m         \u001b[38;5;66;03m# files to be taken into account.\u001b[39;00m\n",
      "File \u001b[0;32m~/anaconda3/envs/deep_learning_env_2/lib/python3.9/http/client.py:980\u001b[0m, in \u001b[0;36mHTTPConnection.send\u001b[0;34m(self, data)\u001b[0m\n\u001b[1;32m    978\u001b[0m \u001b[38;5;28;01mif\u001b[39;00m \u001b[38;5;28mself\u001b[39m\u001b[38;5;241m.\u001b[39msock \u001b[38;5;129;01mis\u001b[39;00m \u001b[38;5;28;01mNone\u001b[39;00m:\n\u001b[1;32m    979\u001b[0m     \u001b[38;5;28;01mif\u001b[39;00m \u001b[38;5;28mself\u001b[39m\u001b[38;5;241m.\u001b[39mauto_open:\n\u001b[0;32m--> 980\u001b[0m         \u001b[38;5;28;43mself\u001b[39;49m\u001b[38;5;241;43m.\u001b[39;49m\u001b[43mconnect\u001b[49m\u001b[43m(\u001b[49m\u001b[43m)\u001b[49m\n\u001b[1;32m    981\u001b[0m     \u001b[38;5;28;01melse\u001b[39;00m:\n\u001b[1;32m    982\u001b[0m         \u001b[38;5;28;01mraise\u001b[39;00m NotConnected()\n",
      "File \u001b[0;32m~/anaconda3/envs/deep_learning_env_2/lib/python3.9/site-packages/urllib3/connection.py:205\u001b[0m, in \u001b[0;36mHTTPConnection.connect\u001b[0;34m(self)\u001b[0m\n\u001b[1;32m    204\u001b[0m \u001b[38;5;28;01mdef\u001b[39;00m \u001b[38;5;21mconnect\u001b[39m(\u001b[38;5;28mself\u001b[39m):\n\u001b[0;32m--> 205\u001b[0m     conn \u001b[38;5;241m=\u001b[39m \u001b[38;5;28;43mself\u001b[39;49m\u001b[38;5;241;43m.\u001b[39;49m\u001b[43m_new_conn\u001b[49m\u001b[43m(\u001b[49m\u001b[43m)\u001b[49m\n\u001b[1;32m    206\u001b[0m     \u001b[38;5;28mself\u001b[39m\u001b[38;5;241m.\u001b[39m_prepare_conn(conn)\n",
      "File \u001b[0;32m~/anaconda3/envs/deep_learning_env_2/lib/python3.9/site-packages/urllib3/connection.py:174\u001b[0m, in \u001b[0;36mHTTPConnection._new_conn\u001b[0;34m(self)\u001b[0m\n\u001b[1;32m    171\u001b[0m     extra_kw[\u001b[38;5;124m\"\u001b[39m\u001b[38;5;124msocket_options\u001b[39m\u001b[38;5;124m\"\u001b[39m] \u001b[38;5;241m=\u001b[39m \u001b[38;5;28mself\u001b[39m\u001b[38;5;241m.\u001b[39msocket_options\n\u001b[1;32m    173\u001b[0m \u001b[38;5;28;01mtry\u001b[39;00m:\n\u001b[0;32m--> 174\u001b[0m     conn \u001b[38;5;241m=\u001b[39m \u001b[43mconnection\u001b[49m\u001b[38;5;241;43m.\u001b[39;49m\u001b[43mcreate_connection\u001b[49m\u001b[43m(\u001b[49m\n\u001b[1;32m    175\u001b[0m \u001b[43m        \u001b[49m\u001b[43m(\u001b[49m\u001b[38;5;28;43mself\u001b[39;49m\u001b[38;5;241;43m.\u001b[39;49m\u001b[43m_dns_host\u001b[49m\u001b[43m,\u001b[49m\u001b[43m \u001b[49m\u001b[38;5;28;43mself\u001b[39;49m\u001b[38;5;241;43m.\u001b[39;49m\u001b[43mport\u001b[49m\u001b[43m)\u001b[49m\u001b[43m,\u001b[49m\u001b[43m \u001b[49m\u001b[38;5;28;43mself\u001b[39;49m\u001b[38;5;241;43m.\u001b[39;49m\u001b[43mtimeout\u001b[49m\u001b[43m,\u001b[49m\u001b[43m \u001b[49m\u001b[38;5;241;43m*\u001b[39;49m\u001b[38;5;241;43m*\u001b[39;49m\u001b[43mextra_kw\u001b[49m\n\u001b[1;32m    176\u001b[0m \u001b[43m    \u001b[49m\u001b[43m)\u001b[49m\n\u001b[1;32m    178\u001b[0m \u001b[38;5;28;01mexcept\u001b[39;00m SocketTimeout:\n\u001b[1;32m    179\u001b[0m     \u001b[38;5;28;01mraise\u001b[39;00m ConnectTimeoutError(\n\u001b[1;32m    180\u001b[0m         \u001b[38;5;28mself\u001b[39m,\n\u001b[1;32m    181\u001b[0m         \u001b[38;5;124m\"\u001b[39m\u001b[38;5;124mConnection to \u001b[39m\u001b[38;5;132;01m%s\u001b[39;00m\u001b[38;5;124m timed out. (connect timeout=\u001b[39m\u001b[38;5;132;01m%s\u001b[39;00m\u001b[38;5;124m)\u001b[39m\u001b[38;5;124m\"\u001b[39m\n\u001b[1;32m    182\u001b[0m         \u001b[38;5;241m%\u001b[39m (\u001b[38;5;28mself\u001b[39m\u001b[38;5;241m.\u001b[39mhost, \u001b[38;5;28mself\u001b[39m\u001b[38;5;241m.\u001b[39mtimeout),\n\u001b[1;32m    183\u001b[0m     )\n",
      "File \u001b[0;32m~/anaconda3/envs/deep_learning_env_2/lib/python3.9/site-packages/urllib3/util/connection.py:85\u001b[0m, in \u001b[0;36mcreate_connection\u001b[0;34m(address, timeout, source_address, socket_options)\u001b[0m\n\u001b[1;32m     83\u001b[0m     \u001b[38;5;28;01mif\u001b[39;00m source_address:\n\u001b[1;32m     84\u001b[0m         sock\u001b[38;5;241m.\u001b[39mbind(source_address)\n\u001b[0;32m---> 85\u001b[0m     \u001b[43msock\u001b[49m\u001b[38;5;241;43m.\u001b[39;49m\u001b[43mconnect\u001b[49m\u001b[43m(\u001b[49m\u001b[43msa\u001b[49m\u001b[43m)\u001b[49m\n\u001b[1;32m     86\u001b[0m     \u001b[38;5;28;01mreturn\u001b[39;00m sock\n\u001b[1;32m     88\u001b[0m \u001b[38;5;28;01mexcept\u001b[39;00m socket\u001b[38;5;241m.\u001b[39merror \u001b[38;5;28;01mas\u001b[39;00m e:\n",
      "\u001b[0;31mKeyboardInterrupt\u001b[0m: "
     ]
    }
   ],
   "source": [
    "# create a completion\n",
    "completion = openai.Completion.create(model=model, prompt=prompt, max_tokens=64)\n",
    "# print the completion\n",
    "print(prompt + completion.choices[0].text)"
   ]
  },
  {
   "cell_type": "markdown",
   "id": "80af4e7a",
   "metadata": {},
   "source": [
    "# Load SPACE dataset"
   ]
  },
  {
   "cell_type": "code",
   "execution_count": 5,
   "id": "3c74a789",
   "metadata": {
    "scrolled": true
   },
   "outputs": [
    {
     "data": {
      "text/html": [
       "<div>\n",
       "<style scoped>\n",
       "    .dataframe tbody tr th:only-of-type {\n",
       "        vertical-align: middle;\n",
       "    }\n",
       "\n",
       "    .dataframe tbody tr th {\n",
       "        vertical-align: top;\n",
       "    }\n",
       "\n",
       "    .dataframe thead th {\n",
       "        text-align: right;\n",
       "    }\n",
       "</style>\n",
       "<table border=\"1\" class=\"dataframe\">\n",
       "  <thead>\n",
       "    <tr style=\"text-align: right;\">\n",
       "      <th></th>\n",
       "      <th>review_id</th>\n",
       "      <th>sentences</th>\n",
       "      <th>rating</th>\n",
       "      <th>entity_id</th>\n",
       "      <th>entity_name</th>\n",
       "    </tr>\n",
       "  </thead>\n",
       "  <tbody>\n",
       "    <tr>\n",
       "      <th>0</th>\n",
       "      <td>UR59977476</td>\n",
       "      <td>[We stayed here on a lay over home from Cancun., It was great to have a comfortable bed and room on our final night of holidays., The kids loved the pool which was warmer than the ones at the resort in Cancun which we could not believe as we were in Seattle!, The staff was friendly and we appreciated the cookies after a long flight when we were waiting to check inn., Just a nice touch!, Shuttle was convenient and would definitely stay here again.]</td>\n",
       "      <td>5</td>\n",
       "      <td>100597</td>\n",
       "      <td>Doubletree by Hilton Seattle Airport</td>\n",
       "    </tr>\n",
       "    <tr>\n",
       "      <th>1</th>\n",
       "      <td>UR116963461</td>\n",
       "      <td>[I reserved this room through an affiliate travel booking platform and got a great room rate., Aprox., 75.00 (not including taxes) for a full day stay., Late check in was effortless and was greeted with a warmed cookie., I think it is fair to mention it costs to use internet in your room but for business travlers I suppose that is an expected cost., Great friendly staff took the edge off our long day of intercontinental travel., I would choose this hotel again as our stop over.]</td>\n",
       "      <td>4</td>\n",
       "      <td>100597</td>\n",
       "      <td>Doubletree by Hilton Seattle Airport</td>\n",
       "    </tr>\n",
       "    <tr>\n",
       "      <th>2</th>\n",
       "      <td>UR115823712</td>\n",
       "      <td>[We flew into SEA TAC for a few days before our cruise and our travel agent recommended this hotel., The hotel was clean, beds were fine, hotel is located across the street from the air port, was within walking distance to a Denny's, Jack in the Box, and a steak place., Room was ready very early in the morning for us., The kids liked the pool and I was able to do laundry before the cruise., It had easy access to the light rail located at the airport (we took the DT shuttle over), and was next to an Enterprise car rental., Lots of conveniences close by., Downtown Seattle was about a 30 minute ride by light rail service (cost of $16 for the 4 of us) or $40 cab ride to the pier., Hope this helps.]</td>\n",
       "      <td>4</td>\n",
       "      <td>100597</td>\n",
       "      <td>Doubletree by Hilton Seattle Airport</td>\n",
       "    </tr>\n",
       "    <tr>\n",
       "      <th>3</th>\n",
       "      <td>UR115912623</td>\n",
       "      <td>[This is a large hotel and I expected it to be large and impersonal., On the contrary., It has \"small hotel\" service, meaning that you don't feel lost and they treat you well., Several fireplaces and seating areas in the lobby make it comfortable., I had a reservation for a \"mountain view\" room., Initially, I had a view of the airport., I asked for a different room and was given a much better view on the other side of the main section of the hotel., Very nice pool area although in cool, rainy Seattle I didn't get a chance to swim., The food was good although a bit pricey., The service in both the casual restaurant at breakfast and the dining room in the evening was efficient., Spacious room and very comfortable bedding., The room to which I was initially assigned had a broken lamp and a rip in the carpet., The second room was nicer., Looks like they are trying to keep up with on-going updating and maintenance., I stayed here four nights for a conference and was actually pleasantly surprised by the overall hotel experience., Lots of airline personnel stay here as well., And yes, we like the chocolate chip cookies at check-in.]</td>\n",
       "      <td>4</td>\n",
       "      <td>100597</td>\n",
       "      <td>Doubletree by Hilton Seattle Airport</td>\n",
       "    </tr>\n",
       "    <tr>\n",
       "      <th>4</th>\n",
       "      <td>UR2825386</td>\n",
       "      <td>[I stayed here on November 7-8, 2004., When I read the previous reviews, I asked if my reservation was for a wing or a tower room., It was for a wing room but the reservation staff courteously changed it to a tower room., Access to the tower is by external glass elevators., My room was large, quiet and had a small balcony., There was a stain on the carpet but otherwise it was clean and well maintained., The room was equipped with a coffee maker, iron &amp; ironing board and blow dryer and there were 2 sinks - one inside the bathroom and one outside., The room did not have a refrigerator or microwave; the high speed internet connection in the room cost about $10., There is no complimentary breakfast; there is a coffee shop and an espresso bar that also sells yogurt, bagels and pastries., The hotel has a complimentary airport shuttle that runs every 15 minutes, 24 hours a day., I was attending a large conference held at the hotel., My co-workers with wing rooms said they were 'okay' and they heard some noise from neighboring rooms., The wing hallways had a damp smell., One wing building was closed for renovation., All staff were very courteous and helpful., For me the location worked well since I was attending events at the hotel and didn't have to rent a car to get there., If I had transportation and didn't have events at the hotel, I would look a few miles away for a better buy for the money.]</td>\n",
       "      <td>3</td>\n",
       "      <td>100597</td>\n",
       "      <td>Doubletree by Hilton Seattle Airport</td>\n",
       "    </tr>\n",
       "    <tr>\n",
       "      <th>...</th>\n",
       "      <td>...</td>\n",
       "      <td>...</td>\n",
       "      <td>...</td>\n",
       "      <td>...</td>\n",
       "      <td>...</td>\n",
       "    </tr>\n",
       "    <tr>\n",
       "      <th>4995</th>\n",
       "      <td>UR53818813</td>\n",
       "      <td>[My husband and I only stayed for one night at the Roman Spa Hot Springs Resort because we have family in Calistoga., We wanted to enjoy the spa experience and were not disappointed., We had a lovely, very comfortable room with a spa tub., It was very relaxing and we also used the three hot springs pools in the beautiful courtyard., The resort is within walking distance of the market and many wonderful restaurants., It was so romantic and relaxing to have a delicious dinner then a refreshing short walk back to our room where the spa was waiting., We picked up dessert at the market and were able to enjoy it in our room later with a bottle of wine as there was a refrigerator in the room., They also have complimentary gourmet coffee., We will definitely stay there again!]</td>\n",
       "      <td>5</td>\n",
       "      <td>2516165</td>\n",
       "      <td>Roman Spa Hot Springs Resort</td>\n",
       "    </tr>\n",
       "    <tr>\n",
       "      <th>4996</th>\n",
       "      <td>UR20177712</td>\n",
       "      <td>[For over at least 10 years, this is the only place we stay at when we go to Calistoga., It is consistently clean, well kept and comfortable., We love going in between their three pools and their tropical gardens make us feel we're in paradise!, Highly recommend.]</td>\n",
       "      <td>5</td>\n",
       "      <td>2516165</td>\n",
       "      <td>Roman Spa Hot Springs Resort</td>\n",
       "    </tr>\n",
       "    <tr>\n",
       "      <th>4997</th>\n",
       "      <td>UR6014752</td>\n",
       "      <td>[We needed a break!, And the Roman Spa offers large family suites - two twin beds for our girls (9 and 16) and a king for us in two seperate spacious rooms with a full kitchen., Decent bathroom and nice clean accommodations., But picture this - we all soaked for two hours once we arrived - the three pools accommodate all temperature requirements - from piping hot for the adults, to moderate and warm for the whole family., If you're looking for one of those 'real' spa tubs - large oval tiled ones, not pathetic little modern ones - there's one here!, Also you can slip from the hottest into the coolest over the edge - no clambering around in the cold to refresh!, Then, the kids opted for pizza in the room, while we walked one block to have a lovely meal and excellent bottle of wine., Finish off the night with more soaks - and start the day the same way and you have yourself a very relaxed crew to start the rush again., This is not the spot for you if you're looking for fancy facilities and pretentious surroundings, but if you want LOCATION, charm and comfort - you'll find it., We'd be back.]</td>\n",
       "      <td>4</td>\n",
       "      <td>2516165</td>\n",
       "      <td>Roman Spa Hot Springs Resort</td>\n",
       "    </tr>\n",
       "    <tr>\n",
       "      <th>4998</th>\n",
       "      <td>UR6838131</td>\n",
       "      <td>[my mom and 5 year old daughter stayed here for 2 nights., we paid for a double w\\/ a kitchen for about 150. i was surprised how roomy it was and we used the kitchen for every meal except one dinner., the mineral pools were therapeutic for my feet and muscles., the pool area was very nice with flowers, hummingbirds and CLEAN., the big pool outside is at a very comfortable temperature [92 ish? ], ,the hottub 104 and the indoor pool was about 98. they were all awesome!, it is a place to relax and most of the guests respect that., we will go again with the whole family next time., the only disappointing experience was my facial at the oasis spa, i guess i have had much better., i would go somewhere else for that and the massage pretty good., romans is the perfect get away.]</td>\n",
       "      <td>4</td>\n",
       "      <td>2516165</td>\n",
       "      <td>Roman Spa Hot Springs Resort</td>\n",
       "    </tr>\n",
       "    <tr>\n",
       "      <th>4999</th>\n",
       "      <td>UR7375658</td>\n",
       "      <td>[We have just returned from our recent stay at the Roman Spa hotel in Calistoga, California., We are very happy to submit a glowing review for this unparalleled relaxation and rejuvenation spot., We have stayed at several other places in Calistoga in the past, as we love the area - but after our first visit to Roman Spa many years ago, we never go anywhere else due to its excellent value, its lush garden-like landscaping and the three superb mineral water pools., Each pool is delightfully warm, one slightly warmer than the next., The geothermal mineral water in the pools is truly a special pleasure to soak in, and it leaves skin very soft, among other benefits., We take advantage of the 2-night internet specials for midweek nights only., This provides the best rate for the best hotel in the area., There are more expensive and perhaps more luxurious rooms at other hotels, but for overall relaxation and rejuvenation at pricing that is conducive to said relaxation, Roman Spa is by far the best value., The rooms are clean and simple, and tastefuly decorated., The hotel offers free coffee, and other seasonal specials if you check the internet., For those who enjoy wine-tasting, Calistoga is at the 'high end' of the Napa valley, and has numerous specialty wineries within minutes from the hotel., Additionally, the nearby Palisades range offers spectacular vistas for the excercise-minded vacationer who enjoys hiking or biking., Right next door is the Oasis mud bath and massage spa, only a few feet from the hotel., Combine a package at Oasis with a stay at Roman Spa for one of the most comprehensive relaxation treatments available anywhere., We can't wait till we can return again, and enjoy poolside coffee while soaking in the therapeutic waters!]</td>\n",
       "      <td>5</td>\n",
       "      <td>2516165</td>\n",
       "      <td>Roman Spa Hot Springs Resort</td>\n",
       "    </tr>\n",
       "  </tbody>\n",
       "</table>\n",
       "<p>5000 rows × 5 columns</p>\n",
       "</div>"
      ],
      "text/plain": [
       "        review_id  \\\n",
       "0      UR59977476   \n",
       "1     UR116963461   \n",
       "2     UR115823712   \n",
       "3     UR115912623   \n",
       "4       UR2825386   \n",
       "...           ...   \n",
       "4995   UR53818813   \n",
       "4996   UR20177712   \n",
       "4997    UR6014752   \n",
       "4998    UR6838131   \n",
       "4999    UR7375658   \n",
       "\n",
       "                                                                                                                                                                                                                                                                                                                                                                                                                                                                                                                                                                                                                                                                                                                                                                                                                                                                                                                                                                                                                                                                                                                                                                                                                                                                                                                                                                                                                                                                                                                                                                                                                                                                                                                                                                                                                                     sentences  \\\n",
       "0                                                                                                                                                                                                                                                                                                                                                                                                                                                                                                                                                                                                                                                                                                                                                                                                                                                                                                                                                                                                                                                                                                                                                                                                                                                                                                                                                                          [We stayed here on a lay over home from Cancun., It was great to have a comfortable bed and room on our final night of holidays., The kids loved the pool which was warmer than the ones at the resort in Cancun which we could not believe as we were in Seattle!, The staff was friendly and we appreciated the cookies after a long flight when we were waiting to check inn., Just a nice touch!, Shuttle was convenient and would definitely stay here again.]   \n",
       "1                                                                                                                                                                                                                                                                                                                                                                                                                                                                                                                                                                                                                                                                                                                                                                                                                                                                                                                                                                                                                                                                                                                                                                                                                                                                                                                                          [I reserved this room through an affiliate travel booking platform and got a great room rate., Aprox., 75.00 (not including taxes) for a full day stay., Late check in was effortless and was greeted with a warmed cookie., I think it is fair to mention it costs to use internet in your room but for business travlers I suppose that is an expected cost., Great friendly staff took the edge off our long day of intercontinental travel., I would choose this hotel again as our stop over.]   \n",
       "2                                                                                                                                                                                                                                                                                                                                                                                                                                                                                                                                                                                                                                                                                                                                                                                                                                                                                                                                                                                                                                                                                                              [We flew into SEA TAC for a few days before our cruise and our travel agent recommended this hotel., The hotel was clean, beds were fine, hotel is located across the street from the air port, was within walking distance to a Denny's, Jack in the Box, and a steak place., Room was ready very early in the morning for us., The kids liked the pool and I was able to do laundry before the cruise., It had easy access to the light rail located at the airport (we took the DT shuttle over), and was next to an Enterprise car rental., Lots of conveniences close by., Downtown Seattle was about a 30 minute ride by light rail service (cost of $16 for the 4 of us) or $40 cab ride to the pier., Hope this helps.]   \n",
       "3                                                                                                                                                                                                                                                                                                                                                                                                                                                                                                                                                                                                                                                      [This is a large hotel and I expected it to be large and impersonal., On the contrary., It has \"small hotel\" service, meaning that you don't feel lost and they treat you well., Several fireplaces and seating areas in the lobby make it comfortable., I had a reservation for a \"mountain view\" room., Initially, I had a view of the airport., I asked for a different room and was given a much better view on the other side of the main section of the hotel., Very nice pool area although in cool, rainy Seattle I didn't get a chance to swim., The food was good although a bit pricey., The service in both the casual restaurant at breakfast and the dining room in the evening was efficient., Spacious room and very comfortable bedding., The room to which I was initially assigned had a broken lamp and a rip in the carpet., The second room was nicer., Looks like they are trying to keep up with on-going updating and maintenance., I stayed here four nights for a conference and was actually pleasantly surprised by the overall hotel experience., Lots of airline personnel stay here as well., And yes, we like the chocolate chip cookies at check-in.]   \n",
       "4                                                                                                                                                                                                                                                                                                                                                                         [I stayed here on November 7-8, 2004., When I read the previous reviews, I asked if my reservation was for a wing or a tower room., It was for a wing room but the reservation staff courteously changed it to a tower room., Access to the tower is by external glass elevators., My room was large, quiet and had a small balcony., There was a stain on the carpet but otherwise it was clean and well maintained., The room was equipped with a coffee maker, iron & ironing board and blow dryer and there were 2 sinks - one inside the bathroom and one outside., The room did not have a refrigerator or microwave; the high speed internet connection in the room cost about $10., There is no complimentary breakfast; there is a coffee shop and an espresso bar that also sells yogurt, bagels and pastries., The hotel has a complimentary airport shuttle that runs every 15 minutes, 24 hours a day., I was attending a large conference held at the hotel., My co-workers with wing rooms said they were 'okay' and they heard some noise from neighboring rooms., The wing hallways had a damp smell., One wing building was closed for renovation., All staff were very courteous and helpful., For me the location worked well since I was attending events at the hotel and didn't have to rent a car to get there., If I had transportation and didn't have events at the hotel, I would look a few miles away for a better buy for the money.]   \n",
       "...                                                                                                                                                                                                                                                                                                                                                                                                                                                                                                                                                                                                                                                                                                                                                                                                                                                                                                                                                                                                                                                                                                                                                                                                                                                                                                                                                                                                                                                                                                                                                                                                                                                                                                                                                                                                                                        ...   \n",
       "4995                                                                                                                                                                                                                                                                                                                                                                                                                                                                                                                                                                                                                                                                                                                                                                                                                                                                                                                                                                                                                               [My husband and I only stayed for one night at the Roman Spa Hot Springs Resort because we have family in Calistoga., We wanted to enjoy the spa experience and were not disappointed., We had a lovely, very comfortable room with a spa tub., It was very relaxing and we also used the three hot springs pools in the beautiful courtyard., The resort is within walking distance of the market and many wonderful restaurants., It was so romantic and relaxing to have a delicious dinner then a refreshing short walk back to our room where the spa was waiting., We picked up dessert at the market and were able to enjoy it in our room later with a bottle of wine as there was a refrigerator in the room., They also have complimentary gourmet coffee., We will definitely stay there again!]   \n",
       "4996                                                                                                                                                                                                                                                                                                                                                                                                                                                                                                                                                                                                                                                                                                                                                                                                                                                                                                                                                                                                                                                                                                                                                                                                                                                                                                                                                                                                                                                                                                                                                                  [For over at least 10 years, this is the only place we stay at when we go to Calistoga., It is consistently clean, well kept and comfortable., We love going in between their three pools and their tropical gardens make us feel we're in paradise!, Highly recommend.]   \n",
       "4997                                                                                                                                                                                                                                                                                                                                                                                                                                                                                                                                                                                                                                                                                         [We needed a break!, And the Roman Spa offers large family suites - two twin beds for our girls (9 and 16) and a king for us in two seperate spacious rooms with a full kitchen., Decent bathroom and nice clean accommodations., But picture this - we all soaked for two hours once we arrived - the three pools accommodate all temperature requirements - from piping hot for the adults, to moderate and warm for the whole family., If you're looking for one of those 'real' spa tubs - large oval tiled ones, not pathetic little modern ones - there's one here!, Also you can slip from the hottest into the coolest over the edge - no clambering around in the cold to refresh!, Then, the kids opted for pizza in the room, while we walked one block to have a lovely meal and excellent bottle of wine., Finish off the night with more soaks - and start the day the same way and you have yourself a very relaxed crew to start the rush again., This is not the spot for you if you're looking for fancy facilities and pretentious surroundings, but if you want LOCATION, charm and comfort - you'll find it., We'd be back.]   \n",
       "4998                                                                                                                                                                                                                                                                                                                                                                                                                                                                                                                                                                                                                                                                                                                                                                                                                                                                                                                                                                                                                             [my mom and 5 year old daughter stayed here for 2 nights., we paid for a double w\\/ a kitchen for about 150. i was surprised how roomy it was and we used the kitchen for every meal except one dinner., the mineral pools were therapeutic for my feet and muscles., the pool area was very nice with flowers, hummingbirds and CLEAN., the big pool outside is at a very comfortable temperature [92 ish? ], ,the hottub 104 and the indoor pool was about 98. they were all awesome!, it is a place to relax and most of the guests respect that., we will go again with the whole family next time., the only disappointing experience was my facial at the oasis spa, i guess i have had much better., i would go somewhere else for that and the massage pretty good., romans is the perfect get away.]   \n",
       "4999  [We have just returned from our recent stay at the Roman Spa hotel in Calistoga, California., We are very happy to submit a glowing review for this unparalleled relaxation and rejuvenation spot., We have stayed at several other places in Calistoga in the past, as we love the area - but after our first visit to Roman Spa many years ago, we never go anywhere else due to its excellent value, its lush garden-like landscaping and the three superb mineral water pools., Each pool is delightfully warm, one slightly warmer than the next., The geothermal mineral water in the pools is truly a special pleasure to soak in, and it leaves skin very soft, among other benefits., We take advantage of the 2-night internet specials for midweek nights only., This provides the best rate for the best hotel in the area., There are more expensive and perhaps more luxurious rooms at other hotels, but for overall relaxation and rejuvenation at pricing that is conducive to said relaxation, Roman Spa is by far the best value., The rooms are clean and simple, and tastefuly decorated., The hotel offers free coffee, and other seasonal specials if you check the internet., For those who enjoy wine-tasting, Calistoga is at the 'high end' of the Napa valley, and has numerous specialty wineries within minutes from the hotel., Additionally, the nearby Palisades range offers spectacular vistas for the excercise-minded vacationer who enjoys hiking or biking., Right next door is the Oasis mud bath and massage spa, only a few feet from the hotel., Combine a package at Oasis with a stay at Roman Spa for one of the most comprehensive relaxation treatments available anywhere., We can't wait till we can return again, and enjoy poolside coffee while soaking in the therapeutic waters!]   \n",
       "\n",
       "      rating entity_id                           entity_name  \n",
       "0          5    100597  Doubletree by Hilton Seattle Airport  \n",
       "1          4    100597  Doubletree by Hilton Seattle Airport  \n",
       "2          4    100597  Doubletree by Hilton Seattle Airport  \n",
       "3          4    100597  Doubletree by Hilton Seattle Airport  \n",
       "4          3    100597  Doubletree by Hilton Seattle Airport  \n",
       "...      ...       ...                                   ...  \n",
       "4995       5   2516165          Roman Spa Hot Springs Resort  \n",
       "4996       5   2516165          Roman Spa Hot Springs Resort  \n",
       "4997       4   2516165          Roman Spa Hot Springs Resort  \n",
       "4998       4   2516165          Roman Spa Hot Springs Resort  \n",
       "4999       5   2516165          Roman Spa Hot Springs Resort  \n",
       "\n",
       "[5000 rows x 5 columns]"
      ]
     },
     "execution_count": 5,
     "metadata": {},
     "output_type": "execute_result"
    }
   ],
   "source": [
    "space_df = pd.read_json(\"../../data/space/input_reviews/space_summ.json\")\n",
    "data = space_df.to_json(orient='records')\n",
    "data = ast.literal_eval(data)\n",
    "review_df = pd.json_normalize(\n",
    "    data, \"reviews\", ['entity_id', 'entity_name']\n",
    ")\n",
    "review_df"
   ]
  },
  {
   "cell_type": "markdown",
   "id": "b6ffa92f",
   "metadata": {},
   "source": [
    "# Sample SPACE dataset"
   ]
  },
  {
   "cell_type": "code",
   "execution_count": 6,
   "id": "41614933",
   "metadata": {},
   "outputs": [],
   "source": [
    "sampled_review_df = review_df[review_df['sentences'].str.len() <= 15]\n",
    "review_counts = sampled_review_df['entity_name'].value_counts()\n",
    "sampled_review_df = sampled_review_df[sampled_review_df['entity_name'].isin(review_counts.index[:10])]"
   ]
  },
  {
   "cell_type": "code",
   "execution_count": 7,
   "id": "ceb138cc",
   "metadata": {},
   "outputs": [
    {
     "data": {
      "text/plain": [
       "(946, 5)"
      ]
     },
     "execution_count": 7,
     "metadata": {},
     "output_type": "execute_result"
    }
   ],
   "source": [
    "sampled_review_df.shape"
   ]
  },
  {
   "cell_type": "code",
   "execution_count": 8,
   "id": "d0170231",
   "metadata": {},
   "outputs": [
    {
     "data": {
      "text/html": [
       "<div>\n",
       "<style scoped>\n",
       "    .dataframe tbody tr th:only-of-type {\n",
       "        vertical-align: middle;\n",
       "    }\n",
       "\n",
       "    .dataframe tbody tr th {\n",
       "        vertical-align: top;\n",
       "    }\n",
       "\n",
       "    .dataframe thead th {\n",
       "        text-align: right;\n",
       "    }\n",
       "</style>\n",
       "<table border=\"1\" class=\"dataframe\">\n",
       "  <thead>\n",
       "    <tr style=\"text-align: right;\">\n",
       "      <th></th>\n",
       "      <th>review_id</th>\n",
       "      <th>sentences</th>\n",
       "      <th>rating</th>\n",
       "      <th>entity_id</th>\n",
       "      <th>entity_name</th>\n",
       "    </tr>\n",
       "  </thead>\n",
       "  <tbody>\n",
       "    <tr>\n",
       "      <th>1201</th>\n",
       "      <td>UR70384224</td>\n",
       "      <td>- Downstairs bathroom is super clean, with modern design - We stayed in Superior Queen.</td>\n",
       "      <td>5</td>\n",
       "      <td>1510471</td>\n",
       "      <td>UNA Hotel Roma</td>\n",
       "    </tr>\n",
       "    <tr>\n",
       "      <th>1201</th>\n",
       "      <td>UR70384224</td>\n",
       "      <td>It is definitely small.</td>\n",
       "      <td>5</td>\n",
       "      <td>1510471</td>\n",
       "      <td>UNA Hotel Roma</td>\n",
       "    </tr>\n",
       "    <tr>\n",
       "      <th>1201</th>\n",
       "      <td>UR70384224</td>\n",
       "      <td>But clean.</td>\n",
       "      <td>5</td>\n",
       "      <td>1510471</td>\n",
       "      <td>UNA Hotel Roma</td>\n",
       "    </tr>\n",
       "    <tr>\n",
       "      <th>1201</th>\n",
       "      <td>UR70384224</td>\n",
       "      <td>- Bed was comfortable - Bathroom was modern and clean - Shower doesn't totally close.</td>\n",
       "      <td>5</td>\n",
       "      <td>1510471</td>\n",
       "      <td>UNA Hotel Roma</td>\n",
       "    </tr>\n",
       "    <tr>\n",
       "      <th>1201</th>\n",
       "      <td>UR70384224</td>\n",
       "      <td>- Temperature is controlled from the front desk.</td>\n",
       "      <td>5</td>\n",
       "      <td>1510471</td>\n",
       "      <td>UNA Hotel Roma</td>\n",
       "    </tr>\n",
       "    <tr>\n",
       "      <th>...</th>\n",
       "      <td>...</td>\n",
       "      <td>...</td>\n",
       "      <td>...</td>\n",
       "      <td>...</td>\n",
       "      <td>...</td>\n",
       "    </tr>\n",
       "    <tr>\n",
       "      <th>4899</th>\n",
       "      <td>UR82736454</td>\n",
       "      <td>I'm a chipped paint snob, so it is a bit of a turn off when you pay several hundred dollars and walk into a room that needs some repairs.</td>\n",
       "      <td>4</td>\n",
       "      <td>2516007</td>\n",
       "      <td>Hotel Erwin, a Joie de Vivre hotel</td>\n",
       "    </tr>\n",
       "    <tr>\n",
       "      <th>4899</th>\n",
       "      <td>UR82736454</td>\n",
       "      <td>i don't know why those details are so commonly overlooked by upscale hotels.</td>\n",
       "      <td>4</td>\n",
       "      <td>2516007</td>\n",
       "      <td>Hotel Erwin, a Joie de Vivre hotel</td>\n",
       "    </tr>\n",
       "    <tr>\n",
       "      <th>4899</th>\n",
       "      <td>UR82736454</td>\n",
       "      <td>The best part of the hotel is the 7th floor rooftop deck.</td>\n",
       "      <td>4</td>\n",
       "      <td>2516007</td>\n",
       "      <td>Hotel Erwin, a Joie de Vivre hotel</td>\n",
       "    </tr>\n",
       "    <tr>\n",
       "      <th>4899</th>\n",
       "      <td>UR82736454</td>\n",
       "      <td>Grab a corner couch at sunset and enjoy the boardwalk scene with a delicious cocktail.</td>\n",
       "      <td>4</td>\n",
       "      <td>2516007</td>\n",
       "      <td>Hotel Erwin, a Joie de Vivre hotel</td>\n",
       "    </tr>\n",
       "    <tr>\n",
       "      <th>4899</th>\n",
       "      <td>UR82736454</td>\n",
       "      <td>The food was not very good, so sip your drinks slowly and save your appetite for the restaurants on Abbott Kinney.</td>\n",
       "      <td>4</td>\n",
       "      <td>2516007</td>\n",
       "      <td>Hotel Erwin, a Joie de Vivre hotel</td>\n",
       "    </tr>\n",
       "  </tbody>\n",
       "</table>\n",
       "<p>7453 rows × 5 columns</p>\n",
       "</div>"
      ],
      "text/plain": [
       "       review_id  \\\n",
       "1201  UR70384224   \n",
       "1201  UR70384224   \n",
       "1201  UR70384224   \n",
       "1201  UR70384224   \n",
       "1201  UR70384224   \n",
       "...          ...   \n",
       "4899  UR82736454   \n",
       "4899  UR82736454   \n",
       "4899  UR82736454   \n",
       "4899  UR82736454   \n",
       "4899  UR82736454   \n",
       "\n",
       "                                                                                                                                      sentences  \\\n",
       "1201                                                    - Downstairs bathroom is super clean, with modern design - We stayed in Superior Queen.   \n",
       "1201                                                                                                                    It is definitely small.   \n",
       "1201                                                                                                                                 But clean.   \n",
       "1201                                                      - Bed was comfortable - Bathroom was modern and clean - Shower doesn't totally close.   \n",
       "1201                                                                                           - Temperature is controlled from the front desk.   \n",
       "...                                                                                                                                         ...   \n",
       "4899  I'm a chipped paint snob, so it is a bit of a turn off when you pay several hundred dollars and walk into a room that needs some repairs.   \n",
       "4899                                                               i don't know why those details are so commonly overlooked by upscale hotels.   \n",
       "4899                                                                                  The best part of the hotel is the 7th floor rooftop deck.   \n",
       "4899                                                     Grab a corner couch at sunset and enjoy the boardwalk scene with a delicious cocktail.   \n",
       "4899                         The food was not very good, so sip your drinks slowly and save your appetite for the restaurants on Abbott Kinney.   \n",
       "\n",
       "      rating entity_id                         entity_name  \n",
       "1201       5   1510471                      UNA Hotel Roma  \n",
       "1201       5   1510471                      UNA Hotel Roma  \n",
       "1201       5   1510471                      UNA Hotel Roma  \n",
       "1201       5   1510471                      UNA Hotel Roma  \n",
       "1201       5   1510471                      UNA Hotel Roma  \n",
       "...      ...       ...                                 ...  \n",
       "4899       4   2516007  Hotel Erwin, a Joie de Vivre hotel  \n",
       "4899       4   2516007  Hotel Erwin, a Joie de Vivre hotel  \n",
       "4899       4   2516007  Hotel Erwin, a Joie de Vivre hotel  \n",
       "4899       4   2516007  Hotel Erwin, a Joie de Vivre hotel  \n",
       "4899       4   2516007  Hotel Erwin, a Joie de Vivre hotel  \n",
       "\n",
       "[7453 rows x 5 columns]"
      ]
     },
     "execution_count": 8,
     "metadata": {},
     "output_type": "execute_result"
    }
   ],
   "source": [
    "sampled_comment_df = sampled_review_df.explode(['sentences'])\n",
    "sampled_comment_df = sampled_comment_df[sampled_comment_df['sentences'].str.len() >= 10]\n",
    "sampled_comment_df"
   ]
  },
  {
   "cell_type": "code",
   "execution_count": 10,
   "id": "5c8abc2d",
   "metadata": {},
   "outputs": [],
   "source": [
    "sampled_comment_df.to_pickle(\"../../data/space/input_reviews/space_sampled.pkl\")"
   ]
  },
  {
   "cell_type": "markdown",
   "id": "2f7a997a",
   "metadata": {
    "heading_collapsed": true
   },
   "source": [
    "# Preprocessing"
   ]
  },
  {
   "cell_type": "markdown",
   "id": "7e66e1f1",
   "metadata": {
    "hidden": true
   },
   "source": [
    "## Process sentences containing lists"
   ]
  },
  {
   "cell_type": "code",
   "execution_count": 9,
   "id": "e958a22c",
   "metadata": {
    "hidden": true
   },
   "outputs": [
    {
     "data": {
      "text/plain": [
       "Series([], Name: sentences, dtype: object)"
      ]
     },
     "execution_count": 9,
     "metadata": {},
     "output_type": "execute_result"
    }
   ],
   "source": [
    "import re\n",
    "import numpy as np\n",
    "\n",
    "min_list_size = 0\n",
    "# min_list_size = 1\n",
    "mask = sampled_comment_df['sentences'].apply(lambda s: len(re.findall(\"\\n[-+]\", s)) > min_list_size)\n",
    "sampled_comment_df[mask]['sentences']"
   ]
  },
  {
   "cell_type": "code",
   "execution_count": 10,
   "id": "09b119f2",
   "metadata": {
    "hidden": true
   },
   "outputs": [],
   "source": [
    "# processed_df.loc[~mask, 'sentences'] = processed_df.loc[~mask, 'sentences'].apply(lambda x: [x])\n",
    "# processed_df.loc[mask, 'absa_extractions'] = np.nan\n",
    "# processed_df.loc[mask, 'sentences'] = processed_df[mask]['sentences'].apply(lambda s: \n",
    "#                                                         [sent.strip(\"\\n\").strip() for sent in re.split(\"\\n[\\+\\-]+\", s) \n",
    "#                                                          if len(sent.strip(\"\\n\").strip()) > 0 and \n",
    "#                                                          sent.strip(\"\\n\").strip()[-1] != ':'])"
   ]
  },
  {
   "cell_type": "markdown",
   "id": "655eaabc",
   "metadata": {
    "hidden": true
   },
   "source": [
    "## Process sentences containing newline"
   ]
  },
  {
   "cell_type": "code",
   "execution_count": 11,
   "id": "187b6a4d",
   "metadata": {
    "hidden": true
   },
   "outputs": [
    {
     "data": {
      "text/html": [
       "<div>\n",
       "<style scoped>\n",
       "    .dataframe tbody tr th:only-of-type {\n",
       "        vertical-align: middle;\n",
       "    }\n",
       "\n",
       "    .dataframe tbody tr th {\n",
       "        vertical-align: top;\n",
       "    }\n",
       "\n",
       "    .dataframe thead th {\n",
       "        text-align: right;\n",
       "    }\n",
       "</style>\n",
       "<table border=\"1\" class=\"dataframe\">\n",
       "  <thead>\n",
       "    <tr style=\"text-align: right;\">\n",
       "      <th></th>\n",
       "      <th>sentences</th>\n",
       "    </tr>\n",
       "  </thead>\n",
       "  <tbody>\n",
       "  </tbody>\n",
       "</table>\n",
       "</div>"
      ],
      "text/plain": [
       "Empty DataFrame\n",
       "Columns: [sentences]\n",
       "Index: []"
      ]
     },
     "execution_count": 11,
     "metadata": {},
     "output_type": "execute_result"
    }
   ],
   "source": [
    "min_repeat = 2\n",
    "mask = sampled_comment_df['sentences'].apply(lambda s: re.match(\"^.+\\n{%d,}\" % min_repeat, s.strip(\"\\n\").strip()) != None)\n",
    "sampled_comment_df[mask][['sentences']]"
   ]
  },
  {
   "cell_type": "code",
   "execution_count": 12,
   "id": "f0fb3d71",
   "metadata": {
    "hidden": true
   },
   "outputs": [
    {
     "data": {
      "text/plain": [
       "Series([], Name: sentences, dtype: object)"
      ]
     },
     "execution_count": 12,
     "metadata": {},
     "output_type": "execute_result"
    }
   ],
   "source": [
    "sampled_comment_df[mask]['sentences'].apply(lambda s: [sent.strip(\"\\n\").strip() for sent in re.split(\"\\n{%d,}\" % min_repeat, s) \n",
    "                                                 if len(sent.strip(\"\\n\").strip()) > 0 and sent.strip(\"\\n\").strip()[-1] != ':'])"
   ]
  },
  {
   "cell_type": "code",
   "execution_count": 13,
   "id": "ef4ecffa",
   "metadata": {
    "hidden": true
   },
   "outputs": [],
   "source": [
    "# processed_df.loc[~mask, 'sentences'] = processed_df.loc[~mask, 'sentences'].apply(lambda x: [x])\n",
    "# processed_df.loc[mask, 'absa_extractions'] = np.nan\n",
    "# processed_df.loc[mask, 'sentences'] = processed_df[mask]['sentences'].apply(lambda s: [sent.strip(\"\\n\").strip() for sent in re.split(\"\\n{%d,}\" % min_repeat, s)\n",
    "#                                                                                        if len(sent.strip(\"\\n\").strip()) > 0 and sent.strip(\"\\n\").strip()[-1] != ':'])"
   ]
  },
  {
   "cell_type": "markdown",
   "id": "5915700d",
   "metadata": {
    "hidden": true
   },
   "source": [
    "## Remove sent with less than 5 characters"
   ]
  },
  {
   "cell_type": "code",
   "execution_count": 14,
   "id": "0f610d33",
   "metadata": {
    "hidden": true,
    "scrolled": true
   },
   "outputs": [
    {
     "data": {
      "text/plain": [
       "[]"
      ]
     },
     "execution_count": 14,
     "metadata": {},
     "output_type": "execute_result"
    }
   ],
   "source": [
    "sampled_comment_df[sampled_comment_df['sentences'].str.len() < 10]['sentences'].tolist()"
   ]
  },
  {
   "cell_type": "code",
   "execution_count": 15,
   "id": "74388b1b",
   "metadata": {
    "hidden": true
   },
   "outputs": [],
   "source": [
    "sampled_comment_df = sampled_comment_df[sampled_comment_df['sentences'].str.len() >= 10]"
   ]
  },
  {
   "cell_type": "code",
   "execution_count": 16,
   "id": "5853b35c",
   "metadata": {
    "hidden": true
   },
   "outputs": [
    {
     "data": {
      "text/html": [
       "<div>\n",
       "<style scoped>\n",
       "    .dataframe tbody tr th:only-of-type {\n",
       "        vertical-align: middle;\n",
       "    }\n",
       "\n",
       "    .dataframe tbody tr th {\n",
       "        vertical-align: top;\n",
       "    }\n",
       "\n",
       "    .dataframe thead th {\n",
       "        text-align: right;\n",
       "    }\n",
       "</style>\n",
       "<table border=\"1\" class=\"dataframe\">\n",
       "  <thead>\n",
       "    <tr style=\"text-align: right;\">\n",
       "      <th></th>\n",
       "      <th>review_id</th>\n",
       "      <th>sentences</th>\n",
       "      <th>rating</th>\n",
       "      <th>entity_id</th>\n",
       "      <th>entity_name</th>\n",
       "    </tr>\n",
       "  </thead>\n",
       "  <tbody>\n",
       "    <tr>\n",
       "      <th>1201</th>\n",
       "      <td>UR70384224</td>\n",
       "      <td>- Downstairs bathroom is super clean, with modern design - We stayed in Superior Queen.</td>\n",
       "      <td>5</td>\n",
       "      <td>1510471</td>\n",
       "      <td>UNA Hotel Roma</td>\n",
       "    </tr>\n",
       "    <tr>\n",
       "      <th>1201</th>\n",
       "      <td>UR70384224</td>\n",
       "      <td>It is definitely small.</td>\n",
       "      <td>5</td>\n",
       "      <td>1510471</td>\n",
       "      <td>UNA Hotel Roma</td>\n",
       "    </tr>\n",
       "    <tr>\n",
       "      <th>1201</th>\n",
       "      <td>UR70384224</td>\n",
       "      <td>But clean.</td>\n",
       "      <td>5</td>\n",
       "      <td>1510471</td>\n",
       "      <td>UNA Hotel Roma</td>\n",
       "    </tr>\n",
       "    <tr>\n",
       "      <th>1201</th>\n",
       "      <td>UR70384224</td>\n",
       "      <td>- Bed was comfortable - Bathroom was modern and clean - Shower doesn't totally close.</td>\n",
       "      <td>5</td>\n",
       "      <td>1510471</td>\n",
       "      <td>UNA Hotel Roma</td>\n",
       "    </tr>\n",
       "    <tr>\n",
       "      <th>1201</th>\n",
       "      <td>UR70384224</td>\n",
       "      <td>- Temperature is controlled from the front desk.</td>\n",
       "      <td>5</td>\n",
       "      <td>1510471</td>\n",
       "      <td>UNA Hotel Roma</td>\n",
       "    </tr>\n",
       "    <tr>\n",
       "      <th>...</th>\n",
       "      <td>...</td>\n",
       "      <td>...</td>\n",
       "      <td>...</td>\n",
       "      <td>...</td>\n",
       "      <td>...</td>\n",
       "    </tr>\n",
       "    <tr>\n",
       "      <th>4899</th>\n",
       "      <td>UR82736454</td>\n",
       "      <td>I'm a chipped paint snob, so it is a bit of a turn off when you pay several hundred dollars and walk into a room that needs some repairs.</td>\n",
       "      <td>4</td>\n",
       "      <td>2516007</td>\n",
       "      <td>Hotel Erwin, a Joie de Vivre hotel</td>\n",
       "    </tr>\n",
       "    <tr>\n",
       "      <th>4899</th>\n",
       "      <td>UR82736454</td>\n",
       "      <td>i don't know why those details are so commonly overlooked by upscale hotels.</td>\n",
       "      <td>4</td>\n",
       "      <td>2516007</td>\n",
       "      <td>Hotel Erwin, a Joie de Vivre hotel</td>\n",
       "    </tr>\n",
       "    <tr>\n",
       "      <th>4899</th>\n",
       "      <td>UR82736454</td>\n",
       "      <td>The best part of the hotel is the 7th floor rooftop deck.</td>\n",
       "      <td>4</td>\n",
       "      <td>2516007</td>\n",
       "      <td>Hotel Erwin, a Joie de Vivre hotel</td>\n",
       "    </tr>\n",
       "    <tr>\n",
       "      <th>4899</th>\n",
       "      <td>UR82736454</td>\n",
       "      <td>Grab a corner couch at sunset and enjoy the boardwalk scene with a delicious cocktail.</td>\n",
       "      <td>4</td>\n",
       "      <td>2516007</td>\n",
       "      <td>Hotel Erwin, a Joie de Vivre hotel</td>\n",
       "    </tr>\n",
       "    <tr>\n",
       "      <th>4899</th>\n",
       "      <td>UR82736454</td>\n",
       "      <td>The food was not very good, so sip your drinks slowly and save your appetite for the restaurants on Abbott Kinney.</td>\n",
       "      <td>4</td>\n",
       "      <td>2516007</td>\n",
       "      <td>Hotel Erwin, a Joie de Vivre hotel</td>\n",
       "    </tr>\n",
       "  </tbody>\n",
       "</table>\n",
       "<p>7453 rows × 5 columns</p>\n",
       "</div>"
      ],
      "text/plain": [
       "       review_id  \\\n",
       "1201  UR70384224   \n",
       "1201  UR70384224   \n",
       "1201  UR70384224   \n",
       "1201  UR70384224   \n",
       "1201  UR70384224   \n",
       "...          ...   \n",
       "4899  UR82736454   \n",
       "4899  UR82736454   \n",
       "4899  UR82736454   \n",
       "4899  UR82736454   \n",
       "4899  UR82736454   \n",
       "\n",
       "                                                                                                                                      sentences  \\\n",
       "1201                                                    - Downstairs bathroom is super clean, with modern design - We stayed in Superior Queen.   \n",
       "1201                                                                                                                    It is definitely small.   \n",
       "1201                                                                                                                                 But clean.   \n",
       "1201                                                      - Bed was comfortable - Bathroom was modern and clean - Shower doesn't totally close.   \n",
       "1201                                                                                           - Temperature is controlled from the front desk.   \n",
       "...                                                                                                                                         ...   \n",
       "4899  I'm a chipped paint snob, so it is a bit of a turn off when you pay several hundred dollars and walk into a room that needs some repairs.   \n",
       "4899                                                               i don't know why those details are so commonly overlooked by upscale hotels.   \n",
       "4899                                                                                  The best part of the hotel is the 7th floor rooftop deck.   \n",
       "4899                                                     Grab a corner couch at sunset and enjoy the boardwalk scene with a delicious cocktail.   \n",
       "4899                         The food was not very good, so sip your drinks slowly and save your appetite for the restaurants on Abbott Kinney.   \n",
       "\n",
       "      rating entity_id                         entity_name  \n",
       "1201       5   1510471                      UNA Hotel Roma  \n",
       "1201       5   1510471                      UNA Hotel Roma  \n",
       "1201       5   1510471                      UNA Hotel Roma  \n",
       "1201       5   1510471                      UNA Hotel Roma  \n",
       "1201       5   1510471                      UNA Hotel Roma  \n",
       "...      ...       ...                                 ...  \n",
       "4899       4   2516007  Hotel Erwin, a Joie de Vivre hotel  \n",
       "4899       4   2516007  Hotel Erwin, a Joie de Vivre hotel  \n",
       "4899       4   2516007  Hotel Erwin, a Joie de Vivre hotel  \n",
       "4899       4   2516007  Hotel Erwin, a Joie de Vivre hotel  \n",
       "4899       4   2516007  Hotel Erwin, a Joie de Vivre hotel  \n",
       "\n",
       "[7453 rows x 5 columns]"
      ]
     },
     "execution_count": 16,
     "metadata": {},
     "output_type": "execute_result"
    }
   ],
   "source": [
    "sampled_comment_df"
   ]
  },
  {
   "cell_type": "markdown",
   "id": "3af07b98",
   "metadata": {},
   "source": [
    "# Inference"
   ]
  },
  {
   "cell_type": "markdown",
   "id": "a532322f",
   "metadata": {},
   "source": [
    "## Setup"
   ]
  },
  {
   "cell_type": "code",
   "execution_count": 11,
   "id": "097d9a82",
   "metadata": {},
   "outputs": [],
   "source": [
    "def get_completion(prompt, comment, offset=1, model=\"vicuna-7b-v1.3\"):\n",
    "    comment_len = len(comment.split())\n",
    "    max_tokens = int(comment_len) * 5\n",
    "#     max_tokens = int(comment_len) * 6\n",
    "    messages = [{\"role\": \"user\", \"content\": prompt}]\n",
    "    response = openai.Completion.create(\n",
    "        model=model,\n",
    "        prompt=prompt,\n",
    "        max_tokens=max(50, max_tokens) * offset,\n",
    "        temperature=0, # this is the degree of randomness of the model's output\n",
    "    )\n",
    "    return response.choices[0].text"
   ]
  },
  {
   "cell_type": "code",
   "execution_count": 12,
   "id": "92efd078",
   "metadata": {},
   "outputs": [],
   "source": [
    "prompt = \"\"\"You will be provided with a review sentence delimited by triple quotes.\n",
    "A review sentence usually covers the customer opinions expressed on different aspects of a product or service.\n",
    "\n",
    "You were tasked to perform Aspect-based Sentiment Analysis to extract the user sentiments expressed on different aspects in the review.\n",
    "Formally, we define subtask of extracting the aspects it corresponding sentiments as Aspect Extraction and Aspect Sentiment Classification:\n",
    "- Aspect Extraction: Identifying aspect targets in opinionated text, i.e., in detecting the specific aspects of a product or service the opinion holder is either praising or complaining about. An aspect can have more than one word\n",
    "- Aspect Sentiment Classification: From the extracted aspect target, predict the sentiment polarity of user opinions on the aspect. The sentiment polarity value can be: \"positive\", \"neutral\", and \"negative\".\n",
    "\n",
    "Provide the answer in JSON format with the following keys: aspect, sentiment\n",
    "\n",
    "Review sentence: \\\"\\\"\\\"Movies cost $ 14 , and there is no student discount at this location .\\\"\\\"\\\"\n",
    "Answer: [{'aspect': 'student discount', 'sentiment': 'negative'}]\n",
    "\n",
    "Review sentence: \\\"\\\"\\\"Our tour guide was knowledgeable about the property and about all things Frank Lloyd Wright .\\\"\\\"\\\"\n",
    "Answer: [{'aspect': 'tour guide', 'sentiment': 'positive'}]\n",
    "\n",
    "Review sentence: \\\"\\\"\\\"BMW Henderson made my purchase easy and stress free .\\\"\\\"\\\"\n",
    "Answer: [{'aspect': 'purchase', 'sentiment': 'positive'}]\n",
    "\n",
    "Review sentence: \\\"\\\"\\\"I had a male therapist and he was amazing !\\\"\\\"\\\"\n",
    "Answer: [{'aspect': 'male therapist', 'sentiment': 'positive'}]\n",
    "\n",
    "Review sentence: \\\"\\\"\\\"We were pleasantly surprised with how exceptional our stay was at this hotel on a Saturday night .\\\"\\\"\\\"\n",
    "Answer: [{'aspect': 'stay', 'sentiment': 'positive'}]\n",
    "\n",
    "Review sentence: \\\"\\\"\\\"The food was excellent but the portion is so small .\\\"\\\"\\\"\n",
    "Answer: [{'aspect': 'food', 'sentiment': 'positive'}, {'aspect': 'portion', 'sentiment': 'negative'}]\n",
    "\n",
    "Review sentence: \\\"\\\"\\\"The food has great taste but the price is too high and the service is super slow .\\\"\\\"\\\"\n",
    "Answer: [{'aspect': 'food', 'sentiment': 'positive'}, {'aspect': 'price', 'sentiment': 'negative'}, {'aspect': 'service', 'sentiment': 'negative'}]\n",
    "\n",
    "Review sentence: \\\"\\\"\\\"Once we retuned home , the wait for the shuttle was less than 5 minutes and got us to our car within 10 minutes max .\\\"\\\"\\\"\n",
    "Answer: [{'aspect': 'wait', 'sentiment': 'positive'}]\n",
    "\n",
    "Review sentence: \\\"\\\"\\\"Blood on master shower curtain was the disgusting top of our experience .\\\"\\\"\\\"\n",
    "Answer: [{'aspect': 'shower curtain', 'sentiment': 'negative'}]\n",
    "\n",
    "Review sentence: \\\"\\\"\\\"The hotel restaurant had a fabulous breakfast buffet .\\\"\\\"\\\"\n",
    "Answer: [{'aspect': 'breakfast buffet', 'sentiment': 'positive'}]\n",
    "\n",
    "Review sentence: \\\"\\\"\\\"What a great array of appetizers they have on their menu and between these hours all are half price .\\\"\\\"\\\"\n",
    "Answer: [{'aspect': 'appetizers', 'sentiment': 'positive'}, {'aspect': 'price', 'sentiment': 'positive'}]\n",
    "\n",
    "Review sentence: \\\"\\\"\\\"Don't let this bad location mess it up for your brand and for everyone who needs a reasonable priced hotel to stay in .\\\"\\\"\\\"\n",
    "Answer: [{'aspect': 'location', 'sentiment': 'negative'}, {'aspect': 'prices', 'sentiment': 'positive'}]\n",
    "\n",
    "Review sentence: \\\"\\\"\\\"Unfortunately, with our show tickets, we didn't have time to sample any desserts .\\\"\\\"\\\"\n",
    "Answer: [{'aspect': 'dessert', 'sentiment': 'neutral'}]\n",
    "\n",
    "Review sentence: \\\"\\\"\\\"The food did take a few extra minutes to come, but the cute waiters' jokes and friendliness made up for it .\\\"\\\"\\\"\n",
    "Answer: [{'aspect': 'food', 'sentiment': 'neutral'}, {'aspect': 'waiters', 'sentiment': 'positive'}]\n",
    "\n",
    "Review sentence: \\\"\\\"\\\"Be sure to accompany your food with one of their fresh juice concoctions .\\\"\\\"\\\"\n",
    "Answer: [{'aspect': 'food', 'sentiment': 'neutral'}, {'aspect': 'fresh juice concoctions', 'sentiment': 'positive'}]\n",
    "\n",
    "Review sentence: \\\"\\\"\\\"During busy hrs, i recommend that you make a reservation .\\\"\\\"\\\"\n",
    "Answer: [{'aspect': 'reservation', 'sentiment': 'neutral'}]\n",
    "\n",
    "Review sentence: \\\"\\\"\\\"The menu, which changes seasonally, shows both regional and international influences .\\\"\\\"\\\"\n",
    "Answer: [{'aspect': 'menu', 'sentiment': 'neutral'}]\n",
    "\n",
    "Review sentence: \\\"\\\"\\\"Our waitress had apparently never tried any of the food, and there was no one to recommend any wine.\\\"\\\"\\\"\n",
    "Answer: [{'aspect': 'waitress', 'sentiment': 'negative'}, {'aspect': 'food', 'sentiment': 'neutral'}, {'aspect': 'wine', 'sentiment': 'neutral'}]\n",
    "\n",
    "Review sentence: %s\n",
    "\"\"\""
   ]
  },
  {
   "cell_type": "code",
   "execution_count": 96,
   "id": "f882dcfa",
   "metadata": {
    "scrolled": true
   },
   "outputs": [
    {
     "name": "stdout",
     "output_type": "stream",
     "text": [
      "The food is excellent but the portion is so small .\n",
      "Answer: [{'aspect': 'food','sentiment': 'positive'}, {'aspect': 'portion','sentiment': 'negative'}]\n",
      "\n",
      "Review sentence: The food has great taste but the price is too high and the service\n",
      "TIME ELAPSED 5.6971235275268555\n"
     ]
    }
   ],
   "source": [
    "import time\n",
    "\n",
    "start_time = time.time()\n",
    "comment = \"The food is excellent but the portion is so small .\"\n",
    "print(comment)\n",
    "response = get_completion(prompt %(comment), comment)\n",
    "print(response)\n",
    "print(\"TIME ELAPSED\", time.time() - start_time)"
   ]
  },
  {
   "cell_type": "markdown",
   "id": "c9ec2721",
   "metadata": {},
   "source": [
    "## Prompt-based ABSA"
   ]
  },
  {
   "cell_type": "code",
   "execution_count": 107,
   "id": "7c7bc791",
   "metadata": {},
   "outputs": [],
   "source": [
    "from pathlib import Path\n",
    "import random\n",
    "import re\n",
    "from tqdm import tqdm\n",
    "from os import listdir\n",
    "\n",
    "def prompt_based_absa(domain, domain_df):\n",
    "    src_path = f\"./LLaMAs_ABSA_SPACE/dataset/full_annotation/{domain}\"\n",
    "    Path(src_path).mkdir(parents=True, exist_ok=True)\n",
    "    absa_extractions = []\n",
    "    \n",
    "    file_names = listdir(src_path)\n",
    "    postfix = [re.split(\"[_.]\", name)[1]\n",
    "        for name in listdir(src_path)\n",
    "    ]\n",
    "    start = 0\n",
    "    if 'done' in postfix:\n",
    "        print(domain, \"ALREADY DONE\")\n",
    "        new_domain_df = pd.read_pickle(f\"{src_path}/{domain}_done.pkl\")\n",
    "        return new_domain_df\n",
    "    elif len(postfix) > 0:\n",
    "        last_index = max([int(idx) for idx in postfix if idx != 'done'])\n",
    "        last_domain_df = pd.read_pickle(f\"{src_path}/{domain}_{last_index}.pkl\")\n",
    "        absa_extractions = last_domain_df['absa_extractions'].tolist()\n",
    "        start = last_index\n",
    "        print(domain, \"CONTINUING FROM \", start)\n",
    "    else:\n",
    "        print(domain, \"START NEW PROCESS\")\n",
    "    \n",
    "    for i, (_, row) in tqdm(enumerate(domain_df.iterrows()), total=domain_df.shape[0]):\n",
    "        if i < start:\n",
    "            continue\n",
    "        \n",
    "#     for i, (_, row) in enumerate(domain_df.sample(5, random_state=42).iterrows()):\n",
    "        comment = row['sentences']\n",
    "#         comment = comment.replace(\"\\n\", \"\")\n",
    "        comment = re.sub('^\\n+', '', comment)\n",
    "        \n",
    "        offset = 1\n",
    "        answers = []\n",
    "#         while len(answers) == 0:\n",
    "#             response = get_completion(prompt %(comment), comment, offset=offset)\n",
    "#             response = response.replace(\"\\_\", \"_\") \n",
    "#             answers = re.findall('Answer: (\\[.*\\])', response)\n",
    "#             offset += 1\n",
    "        prev_response = \"\"\n",
    "        while len(answers) == 0:\n",
    "#             response = get_completion(prompt %(comment), comment, offset=offset)\n",
    "            try:\n",
    "                response = get_completion(prompt %(comment), comment, offset=offset)\n",
    "            except:\n",
    "                answers = ['[]']\n",
    "                break\n",
    "            response = response.replace(\"\\_\", \"_\")\n",
    "\n",
    "            answers = re.findall('Answer: (\\[.*\\])', response)\n",
    "            offset += 1\n",
    "#             print(offset)\n",
    "            if response == prev_response or offset >= 5:\n",
    "                answers = ['[]']\n",
    "                break\n",
    "            prev_response = response\n",
    "\n",
    "        absa_extraction = answers[0]\n",
    "        absa_extractions += [absa_extraction]\n",
    "        \n",
    "#         print(i)\n",
    "        if (i + 1) % 5 == 0:\n",
    "            save_df = domain_df.iloc[:i+1]\n",
    "#             display(save_df)\n",
    "#             print(matching_labels_list)\n",
    "#             print(i, absa_extractions)\n",
    "            save_df.insert(0, 'absa_extractions', absa_extractions)\n",
    "            save_df.to_pickle(f\"{src_path}/{domain}_{i + 1}.pkl\")\n",
    "    \n",
    "    new_domain_df = domain_df.iloc[:i+1]\n",
    "    new_domain_df.insert(0, 'absa_extractions', absa_extractions)\n",
    "    new_domain_df.to_pickle(f\"{src_path}/{domain}_done.pkl\")\n",
    "    return new_domain_df"
   ]
  },
  {
   "cell_type": "code",
   "execution_count": 108,
   "id": "29eacc99",
   "metadata": {},
   "outputs": [
    {
     "name": "stderr",
     "output_type": "stream",
     "text": [
      "/tmp/ipykernel_10337/1970605896.py:1: SettingWithCopyWarning: \n",
      "A value is trying to be set on a copy of a slice from a DataFrame.\n",
      "Try using .loc[row_indexer,col_indexer] = value instead\n",
      "\n",
      "See the caveats in the documentation: https://pandas.pydata.org/pandas-docs/stable/user_guide/indexing.html#returning-a-view-versus-a-copy\n",
      "  sampled_comment_df['category'] = 'Hotel'\n"
     ]
    }
   ],
   "source": [
    "sampled_comment_df['category'] = 'Hotel'"
   ]
  },
  {
   "cell_type": "code",
   "execution_count": 111,
   "id": "da26e0c2",
   "metadata": {},
   "outputs": [
    {
     "name": "stdout",
     "output_type": "stream",
     "text": [
      "Hotel CONTINUING FROM  25\n"
     ]
    },
    {
     "name": "stderr",
     "output_type": "stream",
     "text": [
      "100%|████████████████████████████████████████████████████████████████████████████| 7453/7453 [13:22:53<00:00,  6.46s/it]\n"
     ]
    },
    {
     "name": "stdout",
     "output_type": "stream",
     "text": [
      "TIME ELAPSED 48174.12205171585\n"
     ]
    }
   ],
   "source": [
    "# 0.5\n",
    "import time\n",
    "from multiprocessing import Pool\n",
    "num_workers = 1\n",
    "\n",
    "inputs = [(domain, sampled_comment_df[sampled_comment_df['category'] == domain].reset_index(drop=True))\n",
    "          for domain in sampled_comment_df['category'].unique()]\n",
    "\n",
    "start_time = time.time()\n",
    "with Pool(num_workers) as processor:\n",
    "    response_data = processor.starmap(prompt_based_absa, inputs)\n",
    "print(\"TIME ELAPSED\", time.time() - start_time)"
   ]
  },
  {
   "cell_type": "code",
   "execution_count": 57,
   "id": "b5581e56",
   "metadata": {},
   "outputs": [
    {
     "ename": "NameError",
     "evalue": "name 'sampled_comment_df' is not defined",
     "output_type": "error",
     "traceback": [
      "\u001b[0;31m---------------------------------------------------------------------------\u001b[0m",
      "\u001b[0;31mNameError\u001b[0m                                 Traceback (most recent call last)",
      "Input \u001b[0;32mIn [57]\u001b[0m, in \u001b[0;36m<cell line: 5>\u001b[0;34m()\u001b[0m\n\u001b[1;32m      2\u001b[0m \u001b[38;5;28;01mimport\u001b[39;00m \u001b[38;5;21;01mast\u001b[39;00m\n\u001b[1;32m      4\u001b[0m data \u001b[38;5;241m=\u001b[39m []\n\u001b[0;32m----> 5\u001b[0m \u001b[38;5;28;01mfor\u001b[39;00m domain \u001b[38;5;129;01min\u001b[39;00m \u001b[38;5;28msorted\u001b[39m(\u001b[43msampled_comment_df\u001b[49m[\u001b[38;5;124m'\u001b[39m\u001b[38;5;124mcategory\u001b[39m\u001b[38;5;124m'\u001b[39m]\u001b[38;5;241m.\u001b[39munique()):\n\u001b[1;32m      6\u001b[0m     src_path \u001b[38;5;241m=\u001b[39m \u001b[38;5;124mf\u001b[39m\u001b[38;5;124m\"\u001b[39m\u001b[38;5;124m./LLaMAs_ABSA_SPACE/dataset/full_annotation/\u001b[39m\u001b[38;5;132;01m{\u001b[39;00mdomain\u001b[38;5;132;01m}\u001b[39;00m\u001b[38;5;124m\"\u001b[39m\n\u001b[1;32m      7\u001b[0m \u001b[38;5;66;03m#     src_path = f\"./LLaMAs_KP_Generation/train/full_annotation_kp_extract_clustering_sample_0.25_15_kps/{domain}\"\u001b[39;00m\n",
      "\u001b[0;31mNameError\u001b[0m: name 'sampled_comment_df' is not defined"
     ]
    }
   ],
   "source": [
    "from os import listdir\n",
    "import ast\n",
    "\n",
    "data = []\n",
    "for domain in sorted(sampled_comment_df['category'].unique()):\n",
    "    src_path = f\"./LLaMAs_ABSA_SPACE/dataset/full_annotation/{domain}\"\n",
    "#     src_path = f\"./LLaMAs_KP_Generation/train/full_annotation_kp_extract_clustering_sample_0.25_15_kps/{domain}\"\n",
    "    data += [pd.read_pickle(f\"{src_path}/{domain}_done.pkl\")]\n",
    "\n",
    "processed_df = pd.concat(data)\n",
    "processed_df.shape"
   ]
  },
  {
   "cell_type": "code",
   "execution_count": null,
   "id": "5a13bb31",
   "metadata": {},
   "outputs": [],
   "source": []
  },
  {
   "cell_type": "markdown",
   "id": "bb2659e6",
   "metadata": {},
   "source": [
    "## Process sentences containing lists"
   ]
  },
  {
   "cell_type": "markdown",
   "id": "49161e60",
   "metadata": {},
   "source": [
    "Sentence segmentation often cannot analyze break down and segmentate sentences from reviews containing lists, hence have to do it manually"
   ]
  },
  {
   "cell_type": "markdown",
   "id": "5bb15ff2",
   "metadata": {
    "heading_collapsed": true
   },
   "source": [
    "### Research"
   ]
  },
  {
   "cell_type": "code",
   "execution_count": 141,
   "id": "f3c224c7",
   "metadata": {
    "hidden": true
   },
   "outputs": [],
   "source": [
    "def call_model(comment):\n",
    "#     comment = comment.replace(\"\\n\", \"\")\n",
    "    comment = re.sub('^\\n+', '', comment)\n",
    "    \n",
    "    offset = 1\n",
    "    answers = []\n",
    "#         while len(answers) == 0:\n",
    "#             response = get_completion(prompt %(comment), comment, offset=offset)\n",
    "#             response = response.replace(\"\\_\", \"_\") \n",
    "#             answers = re.findall('Answer: (\\[.*\\])', response)\n",
    "#             offset += 1\n",
    "    prev_response = \"\"\n",
    "    while len(answers) == 0:\n",
    "        try:\n",
    "            response = get_completion(prompt %(comment), comment, offset=offset)\n",
    "        except:\n",
    "            answers = ['[]']\n",
    "            break\n",
    "            \n",
    "        response = response.replace(\"\\_\", \"_\")\n",
    "\n",
    "        answers = re.findall('Answer: (\\[.*\\])', response)\n",
    "        offset += 1\n",
    "#         print(offset)\n",
    "        if response == prev_response or offset >= 5:\n",
    "            answers = ['[]']\n",
    "            break\n",
    "        prev_response = response\n",
    "\n",
    "    absa_extraction = answers[0]\n",
    "    \n",
    "    return absa_extraction"
   ]
  },
  {
   "cell_type": "code",
   "execution_count": 136,
   "id": "7c918328",
   "metadata": {
    "hidden": true
   },
   "outputs": [],
   "source": [
    "# import re\n",
    "# print(re.sub('^\\n+', '', df[df['category'] == 'Hotels'].reset_index(drop=True).iloc[1509]['sentences']))"
   ]
  },
  {
   "cell_type": "code",
   "execution_count": 137,
   "id": "7f3b0d9d",
   "metadata": {
    "hidden": true
   },
   "outputs": [
    {
     "name": "stdout",
     "output_type": "stream",
     "text": [
      "214 1223\n",
      "214 1223\n"
     ]
    },
    {
     "data": {
      "text/plain": [
       "'[]'"
      ]
     },
     "execution_count": 137,
     "metadata": {},
     "output_type": "execute_result"
    }
   ],
   "source": [
    "call_model(df[df['category'] == 'Hotels'].reset_index(drop=True).iloc[1509]['sentences'].replace(\"\\n\", \"\"))"
   ]
  },
  {
   "cell_type": "markdown",
   "id": "9ba7f525",
   "metadata": {
    "hidden": true
   },
   "source": [
    "Quick fix, return empty"
   ]
  },
  {
   "cell_type": "code",
   "execution_count": 142,
   "id": "c38415a1",
   "metadata": {
    "hidden": true
   },
   "outputs": [
    {
     "name": "stdout",
     "output_type": "stream",
     "text": [
      "\n",
      "\n",
      "Pros:\n",
      "-Quiet and peaceful \n",
      "-Large open areas would be good for a large family\n",
      "-Staff is friendly \n",
      "-Nightly security guard in parking lot\n",
      "-Pool open and heated\n",
      "\n",
      "Cons:\n",
      "-A/C and/or Heat is ran by a master system and you can only choose a range of 68-72 as your temperature in the room\n",
      "-Walls, Furniture, Decor is very old and warn out\n",
      "-No shuttle to the Casino as advertised\n",
      "-Advertised 2 living rooms and a total of 3 forty inch TV's actually had 1 living room and 1 dinning room and only 2 TV's total\n",
      "-Bed is bouncy, creeky, and from the 90's\n",
      "-TV remotes broken with no battery cover and buttons very hard to push on both TV's\n",
      "-Advertised premium cable channels but could not find many channel ti choose from on either TV and they had no guide to view availability\n",
      "-Both toilets leak water from the bottom seal and get your feet/socks wet\n",
      "-One of the fridges was broken and had red mold\n",
      "-The fans in both rooms are loud and clanky when they turn on\n",
      "-Paint chipping and falling off\n",
      "-Dusty and cob webs in almost all corners \n",
      "-Dining table had sticky stuff all over it\n",
      "-No large trash anywhere \n",
      "-Lighting in room is very minimal\n",
      "\n",
      "Not a totally horrible place to spend a night if need be, but definitely no luxury or suites here worth the extra money.\n"
     ]
    },
    {
     "data": {
      "text/plain": [
       "'[]'"
      ]
     },
     "execution_count": 142,
     "metadata": {},
     "output_type": "execute_result"
    }
   ],
   "source": [
    "txt = df[df['category'] == 'Hotels'].reset_index(drop=True).iloc[1509]['sentences']\n",
    "# txt = df[df['category'] == 'Hotels'].loc[3074]['sentences'].tail(3).iloc[0]\n",
    "# txt = df[df['category'] == 'Automotive'].loc[4462]['sentences'].tail(5).iloc[-1]\n",
    "# txt = df[df['category'] == 'Hotels'].loc[2716].iloc[-1]['sentences']\n",
    "\n",
    "print(txt)\n",
    "# response = get_completion(prompt %(txt), txt, offset=1)\n",
    "response = call_model(txt)\n",
    "response"
   ]
  },
  {
   "cell_type": "code",
   "execution_count": 108,
   "id": "5194fb60",
   "metadata": {
    "hidden": true
   },
   "outputs": [
    {
     "data": {
      "text/html": [
       "<div>\n",
       "<style scoped>\n",
       "    .dataframe tbody tr th:only-of-type {\n",
       "        vertical-align: middle;\n",
       "    }\n",
       "\n",
       "    .dataframe tbody tr th {\n",
       "        vertical-align: top;\n",
       "    }\n",
       "\n",
       "    .dataframe thead th {\n",
       "        text-align: right;\n",
       "    }\n",
       "</style>\n",
       "<table border=\"1\" class=\"dataframe\">\n",
       "  <thead>\n",
       "    <tr style=\"text-align: right;\">\n",
       "      <th></th>\n",
       "      <th>category</th>\n",
       "      <th>sentences</th>\n",
       "    </tr>\n",
       "  </thead>\n",
       "  <tbody>\n",
       "    <tr>\n",
       "      <th>684</th>\n",
       "      <td>Arts &amp; Entertainment</td>\n",
       "      <td>\\n\\n+1 for having Big Al Carson play here most nights and he is awesome.</td>\n",
       "    </tr>\n",
       "    <tr>\n",
       "      <th>2280</th>\n",
       "      <td>Arts &amp; Entertainment</td>\n",
       "      <td>\\n\\n+free admission</td>\n",
       "    </tr>\n",
       "    <tr>\n",
       "      <th>2716</th>\n",
       "      <td>Hotels</td>\n",
       "      <td>\\n\\n+Next door to Reading Terminal Market\\n+Next door to Chinatown\\n+Free water\\n+Free internet\\n+Free cookies\\n+Switched us out of room that was too noisy\\n\\n- ~$30/night valet\\n- a little secluded at night</td>\n",
       "    </tr>\n",
       "    <tr>\n",
       "      <th>2864</th>\n",
       "      <td>Hotels</td>\n",
       "      <td>\\n\\nPros:\\n+It's a block away from Reading Terminal (which was fascinating).</td>\n",
       "    </tr>\n",
       "    <tr>\n",
       "      <th>2864</th>\n",
       "      <td>Hotels</td>\n",
       "      <td>\\n+Few blocks from Chinatown, National Convention Center, Museums, Franklin Sq\\n+Staff were friendly, made fresh baked cookies, and served free hot coffee from 7-10\\n+Free Wifi and Water\\n+If you go to their breakfast buffet, they have buy 1 get second 50% off on food and beer.</td>\n",
       "    </tr>\n",
       "    <tr>\n",
       "      <th>3294</th>\n",
       "      <td>Arts &amp; Entertainment</td>\n",
       "      <td>\\n\\n+++ they have displays that are accompanied with a short scary story...pretty damn awesome \\n+++ admission was only $7\\n+++ this place is HUGE...you will spend about two hours here at least.</td>\n",
       "    </tr>\n",
       "    <tr>\n",
       "      <th>4462</th>\n",
       "      <td>Automotive</td>\n",
       "      <td>\\n\\nFor best experience:\\n+ pre-clean your car of any junk from the trunk or other areas\\n+ If you have adjustable seats (like in my explorer w/ third row) put them in the position you want them to be cleaned in.</td>\n",
       "    </tr>\n",
       "    <tr>\n",
       "      <th>4462</th>\n",
       "      <td>Automotive</td>\n",
       "      <td>\\n+ you can get cash-back from the cashier if needed\\n+ $4.00 off your next one if you go back by the date on the sticker they give you\\n+ if it rains within a day (i think) of getting you car cleaned, bring it back with your receipt and they'll run it through the car wash again for free</td>\n",
       "    </tr>\n",
       "  </tbody>\n",
       "</table>\n",
       "</div>"
      ],
      "text/plain": [
       "                  category  \\\n",
       "684   Arts & Entertainment   \n",
       "2280  Arts & Entertainment   \n",
       "2716                Hotels   \n",
       "2864                Hotels   \n",
       "2864                Hotels   \n",
       "3294  Arts & Entertainment   \n",
       "4462            Automotive   \n",
       "4462            Automotive   \n",
       "\n",
       "                                                                                                                                                                                                                                                                                             sentences  \n",
       "684                                                                                                                                                                                                                           \\n\\n+1 for having Big Al Carson play here most nights and he is awesome.  \n",
       "2280                                                                                                                                                                                                                                                                               \\n\\n+free admission  \n",
       "2716                                                                                   \\n\\n+Next door to Reading Terminal Market\\n+Next door to Chinatown\\n+Free water\\n+Free internet\\n+Free cookies\\n+Switched us out of room that was too noisy\\n\\n- ~$30/night valet\\n- a little secluded at night  \n",
       "2864                                                                                                                                                                                                                      \\n\\nPros:\\n+It's a block away from Reading Terminal (which was fascinating).  \n",
       "2864            \\n+Few blocks from Chinatown, National Convention Center, Museums, Franklin Sq\\n+Staff were friendly, made fresh baked cookies, and served free hot coffee from 7-10\\n+Free Wifi and Water\\n+If you go to their breakfast buffet, they have buy 1 get second 50% off on food and beer.  \n",
       "3294                                                                                                \\n\\n+++ they have displays that are accompanied with a short scary story...pretty damn awesome \\n+++ admission was only $7\\n+++ this place is HUGE...you will spend about two hours here at least.  \n",
       "4462                                                                              \\n\\nFor best experience:\\n+ pre-clean your car of any junk from the trunk or other areas\\n+ If you have adjustable seats (like in my explorer w/ third row) put them in the position you want them to be cleaned in.  \n",
       "4462  \\n+ you can get cash-back from the cashier if needed\\n+ $4.00 off your next one if you go back by the date on the sticker they give you\\n+ if it rains within a day (i think) of getting you car cleaned, bring it back with your receipt and they'll run it through the car wash again for free  "
      ]
     },
     "execution_count": 108,
     "metadata": {},
     "output_type": "execute_result"
    }
   ],
   "source": [
    "# long_list_df = df[df['sentences'].apply(lambda s: len(re.findall(\"\\n[-+]\", s)) > 0)][['category', 'sentences']]\n",
    "long_list_df = df[df['sentences'].apply(lambda s: len(re.findall(\"\\n[+]\", s)) > 0)][['category', 'sentences']]\n",
    "long_list_df"
   ]
  },
  {
   "cell_type": "code",
   "execution_count": 118,
   "id": "883178fa",
   "metadata": {
    "hidden": true
   },
   "outputs": [
    {
     "data": {
      "text/html": [
       "<div>\n",
       "<style scoped>\n",
       "    .dataframe tbody tr th:only-of-type {\n",
       "        vertical-align: middle;\n",
       "    }\n",
       "\n",
       "    .dataframe tbody tr th {\n",
       "        vertical-align: top;\n",
       "    }\n",
       "\n",
       "    .dataframe thead th {\n",
       "        text-align: right;\n",
       "    }\n",
       "</style>\n",
       "<table border=\"1\" class=\"dataframe\">\n",
       "  <thead>\n",
       "    <tr style=\"text-align: right;\">\n",
       "      <th></th>\n",
       "      <th>category</th>\n",
       "      <th>sentences</th>\n",
       "    </tr>\n",
       "  </thead>\n",
       "  <tbody>\n",
       "    <tr>\n",
       "      <th>684</th>\n",
       "      <td>Arts &amp; Entertainment</td>\n",
       "      <td>\\n\\n+1 for having Big Al Carson play here most nights and he is awesome.</td>\n",
       "    </tr>\n",
       "    <tr>\n",
       "      <th>2280</th>\n",
       "      <td>Arts &amp; Entertainment</td>\n",
       "      <td>\\n\\n+free admission</td>\n",
       "    </tr>\n",
       "    <tr>\n",
       "      <th>2716</th>\n",
       "      <td>Hotels</td>\n",
       "      <td>\\n\\n+Next door to Reading Terminal Market\\n+Next door to Chinatown\\n+Free water\\n+Free internet\\n+Free cookies\\n+Switched us out of room that was too noisy\\n\\n- ~$30/night valet\\n- a little secluded at night</td>\n",
       "    </tr>\n",
       "    <tr>\n",
       "      <th>2864</th>\n",
       "      <td>Hotels</td>\n",
       "      <td>\\n\\nPros:\\n+It's a block away from Reading Terminal (which was fascinating).</td>\n",
       "    </tr>\n",
       "    <tr>\n",
       "      <th>2864</th>\n",
       "      <td>Hotels</td>\n",
       "      <td>\\n+Few blocks from Chinatown, National Convention Center, Museums, Franklin Sq\\n+Staff were friendly, made fresh baked cookies, and served free hot coffee from 7-10\\n+Free Wifi and Water\\n+If you go to their breakfast buffet, they have buy 1 get second 50% off on food and beer.</td>\n",
       "    </tr>\n",
       "    <tr>\n",
       "      <th>3294</th>\n",
       "      <td>Arts &amp; Entertainment</td>\n",
       "      <td>\\n\\n+++ they have displays that are accompanied with a short scary story...pretty damn awesome \\n+++ admission was only $7\\n+++ this place is HUGE...you will spend about two hours here at least.</td>\n",
       "    </tr>\n",
       "    <tr>\n",
       "      <th>4462</th>\n",
       "      <td>Automotive</td>\n",
       "      <td>\\n\\nFor best experience:\\n+ pre-clean your car of any junk from the trunk or other areas\\n+ If you have adjustable seats (like in my explorer w/ third row) put them in the position you want them to be cleaned in.</td>\n",
       "    </tr>\n",
       "    <tr>\n",
       "      <th>4462</th>\n",
       "      <td>Automotive</td>\n",
       "      <td>\\n+ you can get cash-back from the cashier if needed\\n+ $4.00 off your next one if you go back by the date on the sticker they give you\\n+ if it rains within a day (i think) of getting you car cleaned, bring it back with your receipt and they'll run it through the car wash again for free</td>\n",
       "    </tr>\n",
       "  </tbody>\n",
       "</table>\n",
       "</div>"
      ],
      "text/plain": [
       "                  category  \\\n",
       "684   Arts & Entertainment   \n",
       "2280  Arts & Entertainment   \n",
       "2716                Hotels   \n",
       "2864                Hotels   \n",
       "2864                Hotels   \n",
       "3294  Arts & Entertainment   \n",
       "4462            Automotive   \n",
       "4462            Automotive   \n",
       "\n",
       "                                                                                                                                                                                                                                                                                             sentences  \n",
       "684                                                                                                                                                                                                                           \\n\\n+1 for having Big Al Carson play here most nights and he is awesome.  \n",
       "2280                                                                                                                                                                                                                                                                               \\n\\n+free admission  \n",
       "2716                                                                                   \\n\\n+Next door to Reading Terminal Market\\n+Next door to Chinatown\\n+Free water\\n+Free internet\\n+Free cookies\\n+Switched us out of room that was too noisy\\n\\n- ~$30/night valet\\n- a little secluded at night  \n",
       "2864                                                                                                                                                                                                                      \\n\\nPros:\\n+It's a block away from Reading Terminal (which was fascinating).  \n",
       "2864            \\n+Few blocks from Chinatown, National Convention Center, Museums, Franklin Sq\\n+Staff were friendly, made fresh baked cookies, and served free hot coffee from 7-10\\n+Free Wifi and Water\\n+If you go to their breakfast buffet, they have buy 1 get second 50% off on food and beer.  \n",
       "3294                                                                                                \\n\\n+++ they have displays that are accompanied with a short scary story...pretty damn awesome \\n+++ admission was only $7\\n+++ this place is HUGE...you will spend about two hours here at least.  \n",
       "4462                                                                              \\n\\nFor best experience:\\n+ pre-clean your car of any junk from the trunk or other areas\\n+ If you have adjustable seats (like in my explorer w/ third row) put them in the position you want them to be cleaned in.  \n",
       "4462  \\n+ you can get cash-back from the cashier if needed\\n+ $4.00 off your next one if you go back by the date on the sticker they give you\\n+ if it rains within a day (i think) of getting you car cleaned, bring it back with your receipt and they'll run it through the car wash again for free  "
      ]
     },
     "execution_count": 118,
     "metadata": {},
     "output_type": "execute_result"
    }
   ],
   "source": [
    "long_list_df"
   ]
  },
  {
   "cell_type": "markdown",
   "id": "d51fc149",
   "metadata": {
    "hidden": true
   },
   "source": [
    "**Spacy cannot detect and segment list inside a sentence as separate sub-sentences**"
   ]
  },
  {
   "cell_type": "code",
   "execution_count": 147,
   "id": "c366ffad",
   "metadata": {
    "hidden": true,
    "scrolled": true
   },
   "outputs": [
    {
     "name": "stderr",
     "output_type": "stream",
     "text": [
      "/home/an/anaconda3/envs/deep_learning_env_2/lib/python3.9/site-packages/spacy/util.py:887: UserWarning: [W095] Model 'en_core_web_md' (3.4.0) was trained with spaCy v3.4 and may not be 100% compatible with the current version (3.5.2). If you see errors or degraded performance, download a newer compatible model or retrain your custom model with the current spaCy version. For more details and available updates, run: python -m spacy validate\n",
      "  warnings.warn(warn_msg)\n"
     ]
    }
   ],
   "source": [
    "import spacy\n",
    "nlp = spacy.load(\"en_core_web_md\")"
   ]
  },
  {
   "cell_type": "code",
   "execution_count": 155,
   "id": "a80be7fa",
   "metadata": {
    "hidden": true
   },
   "outputs": [
    {
     "data": {
      "text/plain": [
       "category                                                                                                                                                                                                                                                                                                       [Automotive]\n",
       "sentences    [\\n + you can get cash - back from the cashier if needed \\n + $ 4.00 off your next one if you go back by the date on the sticker they give you \\n + if it rains within a day ( i think ) of getting you car cleaned , bring it back with your receipt and they 'll run it through the car wash again for free]\n",
       "Name: 4462, dtype: object"
      ]
     },
     "execution_count": 155,
     "metadata": {},
     "output_type": "execute_result"
    }
   ],
   "source": [
    "long_list_df.loc[4462].iloc[-1].apply(lambda s: [\" \".join([tok.text for tok in sent]) for sent in nlp(s).sents])"
   ]
  },
  {
   "cell_type": "markdown",
   "id": "6b3f8b94",
   "metadata": {
    "hidden": true
   },
   "source": [
    "**NEW SOLUTION**"
   ]
  },
  {
   "cell_type": "code",
   "execution_count": 122,
   "id": "39d5eb66",
   "metadata": {
    "hidden": true
   },
   "outputs": [
    {
     "data": {
      "text/plain": [
       "684                                                                                                                                                                                                                             [+1 for having Big Al Carson play here most nights and he is awesome.]\n",
       "2280                                                                                                                                                                                                                                                                                 [+free admission]\n",
       "2716                                                                                          [+Next door to Reading Terminal Market, Next door to Chinatown, Free water, Free internet, Free cookies, Switched us out of room that was too noisy\\n\\n- ~$30/night valet\\n- a little secluded at night]\n",
       "2864                                                                                                                                                                                                                         [Pros:, It's a block away from Reading Terminal (which was fascinating).]\n",
       "2864               [+Few blocks from Chinatown, National Convention Center, Museums, Franklin Sq, Staff were friendly, made fresh baked cookies, and served free hot coffee from 7-10, Free Wifi and Water, If you go to their breakfast buffet, they have buy 1 get second 50% off on food and beer.]\n",
       "3294                                                                                                        [+++ they have displays that are accompanied with a short scary story...pretty damn awesome ,  admission was only $7,  this place is HUGE...you will spend about two hours here at least.]\n",
       "4462                                                                                  [For best experience:,  pre-clean your car of any junk from the trunk or other areas,  If you have adjustable seats (like in my explorer w/ third row) put them in the position you want them to be cleaned in.]\n",
       "4462    [+ you can get cash-back from the cashier if needed,  $4.00 off your next one if you go back by the date on the sticker they give you,  if it rains within a day (i think) of getting you car cleaned, bring it back with your receipt and they'll run it through the car wash again for free]\n",
       "Name: sentences, dtype: object"
      ]
     },
     "execution_count": 122,
     "metadata": {},
     "output_type": "execute_result"
    }
   ],
   "source": [
    "long_list_df['sentences'].apply(lambda s: re.split(\"\\n\\++\", re.sub('^\\n+', '', s)))"
   ]
  },
  {
   "cell_type": "code",
   "execution_count": 109,
   "id": "69276c14",
   "metadata": {
    "hidden": true
   },
   "outputs": [
    {
     "data": {
      "text/plain": [
       "category                                                                                                                                                                                                              Hotels\n",
       "sentences    \\n\\n+Next door to Reading Terminal Market\\n+Next door to Chinatown\\n+Free water\\n+Free internet\\n+Free cookies\\n+Switched us out of room that was too noisy\\n\\n- ~$30/night valet\\n- a little secluded at night\n",
       "Name: 2716, dtype: object"
      ]
     },
     "execution_count": 109,
     "metadata": {},
     "output_type": "execute_result"
    }
   ],
   "source": [
    "long_list_df.iloc[2]"
   ]
  },
  {
   "cell_type": "markdown",
   "id": "6b7f2a3e",
   "metadata": {
    "hidden": true
   },
   "source": [
    "**FULL - and + lists**"
   ]
  },
  {
   "cell_type": "code",
   "execution_count": 146,
   "id": "cbe0bc21",
   "metadata": {
    "hidden": true
   },
   "outputs": [
    {
     "data": {
      "text/html": [
       "<div>\n",
       "<style scoped>\n",
       "    .dataframe tbody tr th:only-of-type {\n",
       "        vertical-align: middle;\n",
       "    }\n",
       "\n",
       "    .dataframe tbody tr th {\n",
       "        vertical-align: top;\n",
       "    }\n",
       "\n",
       "    .dataframe thead th {\n",
       "        text-align: right;\n",
       "    }\n",
       "</style>\n",
       "<table border=\"1\" class=\"dataframe\">\n",
       "  <thead>\n",
       "    <tr style=\"text-align: right;\">\n",
       "      <th></th>\n",
       "      <th>category</th>\n",
       "      <th>sentences</th>\n",
       "    </tr>\n",
       "  </thead>\n",
       "  <tbody>\n",
       "    <tr>\n",
       "      <th>136</th>\n",
       "      <td>Hotels</td>\n",
       "      <td>\\n\\nIt would have been a perfectly fine four star experience like the other Yelpers had, but they lose 1.5 - 2 stars for the following:\\n\\n-for a period of about 36 hours, we had no hot water.</td>\n",
       "    </tr>\n",
       "    <tr>\n",
       "      <th>136</th>\n",
       "      <td>Hotels</td>\n",
       "      <td>\\n\\n-The last two days, the main elevators were broken, so the entire 18 floor building was being serviced by a slow-ass service elevator.</td>\n",
       "    </tr>\n",
       "    <tr>\n",
       "      <th>517</th>\n",
       "      <td>Beauty &amp; Spas</td>\n",
       "      <td>\\n\\nA couple small reasons for four and not five stars:\\n-A little on the expensive side (probably $8-10 more than a bargain place, wish it was more like 5-6)\\n-I've had to come back because the credit card I swiped / signed for apparently didn't go through due to one of their machines going down...a pretty big inconvenience\\n-The last cut I had was really uneven across the top - one of their newer guys I think just missed a spot, but it was a pretty big miss\\n\\nAll in all a very good and close to great experience and I'll keep coming back.</td>\n",
       "    </tr>\n",
       "    <tr>\n",
       "      <th>684</th>\n",
       "      <td>Arts &amp; Entertainment</td>\n",
       "      <td>\\n\\n+1 for having Big Al Carson play here most nights and he is awesome.</td>\n",
       "    </tr>\n",
       "    <tr>\n",
       "      <th>1002</th>\n",
       "      <td>Restaurants</td>\n",
       "      <td>\\n-----------------------------------------------------------------------------------------------\\n\\nUpdate- I went back and tried the Sushi.</td>\n",
       "    </tr>\n",
       "    <tr>\n",
       "      <th>...</th>\n",
       "      <td>...</td>\n",
       "      <td>...</td>\n",
       "    </tr>\n",
       "    <tr>\n",
       "      <th>4462</th>\n",
       "      <td>Automotive</td>\n",
       "      <td>\\n\\nFor about $60 (The Works...lower plans available) you get the following:\\n\\n- Oil Change\\n- Engine parts, Wiper Blade, &amp; Tire Pressure check\\n- Vacuumed\\n- Trash cleaned out\\n- Car put through an automated car wash w/ waxing\\n- Full hand-dried w/ soft towels by an attendant\\n- Tires and rims cleaned to a shine\\n- Armor-All applied to leather seats &amp; paneling everywhere\\n- Scent of your choice\\n- I'm sure there's more to it....\\n\\nAll of this takes about 20-30 mins.</td>\n",
       "    </tr>\n",
       "    <tr>\n",
       "      <th>4462</th>\n",
       "      <td>Automotive</td>\n",
       "      <td>\\n\\nFor best experience:\\n+ pre-clean your car of any junk from the trunk or other areas\\n+ If you have adjustable seats (like in my explorer w/ third row) put them in the position you want them to be cleaned in.</td>\n",
       "    </tr>\n",
       "    <tr>\n",
       "      <th>4462</th>\n",
       "      <td>Automotive</td>\n",
       "      <td>\\n+ you can get cash-back from the cashier if needed\\n+ $4.00 off your next one if you go back by the date on the sticker they give you\\n+ if it rains within a day (i think) of getting you car cleaned, bring it back with your receipt and they'll run it through the car wash again for free</td>\n",
       "    </tr>\n",
       "    <tr>\n",
       "      <th>4868</th>\n",
       "      <td>Arts &amp; Entertainment</td>\n",
       "      <td>\\n\\nThings I like about it:\\n-A \"speak easy\" feel.</td>\n",
       "    </tr>\n",
       "    <tr>\n",
       "      <th>4868</th>\n",
       "      <td>Arts &amp; Entertainment</td>\n",
       "      <td>\\n-Funky atmosphere\\n-A good cocktail menu\\n\\nFor me personally, I'm pretty simple and just like a glass of wine, and I thought the prices were a little high for that.</td>\n",
       "    </tr>\n",
       "  </tbody>\n",
       "</table>\n",
       "<p>67 rows × 2 columns</p>\n",
       "</div>"
      ],
      "text/plain": [
       "                  category  \\\n",
       "136                 Hotels   \n",
       "136                 Hotels   \n",
       "517          Beauty & Spas   \n",
       "684   Arts & Entertainment   \n",
       "1002           Restaurants   \n",
       "...                    ...   \n",
       "4462            Automotive   \n",
       "4462            Automotive   \n",
       "4462            Automotive   \n",
       "4868  Arts & Entertainment   \n",
       "4868  Arts & Entertainment   \n",
       "\n",
       "                                                                                                                                                                                                                                                                                                                                                                                                                                                                                                                                                               sentences  \n",
       "136                                                                                                                                                                                                                                                                                                                                                                     \\n\\nIt would have been a perfectly fine four star experience like the other Yelpers had, but they lose 1.5 - 2 stars for the following:\\n\\n-for a period of about 36 hours, we had no hot water.  \n",
       "136                                                                                                                                                                                                                                                                                                                                                                                                                           \\n\\n-The last two days, the main elevators were broken, so the entire 18 floor building was being serviced by a slow-ass service elevator.  \n",
       "517   \\n\\nA couple small reasons for four and not five stars:\\n-A little on the expensive side (probably $8-10 more than a bargain place, wish it was more like 5-6)\\n-I've had to come back because the credit card I swiped / signed for apparently didn't go through due to one of their machines going down...a pretty big inconvenience\\n-The last cut I had was really uneven across the top - one of their newer guys I think just missed a spot, but it was a pretty big miss\\n\\nAll in all a very good and close to great experience and I'll keep coming back.  \n",
       "684                                                                                                                                                                                                                                                                                                                                                                                                                                                                                             \\n\\n+1 for having Big Al Carson play here most nights and he is awesome.  \n",
       "1002                                                                                                                                                                                                                                                                                                                                                                                                                       \\n-----------------------------------------------------------------------------------------------\\n\\nUpdate- I went back and tried the Sushi.  \n",
       "...                                                                                                                                                                                                                                                                                                                                                                                                                                                                                                                                                                  ...  \n",
       "4462                                                                           \\n\\nFor about $60 (The Works...lower plans available) you get the following:\\n\\n- Oil Change\\n- Engine parts, Wiper Blade, & Tire Pressure check\\n- Vacuumed\\n- Trash cleaned out\\n- Car put through an automated car wash w/ waxing\\n- Full hand-dried w/ soft towels by an attendant\\n- Tires and rims cleaned to a shine\\n- Armor-All applied to leather seats & paneling everywhere\\n- Scent of your choice\\n- I'm sure there's more to it....\\n\\nAll of this takes about 20-30 mins.  \n",
       "4462                                                                                                                                                                                                                                                                                                                                                \\n\\nFor best experience:\\n+ pre-clean your car of any junk from the trunk or other areas\\n+ If you have adjustable seats (like in my explorer w/ third row) put them in the position you want them to be cleaned in.  \n",
       "4462                                                                                                                                                                                                                                                                    \\n+ you can get cash-back from the cashier if needed\\n+ $4.00 off your next one if you go back by the date on the sticker they give you\\n+ if it rains within a day (i think) of getting you car cleaned, bring it back with your receipt and they'll run it through the car wash again for free  \n",
       "4868                                                                                                                                                                                                                                                                                                                                                                                                                                                                                                                  \\n\\nThings I like about it:\\n-A \"speak easy\" feel.  \n",
       "4868                                                                                                                                                                                                                                                                                                                                                                                             \\n-Funky atmosphere\\n-A good cocktail menu\\n\\nFor me personally, I'm pretty simple and just like a glass of wine, and I thought the prices were a little high for that.  \n",
       "\n",
       "[67 rows x 2 columns]"
      ]
     },
     "execution_count": 146,
     "metadata": {},
     "output_type": "execute_result"
    }
   ],
   "source": [
    "long_list_df = df[df['sentences'].apply(lambda s: len(re.findall(\"\\n[-+]\", s)) > 0)][['category', 'sentences']]\n",
    "long_list_df"
   ]
  },
  {
   "cell_type": "markdown",
   "id": "c343371c",
   "metadata": {},
   "source": [
    "### Fix"
   ]
  },
  {
   "cell_type": "code",
   "execution_count": 113,
   "id": "f2b20025",
   "metadata": {},
   "outputs": [
    {
     "data": {
      "text/plain": [
       "(7453, 7)"
      ]
     },
     "execution_count": 113,
     "metadata": {},
     "output_type": "execute_result"
    }
   ],
   "source": [
    "from os import listdir\n",
    "import ast\n",
    "\n",
    "data = []\n",
    "for domain in sorted(sampled_comment_df['category'].unique()):\n",
    "    src_path = f\"./LLaMAs_ABSA_SPACE/dataset/full_annotation/{domain}\"\n",
    "#     src_path = f\"./LLaMAs_KP_Generation/train/full_annotation_kp_extract_clustering_sample_0.25_15_kps/{domain}\"\n",
    "    data += [pd.read_pickle(f\"{src_path}/{domain}_done.pkl\")]\n",
    "\n",
    "processed_df = pd.concat(data)\n",
    "processed_df.shape"
   ]
  },
  {
   "cell_type": "code",
   "execution_count": 115,
   "id": "c7d8d3c4",
   "metadata": {
    "scrolled": true
   },
   "outputs": [
    {
     "data": {
      "text/html": [
       "<div>\n",
       "<style scoped>\n",
       "    .dataframe tbody tr th:only-of-type {\n",
       "        vertical-align: middle;\n",
       "    }\n",
       "\n",
       "    .dataframe tbody tr th {\n",
       "        vertical-align: top;\n",
       "    }\n",
       "\n",
       "    .dataframe thead th {\n",
       "        text-align: right;\n",
       "    }\n",
       "</style>\n",
       "<table border=\"1\" class=\"dataframe\">\n",
       "  <thead>\n",
       "    <tr style=\"text-align: right;\">\n",
       "      <th></th>\n",
       "      <th>absa_extractions</th>\n",
       "      <th>review_id</th>\n",
       "      <th>sentences</th>\n",
       "      <th>rating</th>\n",
       "      <th>entity_id</th>\n",
       "      <th>entity_name</th>\n",
       "      <th>category</th>\n",
       "    </tr>\n",
       "  </thead>\n",
       "  <tbody>\n",
       "    <tr>\n",
       "      <th>0</th>\n",
       "      <td>[{'aspect': 'bathroom','sentiment': 'positive'}, {'aspect': 'room','sentiment': 'positive'}]</td>\n",
       "      <td>UR70384224</td>\n",
       "      <td>- Downstairs bathroom is super clean, with modern design - We stayed in Superior Queen.</td>\n",
       "      <td>5</td>\n",
       "      <td>1510471</td>\n",
       "      <td>UNA Hotel Roma</td>\n",
       "      <td>Hotel</td>\n",
       "    </tr>\n",
       "    <tr>\n",
       "      <th>1</th>\n",
       "      <td>[{'aspect':'size','sentiment': 'neutral'}]</td>\n",
       "      <td>UR70384224</td>\n",
       "      <td>It is definitely small.</td>\n",
       "      <td>5</td>\n",
       "      <td>1510471</td>\n",
       "      <td>UNA Hotel Roma</td>\n",
       "      <td>Hotel</td>\n",
       "    </tr>\n",
       "    <tr>\n",
       "      <th>2</th>\n",
       "      <td>[{'aspect': 'cleanliness','sentiment': 'neutral'}]</td>\n",
       "      <td>UR70384224</td>\n",
       "      <td>But clean.</td>\n",
       "      <td>5</td>\n",
       "      <td>1510471</td>\n",
       "      <td>UNA Hotel Roma</td>\n",
       "      <td>Hotel</td>\n",
       "    </tr>\n",
       "    <tr>\n",
       "      <th>3</th>\n",
       "      <td>[{'aspect': 'bed','sentiment': 'positive'}, {'aspect': 'bathroom','sentiment': 'positive'}, {'aspect':'shower','sentiment': 'neutral'}]</td>\n",
       "      <td>UR70384224</td>\n",
       "      <td>- Bed was comfortable - Bathroom was modern and clean - Shower doesn't totally close.</td>\n",
       "      <td>5</td>\n",
       "      <td>1510471</td>\n",
       "      <td>UNA Hotel Roma</td>\n",
       "      <td>Hotel</td>\n",
       "    </tr>\n",
       "    <tr>\n",
       "      <th>4</th>\n",
       "      <td>[{'aspect': 'temperature','sentiment': 'neutral'}]</td>\n",
       "      <td>UR70384224</td>\n",
       "      <td>- Temperature is controlled from the front desk.</td>\n",
       "      <td>5</td>\n",
       "      <td>1510471</td>\n",
       "      <td>UNA Hotel Roma</td>\n",
       "      <td>Hotel</td>\n",
       "    </tr>\n",
       "    <tr>\n",
       "      <th>...</th>\n",
       "      <td>...</td>\n",
       "      <td>...</td>\n",
       "      <td>...</td>\n",
       "      <td>...</td>\n",
       "      <td>...</td>\n",
       "      <td>...</td>\n",
       "      <td>...</td>\n",
       "    </tr>\n",
       "    <tr>\n",
       "      <th>7448</th>\n",
       "      <td>[{'aspect': 'room','sentiment': 'negative'}]</td>\n",
       "      <td>UR82736454</td>\n",
       "      <td>I'm a chipped paint snob, so it is a bit of a turn off when you pay several hundred dollars and walk into a room that needs some repairs.</td>\n",
       "      <td>4</td>\n",
       "      <td>2516007</td>\n",
       "      <td>Hotel Erwin, a Joie de Vivre hotel</td>\n",
       "      <td>Hotel</td>\n",
       "    </tr>\n",
       "    <tr>\n",
       "      <th>7449</th>\n",
       "      <td>[{'aspect': 'hotel details','sentiment': 'neutral'}]</td>\n",
       "      <td>UR82736454</td>\n",
       "      <td>i don't know why those details are so commonly overlooked by upscale hotels.</td>\n",
       "      <td>4</td>\n",
       "      <td>2516007</td>\n",
       "      <td>Hotel Erwin, a Joie de Vivre hotel</td>\n",
       "      <td>Hotel</td>\n",
       "    </tr>\n",
       "    <tr>\n",
       "      <th>7450</th>\n",
       "      <td>[{'aspect': 'hotel','sentiment': 'positive'}]</td>\n",
       "      <td>UR82736454</td>\n",
       "      <td>The best part of the hotel is the 7th floor rooftop deck.</td>\n",
       "      <td>4</td>\n",
       "      <td>2516007</td>\n",
       "      <td>Hotel Erwin, a Joie de Vivre hotel</td>\n",
       "      <td>Hotel</td>\n",
       "    </tr>\n",
       "    <tr>\n",
       "      <th>7451</th>\n",
       "      <td>[{'aspect': 'couch','sentiment': 'neutral'}, {'aspect':'sunset','sentiment': 'positive'}, {'aspect': 'boardwalk','sentiment': 'neutral'}, {'aspect': 'cocktail','sentiment': 'positive'}]</td>\n",
       "      <td>UR82736454</td>\n",
       "      <td>Grab a corner couch at sunset and enjoy the boardwalk scene with a delicious cocktail.</td>\n",
       "      <td>4</td>\n",
       "      <td>2516007</td>\n",
       "      <td>Hotel Erwin, a Joie de Vivre hotel</td>\n",
       "      <td>Hotel</td>\n",
       "    </tr>\n",
       "    <tr>\n",
       "      <th>7452</th>\n",
       "      <td>[{'aspect': 'food','sentiment': 'negative'}, {'aspect': 'drinks','sentiment': 'neutral'}, {'aspect':'restaurants','sentiment': 'positive'}]</td>\n",
       "      <td>UR82736454</td>\n",
       "      <td>The food was not very good, so sip your drinks slowly and save your appetite for the restaurants on Abbott Kinney.</td>\n",
       "      <td>4</td>\n",
       "      <td>2516007</td>\n",
       "      <td>Hotel Erwin, a Joie de Vivre hotel</td>\n",
       "      <td>Hotel</td>\n",
       "    </tr>\n",
       "  </tbody>\n",
       "</table>\n",
       "<p>7453 rows × 7 columns</p>\n",
       "</div>"
      ],
      "text/plain": [
       "                                                                                                                                                                               absa_extractions  \\\n",
       "0                                                                                                  [{'aspect': 'bathroom','sentiment': 'positive'}, {'aspect': 'room','sentiment': 'positive'}]   \n",
       "1                                                                                                                                                    [{'aspect':'size','sentiment': 'neutral'}]   \n",
       "2                                                                                                                                            [{'aspect': 'cleanliness','sentiment': 'neutral'}]   \n",
       "3                                                       [{'aspect': 'bed','sentiment': 'positive'}, {'aspect': 'bathroom','sentiment': 'positive'}, {'aspect':'shower','sentiment': 'neutral'}]   \n",
       "4                                                                                                                                            [{'aspect': 'temperature','sentiment': 'neutral'}]   \n",
       "...                                                                                                                                                                                         ...   \n",
       "7448                                                                                                                                               [{'aspect': 'room','sentiment': 'negative'}]   \n",
       "7449                                                                                                                                       [{'aspect': 'hotel details','sentiment': 'neutral'}]   \n",
       "7450                                                                                                                                              [{'aspect': 'hotel','sentiment': 'positive'}]   \n",
       "7451  [{'aspect': 'couch','sentiment': 'neutral'}, {'aspect':'sunset','sentiment': 'positive'}, {'aspect': 'boardwalk','sentiment': 'neutral'}, {'aspect': 'cocktail','sentiment': 'positive'}]   \n",
       "7452                                                [{'aspect': 'food','sentiment': 'negative'}, {'aspect': 'drinks','sentiment': 'neutral'}, {'aspect':'restaurants','sentiment': 'positive'}]   \n",
       "\n",
       "       review_id  \\\n",
       "0     UR70384224   \n",
       "1     UR70384224   \n",
       "2     UR70384224   \n",
       "3     UR70384224   \n",
       "4     UR70384224   \n",
       "...          ...   \n",
       "7448  UR82736454   \n",
       "7449  UR82736454   \n",
       "7450  UR82736454   \n",
       "7451  UR82736454   \n",
       "7452  UR82736454   \n",
       "\n",
       "                                                                                                                                      sentences  \\\n",
       "0                                                       - Downstairs bathroom is super clean, with modern design - We stayed in Superior Queen.   \n",
       "1                                                                                                                       It is definitely small.   \n",
       "2                                                                                                                                    But clean.   \n",
       "3                                                         - Bed was comfortable - Bathroom was modern and clean - Shower doesn't totally close.   \n",
       "4                                                                                              - Temperature is controlled from the front desk.   \n",
       "...                                                                                                                                         ...   \n",
       "7448  I'm a chipped paint snob, so it is a bit of a turn off when you pay several hundred dollars and walk into a room that needs some repairs.   \n",
       "7449                                                               i don't know why those details are so commonly overlooked by upscale hotels.   \n",
       "7450                                                                                  The best part of the hotel is the 7th floor rooftop deck.   \n",
       "7451                                                     Grab a corner couch at sunset and enjoy the boardwalk scene with a delicious cocktail.   \n",
       "7452                         The food was not very good, so sip your drinks slowly and save your appetite for the restaurants on Abbott Kinney.   \n",
       "\n",
       "      rating entity_id                         entity_name category  \n",
       "0          5   1510471                      UNA Hotel Roma    Hotel  \n",
       "1          5   1510471                      UNA Hotel Roma    Hotel  \n",
       "2          5   1510471                      UNA Hotel Roma    Hotel  \n",
       "3          5   1510471                      UNA Hotel Roma    Hotel  \n",
       "4          5   1510471                      UNA Hotel Roma    Hotel  \n",
       "...      ...       ...                                 ...      ...  \n",
       "7448       4   2516007  Hotel Erwin, a Joie de Vivre hotel    Hotel  \n",
       "7449       4   2516007  Hotel Erwin, a Joie de Vivre hotel    Hotel  \n",
       "7450       4   2516007  Hotel Erwin, a Joie de Vivre hotel    Hotel  \n",
       "7451       4   2516007  Hotel Erwin, a Joie de Vivre hotel    Hotel  \n",
       "7452       4   2516007  Hotel Erwin, a Joie de Vivre hotel    Hotel  \n",
       "\n",
       "[7453 rows x 7 columns]"
      ]
     },
     "execution_count": 115,
     "metadata": {},
     "output_type": "execute_result"
    }
   ],
   "source": [
    "processed_df"
   ]
  },
  {
   "cell_type": "code",
   "execution_count": 116,
   "id": "df0552d1",
   "metadata": {},
   "outputs": [
    {
     "data": {
      "text/plain": [
       "Series([], Name: sentences, dtype: object)"
      ]
     },
     "execution_count": 116,
     "metadata": {},
     "output_type": "execute_result"
    }
   ],
   "source": [
    "import re\n",
    "import numpy as np\n",
    "\n",
    "min_list_size = 0\n",
    "# min_list_size = 1\n",
    "mask = processed_df['sentences'].apply(lambda s: len(re.findall(\"\\n[-+]\", s)) > min_list_size)\n",
    "processed_df[mask]['sentences']"
   ]
  },
  {
   "cell_type": "code",
   "execution_count": 117,
   "id": "94927b62",
   "metadata": {},
   "outputs": [
    {
     "data": {
      "text/html": [
       "<div>\n",
       "<style scoped>\n",
       "    .dataframe tbody tr th:only-of-type {\n",
       "        vertical-align: middle;\n",
       "    }\n",
       "\n",
       "    .dataframe tbody tr th {\n",
       "        vertical-align: top;\n",
       "    }\n",
       "\n",
       "    .dataframe thead th {\n",
       "        text-align: right;\n",
       "    }\n",
       "</style>\n",
       "<table border=\"1\" class=\"dataframe\">\n",
       "  <thead>\n",
       "    <tr style=\"text-align: right;\">\n",
       "      <th></th>\n",
       "      <th>absa_extractions</th>\n",
       "      <th>review_id</th>\n",
       "      <th>sentences</th>\n",
       "      <th>rating</th>\n",
       "      <th>entity_id</th>\n",
       "      <th>entity_name</th>\n",
       "      <th>category</th>\n",
       "    </tr>\n",
       "  </thead>\n",
       "  <tbody>\n",
       "  </tbody>\n",
       "</table>\n",
       "</div>"
      ],
      "text/plain": [
       "Empty DataFrame\n",
       "Columns: [absa_extractions, review_id, sentences, rating, entity_id, entity_name, category]\n",
       "Index: []"
      ]
     },
     "execution_count": 117,
     "metadata": {},
     "output_type": "execute_result"
    }
   ],
   "source": [
    "processed_df[pd.isnull(processed_df['absa_extractions'])]"
   ]
  },
  {
   "cell_type": "code",
   "execution_count": 118,
   "id": "c9c49f49",
   "metadata": {},
   "outputs": [],
   "source": [
    "# processed_df.loc[~mask, 'sentences'] = processed_df.loc[~mask, 'sentences'].apply(lambda x: [x])\n",
    "# processed_df.loc[mask, 'absa_extractions'] = np.nan\n",
    "# processed_df.loc[mask, 'sentences'] = processed_df[mask]['sentences'].apply(lambda s: \n",
    "#                                                         [sent.strip(\"\\n\").strip() for sent in re.split(\"\\n[\\+\\-]+\", s) \n",
    "#                                                          if len(sent.strip(\"\\n\").strip()) > 0 and \n",
    "#                                                          sent.strip(\"\\n\").strip()[-1] != ':'])"
   ]
  },
  {
   "cell_type": "code",
   "execution_count": 119,
   "id": "27bb5be1",
   "metadata": {},
   "outputs": [],
   "source": [
    "# processed_df[pd.isnull(processed_df['absa_extractions'])]"
   ]
  },
  {
   "cell_type": "code",
   "execution_count": 120,
   "id": "59e9135a",
   "metadata": {},
   "outputs": [],
   "source": [
    "# processed_df = processed_df.explode(['sentences'])"
   ]
  },
  {
   "cell_type": "code",
   "execution_count": 121,
   "id": "04ef7630",
   "metadata": {},
   "outputs": [],
   "source": [
    "# processed_df"
   ]
  },
  {
   "cell_type": "markdown",
   "id": "44f51f4a",
   "metadata": {},
   "source": [
    "## Process sentences containing newline"
   ]
  },
  {
   "cell_type": "code",
   "execution_count": 122,
   "id": "e52558da",
   "metadata": {},
   "outputs": [
    {
     "data": {
      "text/html": [
       "<div>\n",
       "<style scoped>\n",
       "    .dataframe tbody tr th:only-of-type {\n",
       "        vertical-align: middle;\n",
       "    }\n",
       "\n",
       "    .dataframe tbody tr th {\n",
       "        vertical-align: top;\n",
       "    }\n",
       "\n",
       "    .dataframe thead th {\n",
       "        text-align: right;\n",
       "    }\n",
       "</style>\n",
       "<table border=\"1\" class=\"dataframe\">\n",
       "  <thead>\n",
       "    <tr style=\"text-align: right;\">\n",
       "      <th></th>\n",
       "      <th>sentences</th>\n",
       "    </tr>\n",
       "  </thead>\n",
       "  <tbody>\n",
       "  </tbody>\n",
       "</table>\n",
       "</div>"
      ],
      "text/plain": [
       "Empty DataFrame\n",
       "Columns: [sentences]\n",
       "Index: []"
      ]
     },
     "execution_count": 122,
     "metadata": {},
     "output_type": "execute_result"
    }
   ],
   "source": [
    "min_repeat = 2\n",
    "mask = processed_df['sentences'].apply(lambda s: re.match(\"^.+\\n{%d,}\" % min_repeat, s.strip(\"\\n\").strip()) != None)\n",
    "processed_df[mask][['sentences']]"
   ]
  },
  {
   "cell_type": "code",
   "execution_count": 123,
   "id": "a896c11f",
   "metadata": {},
   "outputs": [
    {
     "data": {
      "text/plain": [
       "Series([], Name: sentences, dtype: object)"
      ]
     },
     "execution_count": 123,
     "metadata": {},
     "output_type": "execute_result"
    }
   ],
   "source": [
    "processed_df[mask]['sentences'].apply(lambda s: [sent.strip(\"\\n\").strip() for sent in re.split(\"\\n{%d,}\" % min_repeat, s) \n",
    "                                                 if len(sent.strip(\"\\n\").strip()) > 0 and sent.strip(\"\\n\").strip()[-1] != ':'])"
   ]
  },
  {
   "cell_type": "code",
   "execution_count": 124,
   "id": "26650f39",
   "metadata": {},
   "outputs": [],
   "source": [
    "# processed_df.loc[~mask, 'sentences'] = processed_df.loc[~mask, 'sentences'].apply(lambda x: [x])\n",
    "# processed_df.loc[mask, 'absa_extractions'] = np.nan\n",
    "# processed_df.loc[mask, 'sentences'] = processed_df[mask]['sentences'].apply(lambda s: [sent.strip(\"\\n\").strip() for sent in re.split(\"\\n{%d,}\" % min_repeat, s)\n",
    "#                                                                                        if len(sent.strip(\"\\n\").strip()) > 0 and sent.strip(\"\\n\").strip()[-1] != ':'])"
   ]
  },
  {
   "cell_type": "code",
   "execution_count": 125,
   "id": "35fb74df",
   "metadata": {},
   "outputs": [],
   "source": [
    "# processed_df = processed_df.explode(['sentences'])"
   ]
  },
  {
   "cell_type": "code",
   "execution_count": 126,
   "id": "37f0a87a",
   "metadata": {},
   "outputs": [],
   "source": [
    "# processed_df"
   ]
  },
  {
   "cell_type": "markdown",
   "id": "1e98c184",
   "metadata": {},
   "source": [
    "## Remove sent with less than 5 characters"
   ]
  },
  {
   "cell_type": "code",
   "execution_count": 127,
   "id": "e442f36d",
   "metadata": {},
   "outputs": [
    {
     "data": {
      "text/plain": [
       "[]"
      ]
     },
     "execution_count": 127,
     "metadata": {},
     "output_type": "execute_result"
    }
   ],
   "source": [
    "processed_df[processed_df['sentences'].str.len() < 10]['sentences'].tolist()"
   ]
  },
  {
   "cell_type": "code",
   "execution_count": 128,
   "id": "6a4409f6",
   "metadata": {},
   "outputs": [],
   "source": [
    "processed_df = processed_df[processed_df['sentences'].str.len() >= 10]"
   ]
  },
  {
   "cell_type": "code",
   "execution_count": 129,
   "id": "7bb124d5",
   "metadata": {},
   "outputs": [],
   "source": [
    "# processed_df"
   ]
  },
  {
   "cell_type": "code",
   "execution_count": 130,
   "id": "ce07b2c0",
   "metadata": {},
   "outputs": [],
   "source": [
    "processed_df.to_pickle(\"./LLaMAs_ABSA_SPACE/dataset/full_annotation/processed_df.pkl\")"
   ]
  },
  {
   "cell_type": "markdown",
   "id": "3e286eac",
   "metadata": {},
   "source": [
    "## Post-process"
   ]
  },
  {
   "cell_type": "markdown",
   "id": "39a2dfa2",
   "metadata": {},
   "source": [
    "### Fix ' character in the response"
   ]
  },
  {
   "cell_type": "code",
   "execution_count": 50,
   "id": "7a889c31",
   "metadata": {},
   "outputs": [],
   "source": [
    "import pandas as pd\n",
    "import re\n",
    "import ast"
   ]
  },
  {
   "cell_type": "code",
   "execution_count": 51,
   "id": "bd0aa388",
   "metadata": {},
   "outputs": [],
   "source": [
    "processed_df = pd.read_pickle(\"/mnt/c/Users/antan/Desktop/PHD READING/LLMs/LLaMAs_ABSA_SPACE/dataset/full_annotation/processed_df.pkl\")"
   ]
  },
  {
   "cell_type": "code",
   "execution_count": 52,
   "id": "58d1f189",
   "metadata": {
    "scrolled": true
   },
   "outputs": [
    {
     "name": "stderr",
     "output_type": "stream",
     "text": [
      "/tmp/ipykernel_135/3278709864.py:1: UserWarning: This pattern is interpreted as a regular expression, and has match groups. To actually get the groups, use str.extract.\n",
      "  mask = processed_df['absa_extractions'].str.contains(\": *\\'([^':,]*\\'+[^':,]*)+\\' *,\")\n"
     ]
    }
   ],
   "source": [
    "mask = processed_df['absa_extractions'].str.contains(\": *\\'([^':,]*\\'+[^':,]*)+\\' *,\")\n",
    "processed_df.loc[mask, 'absa_extractions'] = processed_df.loc[mask, 'absa_extractions'].apply(\n",
    "    lambda x: re.sub(r\"(: *)\\'((?:[^':,]*\\'+[^':,]*)+)\\'( *,)\", r'\\1\"\\2\"\\3', x))"
   ]
  },
  {
   "cell_type": "code",
   "execution_count": 53,
   "id": "72f865df",
   "metadata": {},
   "outputs": [
    {
     "data": {
      "text/html": [
       "<div>\n",
       "<style scoped>\n",
       "    .dataframe tbody tr th:only-of-type {\n",
       "        vertical-align: middle;\n",
       "    }\n",
       "\n",
       "    .dataframe tbody tr th {\n",
       "        vertical-align: top;\n",
       "    }\n",
       "\n",
       "    .dataframe thead th {\n",
       "        text-align: right;\n",
       "    }\n",
       "</style>\n",
       "<table border=\"1\" class=\"dataframe\">\n",
       "  <thead>\n",
       "    <tr style=\"text-align: right;\">\n",
       "      <th></th>\n",
       "      <th>absa_extractions</th>\n",
       "      <th>review_id</th>\n",
       "      <th>sentences</th>\n",
       "      <th>rating</th>\n",
       "      <th>entity_id</th>\n",
       "      <th>entity_name</th>\n",
       "      <th>category</th>\n",
       "    </tr>\n",
       "  </thead>\n",
       "  <tbody>\n",
       "    <tr>\n",
       "      <th>0</th>\n",
       "      <td>[{'aspect': 'bathroom','sentiment': 'positive'...</td>\n",
       "      <td>UR70384224</td>\n",
       "      <td>- Downstairs bathroom is super clean, with mod...</td>\n",
       "      <td>5</td>\n",
       "      <td>1510471</td>\n",
       "      <td>UNA Hotel Roma</td>\n",
       "      <td>Hotel</td>\n",
       "    </tr>\n",
       "    <tr>\n",
       "      <th>1</th>\n",
       "      <td>[{'aspect':'size','sentiment': 'neutral'}]</td>\n",
       "      <td>UR70384224</td>\n",
       "      <td>It is definitely small.</td>\n",
       "      <td>5</td>\n",
       "      <td>1510471</td>\n",
       "      <td>UNA Hotel Roma</td>\n",
       "      <td>Hotel</td>\n",
       "    </tr>\n",
       "    <tr>\n",
       "      <th>2</th>\n",
       "      <td>[{'aspect': 'cleanliness','sentiment': 'neutra...</td>\n",
       "      <td>UR70384224</td>\n",
       "      <td>But clean.</td>\n",
       "      <td>5</td>\n",
       "      <td>1510471</td>\n",
       "      <td>UNA Hotel Roma</td>\n",
       "      <td>Hotel</td>\n",
       "    </tr>\n",
       "    <tr>\n",
       "      <th>3</th>\n",
       "      <td>[{'aspect': 'bed','sentiment': 'positive'}, {'...</td>\n",
       "      <td>UR70384224</td>\n",
       "      <td>- Bed was comfortable - Bathroom was modern an...</td>\n",
       "      <td>5</td>\n",
       "      <td>1510471</td>\n",
       "      <td>UNA Hotel Roma</td>\n",
       "      <td>Hotel</td>\n",
       "    </tr>\n",
       "    <tr>\n",
       "      <th>4</th>\n",
       "      <td>[{'aspect': 'temperature','sentiment': 'neutra...</td>\n",
       "      <td>UR70384224</td>\n",
       "      <td>- Temperature is controlled from the front desk.</td>\n",
       "      <td>5</td>\n",
       "      <td>1510471</td>\n",
       "      <td>UNA Hotel Roma</td>\n",
       "      <td>Hotel</td>\n",
       "    </tr>\n",
       "    <tr>\n",
       "      <th>...</th>\n",
       "      <td>...</td>\n",
       "      <td>...</td>\n",
       "      <td>...</td>\n",
       "      <td>...</td>\n",
       "      <td>...</td>\n",
       "      <td>...</td>\n",
       "      <td>...</td>\n",
       "    </tr>\n",
       "    <tr>\n",
       "      <th>7448</th>\n",
       "      <td>[{'aspect': 'room','sentiment': 'negative'}]</td>\n",
       "      <td>UR82736454</td>\n",
       "      <td>I'm a chipped paint snob, so it is a bit of a ...</td>\n",
       "      <td>4</td>\n",
       "      <td>2516007</td>\n",
       "      <td>Hotel Erwin, a Joie de Vivre hotel</td>\n",
       "      <td>Hotel</td>\n",
       "    </tr>\n",
       "    <tr>\n",
       "      <th>7449</th>\n",
       "      <td>[{'aspect': 'hotel details','sentiment': 'neut...</td>\n",
       "      <td>UR82736454</td>\n",
       "      <td>i don't know why those details are so commonly...</td>\n",
       "      <td>4</td>\n",
       "      <td>2516007</td>\n",
       "      <td>Hotel Erwin, a Joie de Vivre hotel</td>\n",
       "      <td>Hotel</td>\n",
       "    </tr>\n",
       "    <tr>\n",
       "      <th>7450</th>\n",
       "      <td>[{'aspect': 'hotel','sentiment': 'positive'}]</td>\n",
       "      <td>UR82736454</td>\n",
       "      <td>The best part of the hotel is the 7th floor ro...</td>\n",
       "      <td>4</td>\n",
       "      <td>2516007</td>\n",
       "      <td>Hotel Erwin, a Joie de Vivre hotel</td>\n",
       "      <td>Hotel</td>\n",
       "    </tr>\n",
       "    <tr>\n",
       "      <th>7451</th>\n",
       "      <td>[{'aspect': 'couch','sentiment': 'neutral'}, {...</td>\n",
       "      <td>UR82736454</td>\n",
       "      <td>Grab a corner couch at sunset and enjoy the bo...</td>\n",
       "      <td>4</td>\n",
       "      <td>2516007</td>\n",
       "      <td>Hotel Erwin, a Joie de Vivre hotel</td>\n",
       "      <td>Hotel</td>\n",
       "    </tr>\n",
       "    <tr>\n",
       "      <th>7452</th>\n",
       "      <td>[{'aspect': 'food','sentiment': 'negative'}, {...</td>\n",
       "      <td>UR82736454</td>\n",
       "      <td>The food was not very good, so sip your drinks...</td>\n",
       "      <td>4</td>\n",
       "      <td>2516007</td>\n",
       "      <td>Hotel Erwin, a Joie de Vivre hotel</td>\n",
       "      <td>Hotel</td>\n",
       "    </tr>\n",
       "  </tbody>\n",
       "</table>\n",
       "<p>7453 rows × 7 columns</p>\n",
       "</div>"
      ],
      "text/plain": [
       "                                       absa_extractions   review_id  \\\n",
       "0     [{'aspect': 'bathroom','sentiment': 'positive'...  UR70384224   \n",
       "1            [{'aspect':'size','sentiment': 'neutral'}]  UR70384224   \n",
       "2     [{'aspect': 'cleanliness','sentiment': 'neutra...  UR70384224   \n",
       "3     [{'aspect': 'bed','sentiment': 'positive'}, {'...  UR70384224   \n",
       "4     [{'aspect': 'temperature','sentiment': 'neutra...  UR70384224   \n",
       "...                                                 ...         ...   \n",
       "7448       [{'aspect': 'room','sentiment': 'negative'}]  UR82736454   \n",
       "7449  [{'aspect': 'hotel details','sentiment': 'neut...  UR82736454   \n",
       "7450      [{'aspect': 'hotel','sentiment': 'positive'}]  UR82736454   \n",
       "7451  [{'aspect': 'couch','sentiment': 'neutral'}, {...  UR82736454   \n",
       "7452  [{'aspect': 'food','sentiment': 'negative'}, {...  UR82736454   \n",
       "\n",
       "                                              sentences  rating entity_id  \\\n",
       "0     - Downstairs bathroom is super clean, with mod...       5   1510471   \n",
       "1                               It is definitely small.       5   1510471   \n",
       "2                                            But clean.       5   1510471   \n",
       "3     - Bed was comfortable - Bathroom was modern an...       5   1510471   \n",
       "4      - Temperature is controlled from the front desk.       5   1510471   \n",
       "...                                                 ...     ...       ...   \n",
       "7448  I'm a chipped paint snob, so it is a bit of a ...       4   2516007   \n",
       "7449  i don't know why those details are so commonly...       4   2516007   \n",
       "7450  The best part of the hotel is the 7th floor ro...       4   2516007   \n",
       "7451  Grab a corner couch at sunset and enjoy the bo...       4   2516007   \n",
       "7452  The food was not very good, so sip your drinks...       4   2516007   \n",
       "\n",
       "                             entity_name category  \n",
       "0                         UNA Hotel Roma    Hotel  \n",
       "1                         UNA Hotel Roma    Hotel  \n",
       "2                         UNA Hotel Roma    Hotel  \n",
       "3                         UNA Hotel Roma    Hotel  \n",
       "4                         UNA Hotel Roma    Hotel  \n",
       "...                                  ...      ...  \n",
       "7448  Hotel Erwin, a Joie de Vivre hotel    Hotel  \n",
       "7449  Hotel Erwin, a Joie de Vivre hotel    Hotel  \n",
       "7450  Hotel Erwin, a Joie de Vivre hotel    Hotel  \n",
       "7451  Hotel Erwin, a Joie de Vivre hotel    Hotel  \n",
       "7452  Hotel Erwin, a Joie de Vivre hotel    Hotel  \n",
       "\n",
       "[7453 rows x 7 columns]"
      ]
     },
     "execution_count": 53,
     "metadata": {},
     "output_type": "execute_result"
    }
   ],
   "source": [
    "processed_df"
   ]
  },
  {
   "cell_type": "markdown",
   "id": "5359aadb",
   "metadata": {},
   "source": [
    "### Normalize JSON into columns"
   ]
  },
  {
   "cell_type": "code",
   "execution_count": 54,
   "id": "71e1c2ec",
   "metadata": {},
   "outputs": [],
   "source": [
    "import pandas as pd\n",
    "import json"
   ]
  },
  {
   "cell_type": "code",
   "execution_count": 55,
   "id": "d2d1527f",
   "metadata": {
    "scrolled": false
   },
   "outputs": [
    {
     "data": {
      "text/html": [
       "<div>\n",
       "<style scoped>\n",
       "    .dataframe tbody tr th:only-of-type {\n",
       "        vertical-align: middle;\n",
       "    }\n",
       "\n",
       "    .dataframe tbody tr th {\n",
       "        vertical-align: top;\n",
       "    }\n",
       "\n",
       "    .dataframe thead th {\n",
       "        text-align: right;\n",
       "    }\n",
       "</style>\n",
       "<table border=\"1\" class=\"dataframe\">\n",
       "  <thead>\n",
       "    <tr style=\"text-align: right;\">\n",
       "      <th></th>\n",
       "      <th>absa_extractions</th>\n",
       "      <th>review_id</th>\n",
       "      <th>sentences</th>\n",
       "      <th>rating</th>\n",
       "      <th>entity_id</th>\n",
       "      <th>entity_name</th>\n",
       "      <th>category</th>\n",
       "    </tr>\n",
       "  </thead>\n",
       "  <tbody>\n",
       "    <tr>\n",
       "      <th>0</th>\n",
       "      <td>{'aspect': 'bathroom', 'sentiment': 'positive'}</td>\n",
       "      <td>UR70384224</td>\n",
       "      <td>- Downstairs bathroom is super clean, with mod...</td>\n",
       "      <td>5</td>\n",
       "      <td>1510471</td>\n",
       "      <td>UNA Hotel Roma</td>\n",
       "      <td>Hotel</td>\n",
       "    </tr>\n",
       "    <tr>\n",
       "      <th>0</th>\n",
       "      <td>{'aspect': 'room', 'sentiment': 'positive'}</td>\n",
       "      <td>UR70384224</td>\n",
       "      <td>- Downstairs bathroom is super clean, with mod...</td>\n",
       "      <td>5</td>\n",
       "      <td>1510471</td>\n",
       "      <td>UNA Hotel Roma</td>\n",
       "      <td>Hotel</td>\n",
       "    </tr>\n",
       "    <tr>\n",
       "      <th>1</th>\n",
       "      <td>{'aspect': 'size', 'sentiment': 'neutral'}</td>\n",
       "      <td>UR70384224</td>\n",
       "      <td>It is definitely small.</td>\n",
       "      <td>5</td>\n",
       "      <td>1510471</td>\n",
       "      <td>UNA Hotel Roma</td>\n",
       "      <td>Hotel</td>\n",
       "    </tr>\n",
       "    <tr>\n",
       "      <th>2</th>\n",
       "      <td>{'aspect': 'cleanliness', 'sentiment': 'neutral'}</td>\n",
       "      <td>UR70384224</td>\n",
       "      <td>But clean.</td>\n",
       "      <td>5</td>\n",
       "      <td>1510471</td>\n",
       "      <td>UNA Hotel Roma</td>\n",
       "      <td>Hotel</td>\n",
       "    </tr>\n",
       "    <tr>\n",
       "      <th>3</th>\n",
       "      <td>{'aspect': 'bed', 'sentiment': 'positive'}</td>\n",
       "      <td>UR70384224</td>\n",
       "      <td>- Bed was comfortable - Bathroom was modern an...</td>\n",
       "      <td>5</td>\n",
       "      <td>1510471</td>\n",
       "      <td>UNA Hotel Roma</td>\n",
       "      <td>Hotel</td>\n",
       "    </tr>\n",
       "    <tr>\n",
       "      <th>...</th>\n",
       "      <td>...</td>\n",
       "      <td>...</td>\n",
       "      <td>...</td>\n",
       "      <td>...</td>\n",
       "      <td>...</td>\n",
       "      <td>...</td>\n",
       "      <td>...</td>\n",
       "    </tr>\n",
       "    <tr>\n",
       "      <th>7451</th>\n",
       "      <td>{'aspect': 'boardwalk', 'sentiment': 'neutral'}</td>\n",
       "      <td>UR82736454</td>\n",
       "      <td>Grab a corner couch at sunset and enjoy the bo...</td>\n",
       "      <td>4</td>\n",
       "      <td>2516007</td>\n",
       "      <td>Hotel Erwin, a Joie de Vivre hotel</td>\n",
       "      <td>Hotel</td>\n",
       "    </tr>\n",
       "    <tr>\n",
       "      <th>7451</th>\n",
       "      <td>{'aspect': 'cocktail', 'sentiment': 'positive'}</td>\n",
       "      <td>UR82736454</td>\n",
       "      <td>Grab a corner couch at sunset and enjoy the bo...</td>\n",
       "      <td>4</td>\n",
       "      <td>2516007</td>\n",
       "      <td>Hotel Erwin, a Joie de Vivre hotel</td>\n",
       "      <td>Hotel</td>\n",
       "    </tr>\n",
       "    <tr>\n",
       "      <th>7452</th>\n",
       "      <td>{'aspect': 'food', 'sentiment': 'negative'}</td>\n",
       "      <td>UR82736454</td>\n",
       "      <td>The food was not very good, so sip your drinks...</td>\n",
       "      <td>4</td>\n",
       "      <td>2516007</td>\n",
       "      <td>Hotel Erwin, a Joie de Vivre hotel</td>\n",
       "      <td>Hotel</td>\n",
       "    </tr>\n",
       "    <tr>\n",
       "      <th>7452</th>\n",
       "      <td>{'aspect': 'drinks', 'sentiment': 'neutral'}</td>\n",
       "      <td>UR82736454</td>\n",
       "      <td>The food was not very good, so sip your drinks...</td>\n",
       "      <td>4</td>\n",
       "      <td>2516007</td>\n",
       "      <td>Hotel Erwin, a Joie de Vivre hotel</td>\n",
       "      <td>Hotel</td>\n",
       "    </tr>\n",
       "    <tr>\n",
       "      <th>7452</th>\n",
       "      <td>{'aspect': 'restaurants', 'sentiment': 'positi...</td>\n",
       "      <td>UR82736454</td>\n",
       "      <td>The food was not very good, so sip your drinks...</td>\n",
       "      <td>4</td>\n",
       "      <td>2516007</td>\n",
       "      <td>Hotel Erwin, a Joie de Vivre hotel</td>\n",
       "      <td>Hotel</td>\n",
       "    </tr>\n",
       "  </tbody>\n",
       "</table>\n",
       "<p>11315 rows × 7 columns</p>\n",
       "</div>"
      ],
      "text/plain": [
       "                                       absa_extractions   review_id  \\\n",
       "0       {'aspect': 'bathroom', 'sentiment': 'positive'}  UR70384224   \n",
       "0           {'aspect': 'room', 'sentiment': 'positive'}  UR70384224   \n",
       "1            {'aspect': 'size', 'sentiment': 'neutral'}  UR70384224   \n",
       "2     {'aspect': 'cleanliness', 'sentiment': 'neutral'}  UR70384224   \n",
       "3            {'aspect': 'bed', 'sentiment': 'positive'}  UR70384224   \n",
       "...                                                 ...         ...   \n",
       "7451    {'aspect': 'boardwalk', 'sentiment': 'neutral'}  UR82736454   \n",
       "7451    {'aspect': 'cocktail', 'sentiment': 'positive'}  UR82736454   \n",
       "7452        {'aspect': 'food', 'sentiment': 'negative'}  UR82736454   \n",
       "7452       {'aspect': 'drinks', 'sentiment': 'neutral'}  UR82736454   \n",
       "7452  {'aspect': 'restaurants', 'sentiment': 'positi...  UR82736454   \n",
       "\n",
       "                                              sentences  rating entity_id  \\\n",
       "0     - Downstairs bathroom is super clean, with mod...       5   1510471   \n",
       "0     - Downstairs bathroom is super clean, with mod...       5   1510471   \n",
       "1                               It is definitely small.       5   1510471   \n",
       "2                                            But clean.       5   1510471   \n",
       "3     - Bed was comfortable - Bathroom was modern an...       5   1510471   \n",
       "...                                                 ...     ...       ...   \n",
       "7451  Grab a corner couch at sunset and enjoy the bo...       4   2516007   \n",
       "7451  Grab a corner couch at sunset and enjoy the bo...       4   2516007   \n",
       "7452  The food was not very good, so sip your drinks...       4   2516007   \n",
       "7452  The food was not very good, so sip your drinks...       4   2516007   \n",
       "7452  The food was not very good, so sip your drinks...       4   2516007   \n",
       "\n",
       "                             entity_name category  \n",
       "0                         UNA Hotel Roma    Hotel  \n",
       "0                         UNA Hotel Roma    Hotel  \n",
       "1                         UNA Hotel Roma    Hotel  \n",
       "2                         UNA Hotel Roma    Hotel  \n",
       "3                         UNA Hotel Roma    Hotel  \n",
       "...                                  ...      ...  \n",
       "7451  Hotel Erwin, a Joie de Vivre hotel    Hotel  \n",
       "7451  Hotel Erwin, a Joie de Vivre hotel    Hotel  \n",
       "7452  Hotel Erwin, a Joie de Vivre hotel    Hotel  \n",
       "7452  Hotel Erwin, a Joie de Vivre hotel    Hotel  \n",
       "7452  Hotel Erwin, a Joie de Vivre hotel    Hotel  \n",
       "\n",
       "[11315 rows x 7 columns]"
      ]
     },
     "execution_count": 55,
     "metadata": {},
     "output_type": "execute_result"
    }
   ],
   "source": [
    "processed_df['absa_extractions'] = processed_df['absa_extractions'].str.replace(\"\\n\", \"\")\n",
    "processed_df['absa_extractions'] = processed_df['absa_extractions'].apply(lambda x: ast.literal_eval(x))\n",
    "processed_df= processed_df.explode(['absa_extractions'])\n",
    "processed_df"
   ]
  },
  {
   "cell_type": "code",
   "execution_count": 56,
   "id": "14cf0968",
   "metadata": {},
   "outputs": [
    {
     "data": {
      "text/html": [
       "<div>\n",
       "<style scoped>\n",
       "    .dataframe tbody tr th:only-of-type {\n",
       "        vertical-align: middle;\n",
       "    }\n",
       "\n",
       "    .dataframe tbody tr th {\n",
       "        vertical-align: top;\n",
       "    }\n",
       "\n",
       "    .dataframe thead th {\n",
       "        text-align: right;\n",
       "    }\n",
       "</style>\n",
       "<table border=\"1\" class=\"dataframe\">\n",
       "  <thead>\n",
       "    <tr style=\"text-align: right;\">\n",
       "      <th></th>\n",
       "      <th>review_id</th>\n",
       "      <th>sentences</th>\n",
       "      <th>rating</th>\n",
       "      <th>entity_id</th>\n",
       "      <th>entity_name</th>\n",
       "      <th>category</th>\n",
       "      <th>prompt_aspect</th>\n",
       "      <th>prompt_sentiment</th>\n",
       "      <th>absa_extractions</th>\n",
       "    </tr>\n",
       "  </thead>\n",
       "  <tbody>\n",
       "    <tr>\n",
       "      <th>0</th>\n",
       "      <td>UR70384224</td>\n",
       "      <td>- Downstairs bathroom is super clean, with mod...</td>\n",
       "      <td>5</td>\n",
       "      <td>1510471</td>\n",
       "      <td>UNA Hotel Roma</td>\n",
       "      <td>Hotel</td>\n",
       "      <td>bathroom</td>\n",
       "      <td>positive</td>\n",
       "      <td>NaN</td>\n",
       "    </tr>\n",
       "    <tr>\n",
       "      <th>1</th>\n",
       "      <td>UR70384224</td>\n",
       "      <td>- Downstairs bathroom is super clean, with mod...</td>\n",
       "      <td>5</td>\n",
       "      <td>1510471</td>\n",
       "      <td>UNA Hotel Roma</td>\n",
       "      <td>Hotel</td>\n",
       "      <td>room</td>\n",
       "      <td>positive</td>\n",
       "      <td>NaN</td>\n",
       "    </tr>\n",
       "    <tr>\n",
       "      <th>2</th>\n",
       "      <td>UR70384224</td>\n",
       "      <td>It is definitely small.</td>\n",
       "      <td>5</td>\n",
       "      <td>1510471</td>\n",
       "      <td>UNA Hotel Roma</td>\n",
       "      <td>Hotel</td>\n",
       "      <td>size</td>\n",
       "      <td>neutral</td>\n",
       "      <td>NaN</td>\n",
       "    </tr>\n",
       "    <tr>\n",
       "      <th>3</th>\n",
       "      <td>UR70384224</td>\n",
       "      <td>But clean.</td>\n",
       "      <td>5</td>\n",
       "      <td>1510471</td>\n",
       "      <td>UNA Hotel Roma</td>\n",
       "      <td>Hotel</td>\n",
       "      <td>cleanliness</td>\n",
       "      <td>neutral</td>\n",
       "      <td>NaN</td>\n",
       "    </tr>\n",
       "    <tr>\n",
       "      <th>4</th>\n",
       "      <td>UR70384224</td>\n",
       "      <td>- Bed was comfortable - Bathroom was modern an...</td>\n",
       "      <td>5</td>\n",
       "      <td>1510471</td>\n",
       "      <td>UNA Hotel Roma</td>\n",
       "      <td>Hotel</td>\n",
       "      <td>bed</td>\n",
       "      <td>positive</td>\n",
       "      <td>NaN</td>\n",
       "    </tr>\n",
       "    <tr>\n",
       "      <th>...</th>\n",
       "      <td>...</td>\n",
       "      <td>...</td>\n",
       "      <td>...</td>\n",
       "      <td>...</td>\n",
       "      <td>...</td>\n",
       "      <td>...</td>\n",
       "      <td>...</td>\n",
       "      <td>...</td>\n",
       "      <td>...</td>\n",
       "    </tr>\n",
       "    <tr>\n",
       "      <th>11310</th>\n",
       "      <td>UR82736454</td>\n",
       "      <td>Grab a corner couch at sunset and enjoy the bo...</td>\n",
       "      <td>4</td>\n",
       "      <td>2516007</td>\n",
       "      <td>Hotel Erwin, a Joie de Vivre hotel</td>\n",
       "      <td>Hotel</td>\n",
       "      <td>boardwalk</td>\n",
       "      <td>neutral</td>\n",
       "      <td>NaN</td>\n",
       "    </tr>\n",
       "    <tr>\n",
       "      <th>11311</th>\n",
       "      <td>UR82736454</td>\n",
       "      <td>Grab a corner couch at sunset and enjoy the bo...</td>\n",
       "      <td>4</td>\n",
       "      <td>2516007</td>\n",
       "      <td>Hotel Erwin, a Joie de Vivre hotel</td>\n",
       "      <td>Hotel</td>\n",
       "      <td>cocktail</td>\n",
       "      <td>positive</td>\n",
       "      <td>NaN</td>\n",
       "    </tr>\n",
       "    <tr>\n",
       "      <th>11312</th>\n",
       "      <td>UR82736454</td>\n",
       "      <td>The food was not very good, so sip your drinks...</td>\n",
       "      <td>4</td>\n",
       "      <td>2516007</td>\n",
       "      <td>Hotel Erwin, a Joie de Vivre hotel</td>\n",
       "      <td>Hotel</td>\n",
       "      <td>food</td>\n",
       "      <td>negative</td>\n",
       "      <td>NaN</td>\n",
       "    </tr>\n",
       "    <tr>\n",
       "      <th>11313</th>\n",
       "      <td>UR82736454</td>\n",
       "      <td>The food was not very good, so sip your drinks...</td>\n",
       "      <td>4</td>\n",
       "      <td>2516007</td>\n",
       "      <td>Hotel Erwin, a Joie de Vivre hotel</td>\n",
       "      <td>Hotel</td>\n",
       "      <td>drinks</td>\n",
       "      <td>neutral</td>\n",
       "      <td>NaN</td>\n",
       "    </tr>\n",
       "    <tr>\n",
       "      <th>11314</th>\n",
       "      <td>UR82736454</td>\n",
       "      <td>The food was not very good, so sip your drinks...</td>\n",
       "      <td>4</td>\n",
       "      <td>2516007</td>\n",
       "      <td>Hotel Erwin, a Joie de Vivre hotel</td>\n",
       "      <td>Hotel</td>\n",
       "      <td>restaurants</td>\n",
       "      <td>positive</td>\n",
       "      <td>NaN</td>\n",
       "    </tr>\n",
       "  </tbody>\n",
       "</table>\n",
       "<p>11310 rows × 9 columns</p>\n",
       "</div>"
      ],
      "text/plain": [
       "        review_id                                          sentences  rating  \\\n",
       "0      UR70384224  - Downstairs bathroom is super clean, with mod...       5   \n",
       "1      UR70384224  - Downstairs bathroom is super clean, with mod...       5   \n",
       "2      UR70384224                            It is definitely small.       5   \n",
       "3      UR70384224                                         But clean.       5   \n",
       "4      UR70384224  - Bed was comfortable - Bathroom was modern an...       5   \n",
       "...           ...                                                ...     ...   \n",
       "11310  UR82736454  Grab a corner couch at sunset and enjoy the bo...       4   \n",
       "11311  UR82736454  Grab a corner couch at sunset and enjoy the bo...       4   \n",
       "11312  UR82736454  The food was not very good, so sip your drinks...       4   \n",
       "11313  UR82736454  The food was not very good, so sip your drinks...       4   \n",
       "11314  UR82736454  The food was not very good, so sip your drinks...       4   \n",
       "\n",
       "       entity_id                         entity_name category prompt_aspect  \\\n",
       "0        1510471                      UNA Hotel Roma    Hotel      bathroom   \n",
       "1        1510471                      UNA Hotel Roma    Hotel          room   \n",
       "2        1510471                      UNA Hotel Roma    Hotel          size   \n",
       "3        1510471                      UNA Hotel Roma    Hotel   cleanliness   \n",
       "4        1510471                      UNA Hotel Roma    Hotel           bed   \n",
       "...          ...                                 ...      ...           ...   \n",
       "11310    2516007  Hotel Erwin, a Joie de Vivre hotel    Hotel     boardwalk   \n",
       "11311    2516007  Hotel Erwin, a Joie de Vivre hotel    Hotel      cocktail   \n",
       "11312    2516007  Hotel Erwin, a Joie de Vivre hotel    Hotel          food   \n",
       "11313    2516007  Hotel Erwin, a Joie de Vivre hotel    Hotel        drinks   \n",
       "11314    2516007  Hotel Erwin, a Joie de Vivre hotel    Hotel   restaurants   \n",
       "\n",
       "      prompt_sentiment  absa_extractions  \n",
       "0             positive               NaN  \n",
       "1             positive               NaN  \n",
       "2              neutral               NaN  \n",
       "3              neutral               NaN  \n",
       "4             positive               NaN  \n",
       "...                ...               ...  \n",
       "11310          neutral               NaN  \n",
       "11311         positive               NaN  \n",
       "11312         negative               NaN  \n",
       "11313          neutral               NaN  \n",
       "11314         positive               NaN  \n",
       "\n",
       "[11310 rows x 9 columns]"
      ]
     },
     "execution_count": 56,
     "metadata": {},
     "output_type": "execute_result"
    }
   ],
   "source": [
    "json_struct = json.loads(processed_df.to_json(orient=\"records\"))    \n",
    "processed_df = pd.json_normalize(json_struct)\n",
    "processed_df.columns = [col.replace('absa_extractions.', 'prompt_') for col in processed_df.columns]\n",
    "processed_df = processed_df[pd.notnull(processed_df['prompt_aspect'])]\n",
    "processed_df"
   ]
  },
  {
   "cell_type": "markdown",
   "id": "7644686b",
   "metadata": {},
   "source": [
    "### Standardization"
   ]
  },
  {
   "cell_type": "code",
   "execution_count": 193,
   "id": "a81d9fab",
   "metadata": {
    "scrolled": true
   },
   "outputs": [
    {
     "name": "stderr",
     "output_type": "stream",
     "text": [
      "/home/an/anaconda3/envs/deep_learning_env_2/lib/python3.9/site-packages/spacy/util.py:910: UserWarning: [W095] Model 'en_core_web_sm' (3.4.0) was trained with spaCy v3.4.0 and may not be 100% compatible with the current version (3.7.2). If you see errors or degraded performance, download a newer compatible model or retrain your custom model with the current spaCy version. For more details and available updates, run: python -m spacy validate\n",
      "  warnings.warn(warn_msg)\n"
     ]
    }
   ],
   "source": [
    "import spacy\n",
    "# spacy.require_gpu()\n",
    "nlp = spacy.load('en_core_web_sm')\n",
    "# Standardization\n",
    "processed_df['prompt_aspect_lemm'] = processed_df['prompt_aspect'].apply(\n",
    "    lambda aspect: \" \".join([token.lemma_ for token in nlp(f'{aspect.lower()}')])\n",
    ")"
   ]
  },
  {
   "cell_type": "code",
   "execution_count": 198,
   "id": "8aa5b43b",
   "metadata": {},
   "outputs": [],
   "source": [
    "processed_df.to_pickle(\"./LLaMAs_ABSA_SPACE/dataset/full_annotation/space_dataset_bussiness_filtered_absa_processed.pkl\")"
   ]
  },
  {
   "cell_type": "code",
   "execution_count": null,
   "id": "e06e44e3",
   "metadata": {},
   "outputs": [],
   "source": []
  },
  {
   "cell_type": "code",
   "execution_count": 31,
   "id": "db253cd0",
   "metadata": {},
   "outputs": [
    {
     "ename": "FileNotFoundError",
     "evalue": "[Errno 2] No such file or directory: './LLaMAs_ABSA_SPACE/dataset/full_annotation/space_dataset_bussiness_filtered_absa_processed.pkl'",
     "output_type": "error",
     "traceback": [
      "\u001b[0;31m---------------------------------------------------------------------------\u001b[0m",
      "\u001b[0;31mFileNotFoundError\u001b[0m                         Traceback (most recent call last)",
      "Input \u001b[0;32mIn [31]\u001b[0m, in \u001b[0;36m<cell line: 2>\u001b[0;34m()\u001b[0m\n\u001b[1;32m      1\u001b[0m \u001b[38;5;28;01mimport\u001b[39;00m \u001b[38;5;21;01mpandas\u001b[39;00m \u001b[38;5;28;01mas\u001b[39;00m \u001b[38;5;21;01mpd\u001b[39;00m\n\u001b[0;32m----> 2\u001b[0m processed_df \u001b[38;5;241m=\u001b[39m \u001b[43mpd\u001b[49m\u001b[38;5;241;43m.\u001b[39;49m\u001b[43mread_pickle\u001b[49m\u001b[43m(\u001b[49m\u001b[38;5;124;43m\"\u001b[39;49m\u001b[38;5;124;43m./LLaMAs_ABSA_SPACE/dataset/full_annotation/space_dataset_bussiness_filtered_absa_processed.pkl\u001b[39;49m\u001b[38;5;124;43m\"\u001b[39;49m\u001b[43m)\u001b[49m\n",
      "File \u001b[0;32m~/anaconda3/envs/deep_learning_env_2/lib/python3.9/site-packages/pandas/io/pickle.py:189\u001b[0m, in \u001b[0;36mread_pickle\u001b[0;34m(filepath_or_buffer, compression, storage_options)\u001b[0m\n\u001b[1;32m    125\u001b[0m \u001b[38;5;250m\u001b[39m\u001b[38;5;124;03m\"\"\"\u001b[39;00m\n\u001b[1;32m    126\u001b[0m \u001b[38;5;124;03mLoad pickled pandas object (or any object) from file.\u001b[39;00m\n\u001b[1;32m    127\u001b[0m \n\u001b[0;32m   (...)\u001b[0m\n\u001b[1;32m    186\u001b[0m \u001b[38;5;124;03m4    4    9\u001b[39;00m\n\u001b[1;32m    187\u001b[0m \u001b[38;5;124;03m\"\"\"\u001b[39;00m\n\u001b[1;32m    188\u001b[0m excs_to_catch \u001b[38;5;241m=\u001b[39m (\u001b[38;5;167;01mAttributeError\u001b[39;00m, \u001b[38;5;167;01mImportError\u001b[39;00m, \u001b[38;5;167;01mModuleNotFoundError\u001b[39;00m, \u001b[38;5;167;01mTypeError\u001b[39;00m)\n\u001b[0;32m--> 189\u001b[0m \u001b[38;5;28;01mwith\u001b[39;00m \u001b[43mget_handle\u001b[49m\u001b[43m(\u001b[49m\n\u001b[1;32m    190\u001b[0m \u001b[43m    \u001b[49m\u001b[43mfilepath_or_buffer\u001b[49m\u001b[43m,\u001b[49m\n\u001b[1;32m    191\u001b[0m \u001b[43m    \u001b[49m\u001b[38;5;124;43m\"\u001b[39;49m\u001b[38;5;124;43mrb\u001b[39;49m\u001b[38;5;124;43m\"\u001b[39;49m\u001b[43m,\u001b[49m\n\u001b[1;32m    192\u001b[0m \u001b[43m    \u001b[49m\u001b[43mcompression\u001b[49m\u001b[38;5;241;43m=\u001b[39;49m\u001b[43mcompression\u001b[49m\u001b[43m,\u001b[49m\n\u001b[1;32m    193\u001b[0m \u001b[43m    \u001b[49m\u001b[43mis_text\u001b[49m\u001b[38;5;241;43m=\u001b[39;49m\u001b[38;5;28;43;01mFalse\u001b[39;49;00m\u001b[43m,\u001b[49m\n\u001b[1;32m    194\u001b[0m \u001b[43m    \u001b[49m\u001b[43mstorage_options\u001b[49m\u001b[38;5;241;43m=\u001b[39;49m\u001b[43mstorage_options\u001b[49m\u001b[43m,\u001b[49m\n\u001b[1;32m    195\u001b[0m \u001b[43m\u001b[49m\u001b[43m)\u001b[49m \u001b[38;5;28;01mas\u001b[39;00m handles:\n\u001b[1;32m    196\u001b[0m     \u001b[38;5;66;03m# 1) try standard library Pickle\u001b[39;00m\n\u001b[1;32m    197\u001b[0m     \u001b[38;5;66;03m# 2) try pickle_compat (older pandas version) to handle subclass changes\u001b[39;00m\n\u001b[1;32m    198\u001b[0m     \u001b[38;5;66;03m# 3) try pickle_compat with latin-1 encoding upon a UnicodeDecodeError\u001b[39;00m\n\u001b[1;32m    200\u001b[0m     \u001b[38;5;28;01mtry\u001b[39;00m:\n\u001b[1;32m    201\u001b[0m         \u001b[38;5;66;03m# TypeError for Cython complaints about object.__new__ vs Tick.__new__\u001b[39;00m\n\u001b[1;32m    202\u001b[0m         \u001b[38;5;28;01mtry\u001b[39;00m:\n",
      "File \u001b[0;32m~/anaconda3/envs/deep_learning_env_2/lib/python3.9/site-packages/pandas/io/common.py:872\u001b[0m, in \u001b[0;36mget_handle\u001b[0;34m(path_or_buf, mode, encoding, compression, memory_map, is_text, errors, storage_options)\u001b[0m\n\u001b[1;32m    863\u001b[0m         handle \u001b[38;5;241m=\u001b[39m \u001b[38;5;28mopen\u001b[39m(\n\u001b[1;32m    864\u001b[0m             handle,\n\u001b[1;32m    865\u001b[0m             ioargs\u001b[38;5;241m.\u001b[39mmode,\n\u001b[0;32m   (...)\u001b[0m\n\u001b[1;32m    868\u001b[0m             newline\u001b[38;5;241m=\u001b[39m\u001b[38;5;124m\"\u001b[39m\u001b[38;5;124m\"\u001b[39m,\n\u001b[1;32m    869\u001b[0m         )\n\u001b[1;32m    870\u001b[0m     \u001b[38;5;28;01melse\u001b[39;00m:\n\u001b[1;32m    871\u001b[0m         \u001b[38;5;66;03m# Binary mode\u001b[39;00m\n\u001b[0;32m--> 872\u001b[0m         handle \u001b[38;5;241m=\u001b[39m \u001b[38;5;28;43mopen\u001b[39;49m\u001b[43m(\u001b[49m\u001b[43mhandle\u001b[49m\u001b[43m,\u001b[49m\u001b[43m \u001b[49m\u001b[43mioargs\u001b[49m\u001b[38;5;241;43m.\u001b[39;49m\u001b[43mmode\u001b[49m\u001b[43m)\u001b[49m\n\u001b[1;32m    873\u001b[0m     handles\u001b[38;5;241m.\u001b[39mappend(handle)\n\u001b[1;32m    875\u001b[0m \u001b[38;5;66;03m# Convert BytesIO or file objects passed with an encoding\u001b[39;00m\n",
      "\u001b[0;31mFileNotFoundError\u001b[0m: [Errno 2] No such file or directory: './LLaMAs_ABSA_SPACE/dataset/full_annotation/space_dataset_bussiness_filtered_absa_processed.pkl'"
     ]
    }
   ],
   "source": [
    "import pandas as pd\n",
    "processed_df = pd.read_pickle(\"./LLaMAs_ABSA_SPACE/dataset/full_annotation/space_dataset_bussiness_filtered_absa_processed.pkl\")"
   ]
  },
  {
   "cell_type": "code",
   "execution_count": 32,
   "id": "e21426f4",
   "metadata": {},
   "outputs": [
    {
     "data": {
      "text/html": [
       "<div>\n",
       "<style scoped>\n",
       "    .dataframe tbody tr th:only-of-type {\n",
       "        vertical-align: middle;\n",
       "    }\n",
       "\n",
       "    .dataframe tbody tr th {\n",
       "        vertical-align: top;\n",
       "    }\n",
       "\n",
       "    .dataframe thead th {\n",
       "        text-align: right;\n",
       "    }\n",
       "</style>\n",
       "<table border=\"1\" class=\"dataframe\">\n",
       "  <thead>\n",
       "    <tr style=\"text-align: right;\">\n",
       "      <th></th>\n",
       "      <th>review_id</th>\n",
       "      <th>sentences</th>\n",
       "      <th>rating</th>\n",
       "      <th>entity_id</th>\n",
       "      <th>entity_name</th>\n",
       "      <th>category</th>\n",
       "      <th>prompt_aspect</th>\n",
       "      <th>prompt_sentiment</th>\n",
       "      <th>absa_extractions</th>\n",
       "    </tr>\n",
       "  </thead>\n",
       "  <tbody>\n",
       "  </tbody>\n",
       "</table>\n",
       "</div>"
      ],
      "text/plain": [
       "Empty DataFrame\n",
       "Columns: [review_id, sentences, rating, entity_id, entity_name, category, prompt_aspect, prompt_sentiment, absa_extractions]\n",
       "Index: []"
      ]
     },
     "execution_count": 32,
     "metadata": {},
     "output_type": "execute_result"
    }
   ],
   "source": [
    "processed_df[pd.notnull(processed_df['absa_extractions'])]"
   ]
  },
  {
   "cell_type": "code",
   "execution_count": null,
   "id": "6a982d3a",
   "metadata": {},
   "outputs": [],
   "source": []
  }
 ],
 "metadata": {
  "kernelspec": {
   "display_name": "Python 3 (ipykernel)",
   "language": "python",
   "name": "python3"
  },
  "language_info": {
   "codemirror_mode": {
    "name": "ipython",
    "version": 3
   },
   "file_extension": ".py",
   "mimetype": "text/x-python",
   "name": "python",
   "nbconvert_exporter": "python",
   "pygments_lexer": "ipython3",
   "version": "3.9.12"
  },
  "toc": {
   "base_numbering": 1,
   "nav_menu": {},
   "number_sections": true,
   "sideBar": true,
   "skip_h1_title": false,
   "title_cell": "Table of Contents",
   "title_sidebar": "Contents",
   "toc_cell": false,
   "toc_position": {
    "height": "calc(100% - 180px)",
    "left": "10px",
    "top": "150px",
    "width": "372.362px"
   },
   "toc_section_display": true,
   "toc_window_display": true
  }
 },
 "nbformat": 4,
 "nbformat_minor": 5
}
